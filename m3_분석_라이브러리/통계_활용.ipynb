{
  "nbformat": 4,
  "nbformat_minor": 0,
  "metadata": {
    "colab": {
      "provenance": [],
      "include_colab_link": true
    },
    "kernelspec": {
      "name": "python3",
      "display_name": "Python 3"
    },
    "language_info": {
      "name": "python"
    }
  },
  "cells": [
    {
      "cell_type": "markdown",
      "metadata": {
        "id": "view-in-github",
        "colab_type": "text"
      },
      "source": [
        "<a href=\"https://colab.research.google.com/github/sojiseung/sjs0424/blob/main/m3_%EB%B6%84%EC%84%9D_%EB%9D%BC%EC%9D%B4%EB%B8%8C%EB%9F%AC%EB%A6%AC/%ED%86%B5%EA%B3%84_%ED%99%9C%EC%9A%A9.ipynb\" target=\"_parent\"><img src=\"https://colab.research.google.com/assets/colab-badge.svg\" alt=\"Open In Colab\"/></a>"
      ]
    },
    {
      "cell_type": "code",
      "source": [
        "import numpy as np\n",
        "import pandas as pd"
      ],
      "metadata": {
        "id": "i50LMimm5pVg"
      },
      "execution_count": 1,
      "outputs": []
    },
    {
      "cell_type": "markdown",
      "source": [
        "Q. 한 학급의 학생 10명의 수학 시험 점수는 다음과 같습니다:\n",
        "\n",
        "[85, 72, 90, 68, 88, 76, 95, 89, 77, 84].\n",
        "\n",
        "학급의 평균 점수와 표준편차를 계산하여 전체 성적 수준과 변동성을 파악하세요. 이 데이터에서 어떤 인사이트를 얻을 수 있습니까?"
      ],
      "metadata": {
        "id": "e792XRaG0FGg"
      }
    },
    {
      "cell_type": "code",
      "source": [
        "scores = np.array([85, 72, 90, 68, 88, 76, 95, 89, 77, 84])\n",
        "\n",
        "mean = np.mean(scores)\n",
        "std_dev = np.std(scores)\n",
        "\n",
        "print(f'Mean : {mean}, Standard Deviation : {std_dev}')\n",
        "\n",
        "# 인사이트 해석\n",
        "# 평균은 학급의 전체 성적 수준을 나타내고, 표준편차는 성적의 변동성을 나타냅니다.\n",
        "if std_dev > 10:\n",
        "  print('성적 변동성이 큽니다.')\n",
        "else:\n",
        "  print('성적 변동성이 작습니다.')"
      ],
      "metadata": {
        "colab": {
          "base_uri": "https://localhost:8080/"
        },
        "id": "5F-5hrPRQHjF",
        "outputId": "dbf489bd-da0e-4537-a345-f2ec99786790"
      },
      "execution_count": 24,
      "outputs": [
        {
          "output_type": "stream",
          "name": "stdout",
          "text": [
            "Mean : 82.4, Standard Deviation : 8.284926070883191\n"
          ]
        }
      ]
    },
    {
      "cell_type": "code",
      "source": [
        "data = [85, 72, 90, 68, 88, 76, 95, 89, 77, 84]\n",
        "bins = [0, 60, 70, 80, 90, 100]\n",
        "labels = ['F','D','C','B','A']\n",
        "df = pd.DataFrame(data, columns=['math'])\n",
        "df['mean'] = df['math'].mean()\n",
        "df['std'] = df['math'].std()\n",
        "df['class'] = pd.cut(df['math'], bins=bins, labels=labels)\n",
        "df"
      ],
      "metadata": {
        "colab": {
          "base_uri": "https://localhost:8080/",
          "height": 362
        },
        "id": "5RoTw9lw5c-Y",
        "outputId": "6e4735a2-234e-4c3c-82b4-83540b49b71d"
      },
      "execution_count": 21,
      "outputs": [
        {
          "output_type": "execute_result",
          "data": {
            "text/plain": [
              "   math  mean       std class\n",
              "0    85  82.4  8.733079     B\n",
              "1    72  82.4  8.733079     C\n",
              "2    90  82.4  8.733079     B\n",
              "3    68  82.4  8.733079     D\n",
              "4    88  82.4  8.733079     B\n",
              "5    76  82.4  8.733079     C\n",
              "6    95  82.4  8.733079     A\n",
              "7    89  82.4  8.733079     B\n",
              "8    77  82.4  8.733079     C\n",
              "9    84  82.4  8.733079     B"
            ],
            "text/html": [
              "\n",
              "  <div id=\"df-f2b92a3f-6ed5-455d-aca7-80a8bd29a2c6\" class=\"colab-df-container\">\n",
              "    <div>\n",
              "<style scoped>\n",
              "    .dataframe tbody tr th:only-of-type {\n",
              "        vertical-align: middle;\n",
              "    }\n",
              "\n",
              "    .dataframe tbody tr th {\n",
              "        vertical-align: top;\n",
              "    }\n",
              "\n",
              "    .dataframe thead th {\n",
              "        text-align: right;\n",
              "    }\n",
              "</style>\n",
              "<table border=\"1\" class=\"dataframe\">\n",
              "  <thead>\n",
              "    <tr style=\"text-align: right;\">\n",
              "      <th></th>\n",
              "      <th>math</th>\n",
              "      <th>mean</th>\n",
              "      <th>std</th>\n",
              "      <th>class</th>\n",
              "    </tr>\n",
              "  </thead>\n",
              "  <tbody>\n",
              "    <tr>\n",
              "      <th>0</th>\n",
              "      <td>85</td>\n",
              "      <td>82.4</td>\n",
              "      <td>8.733079</td>\n",
              "      <td>B</td>\n",
              "    </tr>\n",
              "    <tr>\n",
              "      <th>1</th>\n",
              "      <td>72</td>\n",
              "      <td>82.4</td>\n",
              "      <td>8.733079</td>\n",
              "      <td>C</td>\n",
              "    </tr>\n",
              "    <tr>\n",
              "      <th>2</th>\n",
              "      <td>90</td>\n",
              "      <td>82.4</td>\n",
              "      <td>8.733079</td>\n",
              "      <td>B</td>\n",
              "    </tr>\n",
              "    <tr>\n",
              "      <th>3</th>\n",
              "      <td>68</td>\n",
              "      <td>82.4</td>\n",
              "      <td>8.733079</td>\n",
              "      <td>D</td>\n",
              "    </tr>\n",
              "    <tr>\n",
              "      <th>4</th>\n",
              "      <td>88</td>\n",
              "      <td>82.4</td>\n",
              "      <td>8.733079</td>\n",
              "      <td>B</td>\n",
              "    </tr>\n",
              "    <tr>\n",
              "      <th>5</th>\n",
              "      <td>76</td>\n",
              "      <td>82.4</td>\n",
              "      <td>8.733079</td>\n",
              "      <td>C</td>\n",
              "    </tr>\n",
              "    <tr>\n",
              "      <th>6</th>\n",
              "      <td>95</td>\n",
              "      <td>82.4</td>\n",
              "      <td>8.733079</td>\n",
              "      <td>A</td>\n",
              "    </tr>\n",
              "    <tr>\n",
              "      <th>7</th>\n",
              "      <td>89</td>\n",
              "      <td>82.4</td>\n",
              "      <td>8.733079</td>\n",
              "      <td>B</td>\n",
              "    </tr>\n",
              "    <tr>\n",
              "      <th>8</th>\n",
              "      <td>77</td>\n",
              "      <td>82.4</td>\n",
              "      <td>8.733079</td>\n",
              "      <td>C</td>\n",
              "    </tr>\n",
              "    <tr>\n",
              "      <th>9</th>\n",
              "      <td>84</td>\n",
              "      <td>82.4</td>\n",
              "      <td>8.733079</td>\n",
              "      <td>B</td>\n",
              "    </tr>\n",
              "  </tbody>\n",
              "</table>\n",
              "</div>\n",
              "    <div class=\"colab-df-buttons\">\n",
              "\n",
              "  <div class=\"colab-df-container\">\n",
              "    <button class=\"colab-df-convert\" onclick=\"convertToInteractive('df-f2b92a3f-6ed5-455d-aca7-80a8bd29a2c6')\"\n",
              "            title=\"Convert this dataframe to an interactive table.\"\n",
              "            style=\"display:none;\">\n",
              "\n",
              "  <svg xmlns=\"http://www.w3.org/2000/svg\" height=\"24px\" viewBox=\"0 -960 960 960\">\n",
              "    <path d=\"M120-120v-720h720v720H120Zm60-500h600v-160H180v160Zm220 220h160v-160H400v160Zm0 220h160v-160H400v160ZM180-400h160v-160H180v160Zm440 0h160v-160H620v160ZM180-180h160v-160H180v160Zm440 0h160v-160H620v160Z\"/>\n",
              "  </svg>\n",
              "    </button>\n",
              "\n",
              "  <style>\n",
              "    .colab-df-container {\n",
              "      display:flex;\n",
              "      gap: 12px;\n",
              "    }\n",
              "\n",
              "    .colab-df-convert {\n",
              "      background-color: #E8F0FE;\n",
              "      border: none;\n",
              "      border-radius: 50%;\n",
              "      cursor: pointer;\n",
              "      display: none;\n",
              "      fill: #1967D2;\n",
              "      height: 32px;\n",
              "      padding: 0 0 0 0;\n",
              "      width: 32px;\n",
              "    }\n",
              "\n",
              "    .colab-df-convert:hover {\n",
              "      background-color: #E2EBFA;\n",
              "      box-shadow: 0px 1px 2px rgba(60, 64, 67, 0.3), 0px 1px 3px 1px rgba(60, 64, 67, 0.15);\n",
              "      fill: #174EA6;\n",
              "    }\n",
              "\n",
              "    .colab-df-buttons div {\n",
              "      margin-bottom: 4px;\n",
              "    }\n",
              "\n",
              "    [theme=dark] .colab-df-convert {\n",
              "      background-color: #3B4455;\n",
              "      fill: #D2E3FC;\n",
              "    }\n",
              "\n",
              "    [theme=dark] .colab-df-convert:hover {\n",
              "      background-color: #434B5C;\n",
              "      box-shadow: 0px 1px 3px 1px rgba(0, 0, 0, 0.15);\n",
              "      filter: drop-shadow(0px 1px 2px rgba(0, 0, 0, 0.3));\n",
              "      fill: #FFFFFF;\n",
              "    }\n",
              "  </style>\n",
              "\n",
              "    <script>\n",
              "      const buttonEl =\n",
              "        document.querySelector('#df-f2b92a3f-6ed5-455d-aca7-80a8bd29a2c6 button.colab-df-convert');\n",
              "      buttonEl.style.display =\n",
              "        google.colab.kernel.accessAllowed ? 'block' : 'none';\n",
              "\n",
              "      async function convertToInteractive(key) {\n",
              "        const element = document.querySelector('#df-f2b92a3f-6ed5-455d-aca7-80a8bd29a2c6');\n",
              "        const dataTable =\n",
              "          await google.colab.kernel.invokeFunction('convertToInteractive',\n",
              "                                                    [key], {});\n",
              "        if (!dataTable) return;\n",
              "\n",
              "        const docLinkHtml = 'Like what you see? Visit the ' +\n",
              "          '<a target=\"_blank\" href=https://colab.research.google.com/notebooks/data_table.ipynb>data table notebook</a>'\n",
              "          + ' to learn more about interactive tables.';\n",
              "        element.innerHTML = '';\n",
              "        dataTable['output_type'] = 'display_data';\n",
              "        await google.colab.output.renderOutput(dataTable, element);\n",
              "        const docLink = document.createElement('div');\n",
              "        docLink.innerHTML = docLinkHtml;\n",
              "        element.appendChild(docLink);\n",
              "      }\n",
              "    </script>\n",
              "  </div>\n",
              "\n",
              "\n",
              "<div id=\"df-6445dfee-365f-44ce-800a-fbf51e45b245\">\n",
              "  <button class=\"colab-df-quickchart\" onclick=\"quickchart('df-6445dfee-365f-44ce-800a-fbf51e45b245')\"\n",
              "            title=\"Suggest charts\"\n",
              "            style=\"display:none;\">\n",
              "\n",
              "<svg xmlns=\"http://www.w3.org/2000/svg\" height=\"24px\"viewBox=\"0 0 24 24\"\n",
              "     width=\"24px\">\n",
              "    <g>\n",
              "        <path d=\"M19 3H5c-1.1 0-2 .9-2 2v14c0 1.1.9 2 2 2h14c1.1 0 2-.9 2-2V5c0-1.1-.9-2-2-2zM9 17H7v-7h2v7zm4 0h-2V7h2v10zm4 0h-2v-4h2v4z\"/>\n",
              "    </g>\n",
              "</svg>\n",
              "  </button>\n",
              "\n",
              "<style>\n",
              "  .colab-df-quickchart {\n",
              "      --bg-color: #E8F0FE;\n",
              "      --fill-color: #1967D2;\n",
              "      --hover-bg-color: #E2EBFA;\n",
              "      --hover-fill-color: #174EA6;\n",
              "      --disabled-fill-color: #AAA;\n",
              "      --disabled-bg-color: #DDD;\n",
              "  }\n",
              "\n",
              "  [theme=dark] .colab-df-quickchart {\n",
              "      --bg-color: #3B4455;\n",
              "      --fill-color: #D2E3FC;\n",
              "      --hover-bg-color: #434B5C;\n",
              "      --hover-fill-color: #FFFFFF;\n",
              "      --disabled-bg-color: #3B4455;\n",
              "      --disabled-fill-color: #666;\n",
              "  }\n",
              "\n",
              "  .colab-df-quickchart {\n",
              "    background-color: var(--bg-color);\n",
              "    border: none;\n",
              "    border-radius: 50%;\n",
              "    cursor: pointer;\n",
              "    display: none;\n",
              "    fill: var(--fill-color);\n",
              "    height: 32px;\n",
              "    padding: 0;\n",
              "    width: 32px;\n",
              "  }\n",
              "\n",
              "  .colab-df-quickchart:hover {\n",
              "    background-color: var(--hover-bg-color);\n",
              "    box-shadow: 0 1px 2px rgba(60, 64, 67, 0.3), 0 1px 3px 1px rgba(60, 64, 67, 0.15);\n",
              "    fill: var(--button-hover-fill-color);\n",
              "  }\n",
              "\n",
              "  .colab-df-quickchart-complete:disabled,\n",
              "  .colab-df-quickchart-complete:disabled:hover {\n",
              "    background-color: var(--disabled-bg-color);\n",
              "    fill: var(--disabled-fill-color);\n",
              "    box-shadow: none;\n",
              "  }\n",
              "\n",
              "  .colab-df-spinner {\n",
              "    border: 2px solid var(--fill-color);\n",
              "    border-color: transparent;\n",
              "    border-bottom-color: var(--fill-color);\n",
              "    animation:\n",
              "      spin 1s steps(1) infinite;\n",
              "  }\n",
              "\n",
              "  @keyframes spin {\n",
              "    0% {\n",
              "      border-color: transparent;\n",
              "      border-bottom-color: var(--fill-color);\n",
              "      border-left-color: var(--fill-color);\n",
              "    }\n",
              "    20% {\n",
              "      border-color: transparent;\n",
              "      border-left-color: var(--fill-color);\n",
              "      border-top-color: var(--fill-color);\n",
              "    }\n",
              "    30% {\n",
              "      border-color: transparent;\n",
              "      border-left-color: var(--fill-color);\n",
              "      border-top-color: var(--fill-color);\n",
              "      border-right-color: var(--fill-color);\n",
              "    }\n",
              "    40% {\n",
              "      border-color: transparent;\n",
              "      border-right-color: var(--fill-color);\n",
              "      border-top-color: var(--fill-color);\n",
              "    }\n",
              "    60% {\n",
              "      border-color: transparent;\n",
              "      border-right-color: var(--fill-color);\n",
              "    }\n",
              "    80% {\n",
              "      border-color: transparent;\n",
              "      border-right-color: var(--fill-color);\n",
              "      border-bottom-color: var(--fill-color);\n",
              "    }\n",
              "    90% {\n",
              "      border-color: transparent;\n",
              "      border-bottom-color: var(--fill-color);\n",
              "    }\n",
              "  }\n",
              "</style>\n",
              "\n",
              "  <script>\n",
              "    async function quickchart(key) {\n",
              "      const quickchartButtonEl =\n",
              "        document.querySelector('#' + key + ' button');\n",
              "      quickchartButtonEl.disabled = true;  // To prevent multiple clicks.\n",
              "      quickchartButtonEl.classList.add('colab-df-spinner');\n",
              "      try {\n",
              "        const charts = await google.colab.kernel.invokeFunction(\n",
              "            'suggestCharts', [key], {});\n",
              "      } catch (error) {\n",
              "        console.error('Error during call to suggestCharts:', error);\n",
              "      }\n",
              "      quickchartButtonEl.classList.remove('colab-df-spinner');\n",
              "      quickchartButtonEl.classList.add('colab-df-quickchart-complete');\n",
              "    }\n",
              "    (() => {\n",
              "      let quickchartButtonEl =\n",
              "        document.querySelector('#df-6445dfee-365f-44ce-800a-fbf51e45b245 button');\n",
              "      quickchartButtonEl.style.display =\n",
              "        google.colab.kernel.accessAllowed ? 'block' : 'none';\n",
              "    })();\n",
              "  </script>\n",
              "</div>\n",
              "\n",
              "  <div id=\"id_02b7c30c-0635-459a-8774-76486d81e6cd\">\n",
              "    <style>\n",
              "      .colab-df-generate {\n",
              "        background-color: #E8F0FE;\n",
              "        border: none;\n",
              "        border-radius: 50%;\n",
              "        cursor: pointer;\n",
              "        display: none;\n",
              "        fill: #1967D2;\n",
              "        height: 32px;\n",
              "        padding: 0 0 0 0;\n",
              "        width: 32px;\n",
              "      }\n",
              "\n",
              "      .colab-df-generate:hover {\n",
              "        background-color: #E2EBFA;\n",
              "        box-shadow: 0px 1px 2px rgba(60, 64, 67, 0.3), 0px 1px 3px 1px rgba(60, 64, 67, 0.15);\n",
              "        fill: #174EA6;\n",
              "      }\n",
              "\n",
              "      [theme=dark] .colab-df-generate {\n",
              "        background-color: #3B4455;\n",
              "        fill: #D2E3FC;\n",
              "      }\n",
              "\n",
              "      [theme=dark] .colab-df-generate:hover {\n",
              "        background-color: #434B5C;\n",
              "        box-shadow: 0px 1px 3px 1px rgba(0, 0, 0, 0.15);\n",
              "        filter: drop-shadow(0px 1px 2px rgba(0, 0, 0, 0.3));\n",
              "        fill: #FFFFFF;\n",
              "      }\n",
              "    </style>\n",
              "    <button class=\"colab-df-generate\" onclick=\"generateWithVariable('df')\"\n",
              "            title=\"Generate code using this dataframe.\"\n",
              "            style=\"display:none;\">\n",
              "\n",
              "  <svg xmlns=\"http://www.w3.org/2000/svg\" height=\"24px\"viewBox=\"0 0 24 24\"\n",
              "       width=\"24px\">\n",
              "    <path d=\"M7,19H8.4L18.45,9,17,7.55,7,17.6ZM5,21V16.75L18.45,3.32a2,2,0,0,1,2.83,0l1.4,1.43a1.91,1.91,0,0,1,.58,1.4,1.91,1.91,0,0,1-.58,1.4L9.25,21ZM18.45,9,17,7.55Zm-12,3A5.31,5.31,0,0,0,4.9,8.1,5.31,5.31,0,0,0,1,6.5,5.31,5.31,0,0,0,4.9,4.9,5.31,5.31,0,0,0,6.5,1,5.31,5.31,0,0,0,8.1,4.9,5.31,5.31,0,0,0,12,6.5,5.46,5.46,0,0,0,6.5,12Z\"/>\n",
              "  </svg>\n",
              "    </button>\n",
              "    <script>\n",
              "      (() => {\n",
              "      const buttonEl =\n",
              "        document.querySelector('#id_02b7c30c-0635-459a-8774-76486d81e6cd button.colab-df-generate');\n",
              "      buttonEl.style.display =\n",
              "        google.colab.kernel.accessAllowed ? 'block' : 'none';\n",
              "\n",
              "      buttonEl.onclick = () => {\n",
              "        google.colab.notebook.generateWithVariable('df');\n",
              "      }\n",
              "      })();\n",
              "    </script>\n",
              "  </div>\n",
              "\n",
              "    </div>\n",
              "  </div>\n"
            ],
            "application/vnd.google.colaboratory.intrinsic+json": {
              "type": "dataframe",
              "variable_name": "df",
              "summary": "{\n  \"name\": \"df\",\n  \"rows\": 10,\n  \"fields\": [\n    {\n      \"column\": \"math\",\n      \"properties\": {\n        \"dtype\": \"number\",\n        \"std\": 8,\n        \"min\": 68,\n        \"max\": 95,\n        \"num_unique_values\": 10,\n        \"samples\": [\n          77,\n          72,\n          76\n        ],\n        \"semantic_type\": \"\",\n        \"description\": \"\"\n      }\n    },\n    {\n      \"column\": \"mean\",\n      \"properties\": {\n        \"dtype\": \"number\",\n        \"std\": 0.0,\n        \"min\": 82.4,\n        \"max\": 82.4,\n        \"num_unique_values\": 1,\n        \"samples\": [\n          82.4\n        ],\n        \"semantic_type\": \"\",\n        \"description\": \"\"\n      }\n    },\n    {\n      \"column\": \"std\",\n      \"properties\": {\n        \"dtype\": \"number\",\n        \"std\": 1.8724445165742407e-15,\n        \"min\": 8.733078876700167,\n        \"max\": 8.733078876700167,\n        \"num_unique_values\": 1,\n        \"samples\": [\n          8.733078876700167\n        ],\n        \"semantic_type\": \"\",\n        \"description\": \"\"\n      }\n    },\n    {\n      \"column\": \"class\",\n      \"properties\": {\n        \"dtype\": \"category\",\n        \"num_unique_values\": 4,\n        \"samples\": [\n          \"C\"\n        ],\n        \"semantic_type\": \"\",\n        \"description\": \"\"\n      }\n    }\n  ]\n}"
            }
          },
          "metadata": {},
          "execution_count": 21
        }
      ]
    },
    {
      "cell_type": "markdown",
      "source": [
        "Q. 어느 도시에 지난 1년간 매달 내린 강수량 데이터는 다음과 같습니다:\n",
        "\n",
        "[85, 90, 78, 110, 88, 76, 120, 89, 77, 91, 100, 95].\n",
        "\n",
        "이 데이터를 이용해 중간값과 1사분위수, 3사분위수를 계산하여 강수량의 분포를 파악하세요. 이 데이터에서 어떤 인사이트를 얻을 수 있습니까?"
      ],
      "metadata": {
        "id": "h0kiAS2w0Ge0"
      }
    },
    {
      "cell_type": "code",
      "source": [
        "rainfall = np.array([85, 90, 78, 110, 88, 76, 120, 89, 77, 91, 100, 95])\n",
        "\n",
        "# 중간값 밒 사분위수 계산\n",
        "median = np.median(rainfall)\n",
        "q1 = np.percentile(rainfall, 25)\n",
        "q2 = np.percentile(rainfall, 75)\n",
        "\n",
        "print(median,q1,q2)\n",
        "\n",
        "# 중간값은 전체 강수량 분포의 중심을 나타내고, 사분위수는 데이터의 분포 범위를 나타냅니다.\n",
        "print(f'감수량의 중앙값은 {median} mm이며, 이는 일반적인 강수량 수준을 나타냅니다.')\n",
        "print(f'1사분위수와 3사분위수의 차이는 {q2 - q1} mm이며, 이는 강수량의 변동성을 보여줍니다.')"
      ],
      "metadata": {
        "colab": {
          "base_uri": "https://localhost:8080/"
        },
        "id": "pIz8XTFZRCak",
        "outputId": "b0a1be89-6f4c-4e67-d3a9-6e5d0880f2a0"
      },
      "execution_count": 26,
      "outputs": [
        {
          "output_type": "stream",
          "name": "stdout",
          "text": [
            "89.5 83.25 96.25\n",
            "감수량의 중앙값은 89.5 mm이며, 이는 일반적인 강수량 수준을 나타냅니다.\n",
            "1사분위수와 3사분위수의 차이는 13.0 mm이며, 이는 강수량의 변동성을 보여줍니다.\n"
          ]
        }
      ]
    },
    {
      "cell_type": "code",
      "source": [
        "data = [85, 90, 78, 110, 88, 76, 120, 89, 77, 91, 100, 95]\n",
        "df = pd.DataFrame(data, columns=['rain'])\n",
        "print(df.describe())"
      ],
      "metadata": {
        "colab": {
          "base_uri": "https://localhost:8080/"
        },
        "id": "gNImi9OuCCdm",
        "outputId": "02740485-5541-4906-e68c-4aff1c3e9337"
      },
      "execution_count": 23,
      "outputs": [
        {
          "output_type": "stream",
          "name": "stdout",
          "text": [
            "             rain\n",
            "count   12.000000\n",
            "mean    91.583333\n",
            "std     13.262787\n",
            "min     76.000000\n",
            "25%     83.250000\n",
            "50%     89.500000\n",
            "75%     96.250000\n",
            "max    120.000000\n"
          ]
        }
      ]
    },
    {
      "cell_type": "markdown",
      "source": [
        "Q. 한 온라인 쇼핑몰의 지난 10일간 일일 방문자 수는 다음과 같습니다:\n",
        "\n",
        "[150, 200, 220, 180, 190, 170, 210, 230, 160, 175].\n",
        "\n",
        "방문자 수의 분포를 시각화하기 위해 히스토그램을 그리고, 방문자 수의 변동성에 대한 인사이트를 도출하세요."
      ],
      "metadata": {
        "id": "NTORhQmG0JkW"
      }
    },
    {
      "cell_type": "code",
      "source": [
        "import matplotlib.pyplot as plt\n",
        "\n",
        "visitors = np.array([150, 200, 220, 180, 190, 170, 210, 230, 160, 175])\n",
        "\n",
        "# 히스토그램 그리기\n",
        "plt.hist(visitors, bins=5, edgecolor='black')\n",
        "plt.title('Histogram')\n",
        "plt.xlabel('Number of Visitors')\n",
        "plt.ylabel('Requency')\n",
        "plt.show()\n",
        "\n",
        "# 히스토그햄을 통해 방문자 수의 분포를 시각화합니다.\n",
        "mean_visitors = np.mean(visitors)\n",
        "std_dev_visitors = np.std(visitors)\n",
        "\n",
        "print(f'Mean : {mean_visitors}, Standard Deviation : {std_dev_visitors}')\n",
        "if std_dev_visitors > 20:\n",
        "  print('방문자 수의 변동성이 큽니다')\n",
        "else:\n",
        "  print('방문자 수의 변동성이 작습니다.')"
      ],
      "metadata": {
        "colab": {
          "base_uri": "https://localhost:8080/",
          "height": 509
        },
        "id": "GjPC3JkzSoKM",
        "outputId": "b1cf0d5b-16f7-4ae5-eee0-1dc6e2473146"
      },
      "execution_count": 28,
      "outputs": [
        {
          "output_type": "display_data",
          "data": {
            "text/plain": [
              "<Figure size 640x480 with 1 Axes>"
            ],
            "image/png": "[encoded data removed]"
          },
          "metadata": {}
        },
        {
          "output_type": "stream",
          "name": "stdout",
          "text": [
            "Mean : 188.5, Standard Deviation : 24.904818810824544\n",
            "방문자 수의 변동성이 큽니다\n"
          ]
        }
      ]
    },
    {
      "cell_type": "markdown",
      "source": [
        "Q. 한 회사의 직원 연봉 데이터가 다음과 같습니다:\n",
        "\n",
        "[45000, 50000, 52000, 47000, 48000, 53000, 60000, 62000, 55000, 58000].\n",
        "\n",
        "이 데이터를 이용하여 연봉의 분포와 이상치를 시각화하는 상자 그림을 그리고, 연봉 분포에 대한 인사이트를 도출하세요."
      ],
      "metadata": {
        "id": "clYA-_e60MRG"
      }
    },
    {
      "cell_type": "code",
      "source": [
        "salaries = np.array([45000, 50000, 52000, 47000, 48000, 53000, 60000, 62000, 55000, 58000])\n",
        "\n",
        "# 상자 그림 그리기\n",
        "plt.boxplot(salaries)\n",
        "plt.title('Box Plot of Employee Salaries')\n",
        "plt.ylabel('Salary')\n",
        "plt.show()\n",
        "\n",
        "# 인사이트\n",
        "median_salary = np.median(salaries)\n",
        "q1_salary = np.percentile(salaries, 25)\n",
        "q3_salary = np.percentile(salaries, 75)\n",
        "iqr_salary = q3_salary - q1_salary\n",
        "\n",
        "print(f'Median Salary: {median_salary}')\n",
        "print(f'Q1 : {q1_salary}, Q3: {q3_salary}, IQR: {iqr_salary}')\n",
        "\n",
        "# 예상치 확인\n",
        "lower_bound = q1_salary - 1.5 * iqr_salary\n",
        "upper_bound = q3_salary + 1.5 * iqr_salary\n",
        "outliers = salaries[(salaries < lower_bound) | (salaries > upper_bound)]\n",
        "\n",
        "print(f'Outliers : {outliers}')"
      ],
      "metadata": {
        "colab": {
          "base_uri": "https://localhost:8080/",
          "height": 507
        },
        "id": "6JQDuDt3Sqmr",
        "outputId": "3459a816-7e51-4ee4-e437-a658db796a3f"
      },
      "execution_count": 35,
      "outputs": [
        {
          "output_type": "display_data",
          "data": {
            "text/plain": [
              "<Figure size 640x480 with 1 Axes>"
            ],
            "image/png": "[encoded data removed]"
          },
          "metadata": {}
        },
        {
          "output_type": "stream",
          "name": "stdout",
          "text": [
            "Median Salary: 52500.0\n",
            "Q1 : 48500.0, Q3: 57250.0, IQR: 8750.0\n",
            "Outliers : []\n"
          ]
        }
      ]
    },
    {
      "cell_type": "markdown",
      "source": [
        "Q. 한 마케팅 캠페인에서 투자한 광고비와 발생한 매출 데이터가 각각 다음과 같습니다:\n",
        "\n",
        "광고비 [1, 2, 3, 4, 5] (단위: 천 달러),\n",
        "\n",
        "매출 [10, 15, 20, 25, 30] (단위: 천 달러).\n",
        "\n",
        "광고비와 매출 간의 관계를 시각화하기 위해 산점도를 그리고, 두 변수 간의 관계에 대한 인사이트를 도출하세요."
      ],
      "metadata": {
        "id": "KPgJWzWi0OdJ"
      }
    },
    {
      "cell_type": "code",
      "source": [
        "ad_spend = np.array([1, 2, 3, 4, 5])\n",
        "sales = ad_spend + np.random.randint(10, size=5)\n",
        "\n",
        "# tkswjaeh rmflrl\n",
        "plt.scatter(ad_spend, sales)\n",
        "plt.title('Scatter Plot of Ad Spend vs Sales')\n",
        "plt.xlabel('Ad Spend')\n",
        "plt.ylabel('Sales')\n",
        "plt.show()\n",
        "\n",
        "correlation = np.corrcoef(ad_spend, sales)[0,1]\n",
        "print(f'Correlation coefficient : {correlation}')\n",
        "\n",
        "if correlation > 0.7:\n",
        "  print('광고비와 매출 간에 강한 양의 상관관계가 있습니다.')\n",
        "else:\n",
        "  print('광고비와 매출 간에 상관관계가 약하거나 없습니다.')"
      ],
      "metadata": {
        "colab": {
          "base_uri": "https://localhost:8080/",
          "height": 509
        },
        "id": "cF4UUMhYW58z",
        "outputId": "4b97a076-885f-4f78-d389-b64061a528e9"
      },
      "execution_count": 37,
      "outputs": [
        {
          "output_type": "display_data",
          "data": {
            "text/plain": [
              "<Figure size 640x480 with 1 Axes>"
            ],
            "image/png": "[encoded data removed]"
          },
          "metadata": {}
        },
        {
          "output_type": "stream",
          "name": "stdout",
          "text": [
            "Correlation coefficient : 0.5188745216627708\n",
            "광고비와 매출 간에 상관관계가 약하거나 없습니다.\n"
          ]
        }
      ]
    },
    {
      "cell_type": "markdown",
      "source": [
        "Q. 한 식당의 월별 홍보 비용과 월별 방문자 수 데이터가 각각 다음과 같습니다:\n",
        "\n",
        "홍보 비용 [500, 600, 700, 800, 900] (단위: 달러),\n",
        "\n",
        "방문자 수 [300, 400, 500, 600, 700] (단위: 명).\n",
        "\n",
        "홍보 비용과 방문자 수 간의 상관 계수를 계산하여 관계를 파악하세요. 이 데이터에서 어떤 인사이트를 얻을 수 있습니까?"
      ],
      "metadata": {
        "id": "mCV623nc0S91"
      }
    },
    {
      "cell_type": "code",
      "source": [
        "promotion_cost = np.array([500, 600, 700, 800, 900])\n",
        "visitor_count = np.array([300, 400, 500, 600, 700])\n",
        "v_count = np.sort(visitor_count)[::-1]\n",
        "\n",
        "# 상관 계수 계산\n",
        "correlation = np.corrcoef(promotion_cost, v_count)[0,1]\n",
        "print(f'Correlation coefficient : {correlation}')\n",
        "\n",
        "# 인사이트 해석\n",
        "if correlation > 0.7:\n",
        "  print('홍보 비용과 방문자 수 간에 강한 양의 상관관계가 있습니다.')\n",
        "elif correlation < 0.7:\n",
        "  print('홍보 비용과 방문자 수 간에 강한 음의 상관관계가 있습니다.')\n",
        "else:\n",
        "  print('홍보 비용과 방문자 수 간에 상관관계가 약하거나 없습니다.')"
      ],
      "metadata": {
        "colab": {
          "base_uri": "https://localhost:8080/"
        },
        "id": "0pQCospfYdZr",
        "outputId": "c6c9e915-c611-4f3a-d1ee-efeceb0824d7"
      },
      "execution_count": 40,
      "outputs": [
        {
          "output_type": "stream",
          "name": "stdout",
          "text": [
            "Correlation coefficient : -0.9999999999999998\n",
            "홍보 비용과 방문자 수 간에 강한 음의 상관관계가 있습니다.\n"
          ]
        }
      ]
    },
    {
      "cell_type": "markdown",
      "source": [
        "Q. 세 종류의 화합물에 대한 실험 데이터를 다음 매트릭스로 나타냅니다:\n",
        "\n",
        "[[1, 2, 3], [2, 4, 6], [3, 6, 9]].\n",
        "\n",
        "이 매트릭스의 히트맵을 그려 데이터 간의 관계를 시각화하고, 인사이트를 도출하세요."
      ],
      "metadata": {
        "id": "MIeMHq1x0VpR"
      }
    },
    {
      "cell_type": "code",
      "source": [
        "import seaborn as sns\n",
        "\n",
        "data = np.array([[1, 2, 3], [2, 4, 6], [3, 6, 9]])\n",
        "\n",
        "sns.heatmap(data, annot=True, cmap='coolwarm', xticklabels=['A','B','C'], yticklabels=['A','B','C'])\n",
        "plt.title('Heatmap of Chemical Compounds A, B, C')\n",
        "plt.show()\n",
        "\n",
        "print('인사이트:')\n",
        "print('1. 데이터가 대각선 방향으로 커지는 패턴을 보입니다. 이는 각 화합물의 농도가 일정한 비율로 증가하고 있음을 나타냅니다.')\n",
        "print('2. 각 행과 열의 값들이 비례적으로 증가하여, 화합물 간의 반응이 선형적인 관계를 가질 수 있음을 시사합니다.')"
      ],
      "metadata": {
        "colab": {
          "base_uri": "https://localhost:8080/",
          "height": 507
        },
        "id": "ipwCskn1aEfW",
        "outputId": "be56ff2c-efd7-40cb-f51f-b44da05c45e5"
      },
      "execution_count": 43,
      "outputs": [
        {
          "output_type": "display_data",
          "data": {
            "text/plain": [
              "<Figure size 640x480 with 2 Axes>"
            ],
            "image/png": "[encoded data removed]"
          },
          "metadata": {}
        },
        {
          "output_type": "stream",
          "name": "stdout",
          "text": [
            "인사이트:\n",
            "1. 데이터가 대각선 방향으로 커지는 패턴을 보입니다. 이는 각 화합물의 농도가 일정한 비율로 증가하고 있음을 나타냅니다.\n",
            "2. 각 행과 열의 값들이 비례적으로 증가하여, 화합물 간의 반응이 선형적인 관계를 가질 수 있음을 시사합니다.\n"
          ]
        }
      ]
    },
    {
      "cell_type": "markdown",
      "source": [
        "Q. 한 지역의 주택 가격 데이터가 다음과 같습니다:\n",
        "\n",
        "[250000, 300000, 350000, 400000, 450000, 500000, 550000, 600000, 650000, 700000].\n",
        "\n",
        "주택 가격의 분포를 시각화하기 위해 분포 그래프를 그리고, 주택 가격 분포에 대한 인사이트를 도출하세요."
      ],
      "metadata": {
        "id": "tGiEJruL0Wrq"
      }
    },
    {
      "cell_type": "code",
      "source": [
        "[250000, 300000, 350000, 400000, 450000, 500000, 550000, 600000, 650000, 700000]"
      ],
      "metadata": {
        "id": "ZKOxfrUKbny4"
      },
      "execution_count": null,
      "outputs": []
    },
    {
      "cell_type": "markdown",
      "source": [
        "Q. 한 교육기관의 시험 점수 데이터가 다음과 같습니다:\n",
        "\n",
        "[55, 60, 65, 70, 75, 80, 85, 90, 95, 100].\n",
        "\n",
        "시험 점수의 도수 분포표를 작성하고, 이를 통해 성적 분포에 대한 인사이트를 도출하세요."
      ],
      "metadata": {
        "id": "xmHPt5840ZYs"
      }
    },
    {
      "cell_type": "code",
      "source": [
        "[55, 60, 65, 70, 75, 80, 85, 90, 95, 100]"
      ],
      "metadata": {
        "id": "Kwy4zE6gbqQ6"
      },
      "execution_count": null,
      "outputs": []
    },
    {
      "cell_type": "markdown",
      "source": [
        "Q. 한 회사의 연구개발(R&D) 투자 비용과 연간 수익 데이터가 각각 다음과 같습니다:\n",
        "\n",
        "투자 비용 [100, 200, 300, 400, 500] (단위: 천 달러),\n",
        "\n",
        "연간 수익 [200, 400, 600, 800, 1000] (단위: 천 달러).\n",
        "\n",
        "추세선이 있는 산점도를 그려 투자 비용과 연간 수익 간의 관계를 시각화하고, 인사이트를 도출하세요."
      ],
      "metadata": {
        "id": "RQ2n9YqY0cEf"
      }
    },
    {
      "cell_type": "code",
      "source": [
        "[100, 200, 300, 400, 500]\n",
        "[200, 400, 600, 800, 1000]"
      ],
      "metadata": {
        "id": "Y9C-HGjVbrNz"
      },
      "execution_count": null,
      "outputs": []
    }
  ]
}