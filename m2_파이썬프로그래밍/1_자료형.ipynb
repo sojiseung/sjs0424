{
  "nbformat": 4,
  "nbformat_minor": 0,
  "metadata": {
    "colab": {
      "provenance": [],
      "authorship_tag": "ABX9TyMEgaStZz7KJ8jitXwuPW0r",
      "include_colab_link": true
    },
    "kernelspec": {
      "name": "python3",
      "display_name": "Python 3"
    },
    "language_info": {
      "name": "python"
    }
  },
  "cells": [
    {
      "cell_type": "markdown",
      "metadata": {
        "id": "view-in-github",
        "colab_type": "text"
      },
      "source": [
        "<a href=\"https://colab.research.google.com/github/sojiseung/sjs0424/blob/main/m2_%ED%8C%8C%EC%9D%B4%EC%8D%AC%ED%94%84%EB%A1%9C%EA%B7%B8%EB%9E%98%EB%B0%8D/1_%EC%9E%90%EB%A3%8C%ED%98%95.ipynb\" target=\"_parent\"><img src=\"https://colab.research.google.com/assets/colab-badge.svg\" alt=\"Open In Colab\"/></a>"
      ]
    },
    {
      "cell_type": "markdown",
      "source": [
        "#### 파이썬 이란\n",
        "- 1990년 암스테르담의 귀도 반 로섬(Guido Van Rossum)이 개발한 인터프리터 언어\n",
        "- 컴퓨터 프로그래밍 교육을 위해 많이 사용하지만, 기업의 실무를 위해서도 많이 사용하는 언어. 구글에서 만든 소프트웨어의 50%이상이 파이썬으로 작성\n",
        "\n",
        "#### 파이썬의 특징\n",
        "- 파이썬은 인간다운 언어이다\n",
        "- 파이썬은 문법이 쉬워 빠르게 배울 수 있다\n",
        "- 파이썬은 무료이지만 강력하다\n",
        "- 파이썬은 간결하다\n",
        "- 파이썬은 프로그래밍을 즐기게 해준다\n",
        "- 파이썬은 개발 속도가 빠르다\n",
        "\n",
        "#### 파이썬으로 할 수 있는 일\n",
        "- 웹 개발: Django, Flask 등의 프레임워크를 사용하여 웹 애플리케이션을 개발할 수 있습니다.\n",
        "- 데이터 분석: Pandas, NumPy, SciPy와 같은 라이브러리를 사용하여 데이터를 분석하고 처리할 수 있습니다.\n",
        "- 머신 러닝과 인공지능: TensorFlow, PyTorch, Scikit-learn 등의 라이브러리를 활용하여 머신 러닝 모델을 구축하고 훈련시킬 수 있습니다.\n",
        "- 자동화: 파이썬 스크립트를 작성하여 일상적인 작업을 자동화하고, 시스템 관리 작업을 수행할 수 있습니다.\n",
        "- 게임 개발: Pygame과 같은 라이브러리를 사용하여 간단한 게임을 개발할 수 있습니다.\n",
        "- 모바일 애플리케이션 개발: Kivy 또는 BeeWare와 같은 라이브러리를 사용하여 모바일 애플리케이션을 개발할 수 있습니다.\n",
        "- 데스크탑 애플리케이션 개발: PyQt, Tkinter 등의 라이브러리를 활용하여 데스크탑 애플리케이션을 개발할 수 있습니다.\n",
        "- 시스템 스크립팅과 네트워킹: 시스템 유틸리티를 개발하거나 네트워크 프로토콜을 구현할 수 있습니다.\n",
        "- 임베디드 시스템과 하드웨어 제어: 라즈베리 파이와 같은 임베디드 시스템을 제어하고 하드웨어를 프로그래밍할 수 있습니다.\n",
        "- 사이언티픽 컴퓨팅: 과학적 연산과 시뮬레이션을 위해 파이썬을 활용할 수 있습니다.\n",
        "- 교육: 파이썬은 초보자에게 프로그래밍을 가르치는 데 이상적인 언어로 평가받고 있습니다.\n",
        "- 파이썬의 다양한 라이브러리와 프레임워크 덕분에, 이러한 분야에서의 작업이 더욱 쉽고 효율적으로 수행될 수 있습니다.\n",
        "\n",
        "#### 용어\n",
        "- 식별자 : 프로그램밍 언어에서 이름을 붙일 때 사용하는 단어. 주로 변수 또는 함수 이름 등으로 사용\n",
        "- 주석 : 프로그램을 설명하기 위해 사용. # 기호로 주석 처리\n",
        "- 연산자 : 스스로 값이 되는 것이 아니고 값과 값 사이에 무언가 기능을 적용할 때 사용\n",
        "- 자료 : 리터럴이라고 하는데 숫자이든 문자이든 어떠한 값 자체를 의미. 1, 10, \"Hello\"\n",
        "- 키워드 : 파이썬이 만들어질 때 이미 사용하겠다고 예약해 놓는 것. False, None, True, ...\n",
        "- 프로그램밍 언어에서 사용자가 이름을 정할 때 키워드는 사용할 수 없음\n",
        "\n",
        "#### 식별자\n",
        "count, user_name, _is_valid, calculate_area, Car, model, year, math 및 m 모두 유효한 식별자. 각각의 식별자는 특정한 데이터 또는 기능에 이름을 부여하여 코드 내에서 해당 데이터나 기능을 참조할 수 있게하며 코드의 가독성과 유지 보수성을 높이는 데 중요한 역할\n",
        "\n",
        "##식별자 기본 규칙\n",
        "- 키워드를 사용하면 안된다\n",
        "- 특주문자는 언더바(_)만 사용\n",
        "- 숫자로 시작하면 안된다\n",
        "- 공백을 포함 할 수 없다\n",
        "\n",
        "파이썬은 snake_case와 CamelCase를 모두 사용\n",
        "\n",
        "  - itemlist:item_list itemList\n",
        "  - loginstatus: login_status loginStatus\n",
        "  - 캐멀 케이스(대문자로 시작) 클래스\n",
        "  - 스네이크 케이스(소문자로 시작)뒤에 ()가 있다-함수\n",
        "  - 스네이크 케이스(소문자로 시작)뒤에 ()가 없다-변수\n",
        "  \n",
        "\n",
        "  #### 자료형\n",
        "- 자료형 또는 데이터 타입이란 숫자, 문자 등과 같이 여러 종류의 데이터를 구분하기 위한 분류\n",
        "- 파이썬의 자료형은 크게 숫자(numbers), 시퀀스(sequence), 매핑(mapping) 등으로 나눌 수 있다.\n",
        "- 파이썬의 기본 자료형\n",
        "  - 수치형\n",
        "    - 정수형 : int는 정수(integer)를 나타낸다. 양의 정수와 음의 정수, 숫자 0\n",
        "    - 실수형 : float는 원래 부동소수점수(floating-point number)를 가리키는데, 지금은 단순히 소수점 이하를 표현할 수 있는 수이다.\n",
        "    - 복소수형 : 복소수를 complex로 나타내고 제곱하면 -1이 되는 수 i를 ‘허수(imaginary number)’라고 하는데 허수 i를 j로 표현\n",
        "  - 시퀀스 : 문자열(str), 리스트(list), 튜플(tuple), 사용자 정의 클래스가 시퀀스에 속한다. for 문에서 사용할 수 있는 것들이 바로 시퀀스\n",
        "    - 문자열 : 문자를 한 줄로 표현하며 문자열 인덱스를 이용해 문자열의 일부를 복사\n",
        "    - 리스트 : 대괄호([ ])로 감싸 주고 각 요솟값은 쉼표(,)로 구분\n",
        "    - 튜플 : 튜플은 ( )으로 둘러싸고 각 요솟값은 쉼표(,)로 구분\n",
        "  - 매핑\n",
        "    - 사전 : 딕셔너리(dict)는 키(key)와 값(value)의 짝으로 이뤄지는데 이런 것을 매핑\n",
        "  - 집합 : 집합을 표현하는 세트(set)\n",
        "  - 블린 : 참, 거짓을 표현"
      ],
      "metadata": {
        "id": "F9ryo-GG7YbC"
      }
    },
    {
      "cell_type": "code",
      "source": [
        "1 # !기호는 Colab 셀에서 Unix / Linux 셀 명령어를 실행\n",
        "!python --version"
      ],
      "metadata": {
        "colab": {
          "base_uri": "https://localhost:8080/"
        },
        "id": "wpadQlJoBYb7",
        "outputId": "832c2fb7-9827-4e5d-e5cf-00cdb1934519"
      },
      "execution_count": null,
      "outputs": [
        {
          "output_type": "stream",
          "name": "stdout",
          "text": [
            "Python 3.10.12\n"
          ]
        }
      ]
    },
    {
      "cell_type": "code",
      "source": [
        "%pwd"
      ],
      "metadata": {
        "colab": {
          "base_uri": "https://localhost:8080/",
          "height": 36
        },
        "id": "hoHHpDn7BlFT",
        "outputId": "847d7778-46a5-4e65-f11a-9074ac79bf9f"
      },
      "execution_count": null,
      "outputs": [
        {
          "output_type": "execute_result",
          "data": {
            "text/plain": [
              "'/content'"
            ],
            "application/vnd.google.colaboratory.intrinsic+json": {
              "type": "string"
            }
          },
          "metadata": {},
          "execution_count": 2
        }
      ]
    },
    {
      "cell_type": "code",
      "source": [
        "import keyword\n",
        "print(keyword.kwlist, 'wn')\n",
        "len(keyword.kwlist)"
      ],
      "metadata": {
        "colab": {
          "base_uri": "https://localhost:8080/"
        },
        "id": "cVqTr1qTcogO",
        "outputId": "b62b4a25-db9d-42ca-8473-d4d7bc9eecba"
      },
      "execution_count": null,
      "outputs": [
        {
          "output_type": "stream",
          "name": "stdout",
          "text": [
            "['False', 'None', 'True', 'and', 'as', 'assert', 'async', 'await', 'break', 'class', 'continue', 'def', 'del', 'elif', 'else', 'except', 'finally', 'for', 'from', 'global', 'if', 'import', 'in', 'is', 'lambda', 'nonlocal', 'not', 'or', 'pass', 'raise', 'return', 'try', 'while', 'with', 'yield'] wn\n"
          ]
        },
        {
          "output_type": "execute_result",
          "data": {
            "text/plain": [
              "35"
            ]
          },
          "metadata": {},
          "execution_count": 3
        }
      ]
    },
    {
      "cell_type": "code",
      "source": [
        "1 alpha\n",
        "2 break # 키워드\n",
        "3 alpha10_\n",
        "4 _alpha\n",
        "5 273alpha # 숫자\n",
        "6 Alpha\n",
        "7 ALPHA\n",
        "8 has space # 공백"
      ],
      "metadata": {
        "id": "zrw7W2-Icr7l"
      },
      "execution_count": null,
      "outputs": []
    },
    {
      "cell_type": "code",
      "source": [
        "1 # % 기호는 IPyhon 환경( 즉 , Colab이 포함된 Jupyter 환경) 에서 제공하는 매직명령어를 사용\n",
        "3 # 현재폴더 확인"
      ],
      "metadata": {
        "id": "qyP-9s9ic3yz"
      },
      "execution_count": null,
      "outputs": []
    },
    {
      "cell_type": "code",
      "source": [
        "%%time\n",
        "# 간단한 for 루프를 사용한 계산\n",
        "sum = 0\n",
        "for i in range(100000):\n",
        "  sum += i\n",
        "print(sum)\n"
      ],
      "metadata": {
        "colab": {
          "base_uri": "https://localhost:8080/"
        },
        "id": "O7HmbQmKc4gx",
        "outputId": "e3c4eb2e-423f-46d6-a1e1-6e3a464a4e58"
      },
      "execution_count": null,
      "outputs": [
        {
          "output_type": "stream",
          "name": "stdout",
          "text": [
            "4999950000\n",
            "CPU times: user 15.8 ms, sys: 0 ns, total: 15.8 ms\n",
            "Wall time: 15.6 ms\n"
          ]
        }
      ]
    },
    {
      "cell_type": "code",
      "source": [
        "def calculate_area(radius):\n",
        "    return 3.14159 * radius * radius\n",
        "\n",
        "calculate_area(3)"
      ],
      "metadata": {
        "colab": {
          "base_uri": "https://localhost:8080/"
        },
        "id": "0asPAj5n0Rwc",
        "outputId": "78cdaff0-e54b-4c3d-c22a-0be8e4833128"
      },
      "execution_count": null,
      "outputs": [
        {
          "output_type": "execute_result",
          "data": {
            "text/plain": [
              "28.274309999999996"
            ]
          },
          "metadata": {},
          "execution_count": 10
        }
      ]
    },
    {
      "cell_type": "code",
      "source": [
        "1. # 변수 식별자\n",
        "2. count = 10\n",
        "3. user_name = \"Alice\"\n",
        "4. _is_Valid = True\n",
        "5.\n",
        "6. # 함수 식별자\n",
        "7. def calculate_area(radius):\n",
        "8.     return 3.14159 * radius * radius\n",
        "9.\n",
        "10. # 클래스 식별자\n",
        "11. class Car:\n",
        "12.       def _init_(self , model,year):\n",
        "13.           self.midel = model\n",
        "14.           self.year = year\n",
        "15.\n",
        "16. # 모듈 식별자\n",
        "17. import mate as m\n",
        "18."
      ],
      "metadata": {
        "id": "JnKZaQWJc7Fv"
      },
      "execution_count": null,
      "outputs": []
    },
    {
      "cell_type": "markdown",
      "source": [
        "Q. 주어진 문자열 리스트에서 유효한 Python 변수 이름만을 추출하여 반환하는 함수를 작성하세요"
      ],
      "metadata": {
        "id": "JnSdTX_tc_KY"
      }
    },
    {
      "cell_type": "code",
      "source": [
        "identifiers = [\"var1\" , \"2things\" , \"variable_name\" , \"time!\"]"
      ],
      "metadata": {
        "id": "wcYRztQ1dHAD"
      },
      "execution_count": null,
      "outputs": []
    },
    {
      "cell_type": "code",
      "source": [
        "# identifiers()는 파이썬의 문자열 메서드로, 주어진 문자열이 유효한 식별자인지를 확인\n",
        "# isidentifiers()는 예약어인지는 따로 체크하지 않음\n",
        "import keyword\n",
        "def valid_identifiers(identifiers):\n",
        "    valid = []\n",
        "    for identifier in identifiers:\n",
        "        if identifier.isidentifier() and not keyword.iskeyword(identifier):\n",
        "            valid.append(identifier)\n",
        "    return valid\n",
        "\n",
        "  # 예제 실행\n",
        "identifiers = [\"var1\" , \"2things\" , \"variable_name\" , \"time!\", \"True\"]\n",
        "print(valid_identifiers(identifiers))"
      ],
      "metadata": {
        "colab": {
          "base_uri": "https://localhost:8080/"
        },
        "id": "9RmzxmJR11ot",
        "outputId": "6bcf7800-558d-47d2-944d-9f4abf6db971"
      },
      "execution_count": null,
      "outputs": [
        {
          "output_type": "stream",
          "name": "stdout",
          "text": [
            "['var1', 'variable_name']\n"
          ]
        }
      ]
    },
    {
      "cell_type": "markdown",
      "source": [
        "연산자"
      ],
      "metadata": {
        "id": "-iOQO1Q_AnN6"
      }
    },
    {
      "cell_type": "code",
      "source": [
        "#연산자\n",
        "a = 5\n",
        "b = 3\n",
        "c = b%a\n",
        "d = b//a\n",
        "e = b/a\n",
        "print(c)\n",
        "print(d)\n",
        "print(e)"
      ],
      "metadata": {
        "colab": {
          "base_uri": "https://localhost:8080/"
        },
        "id": "U0ykeQP2_Yvw",
        "outputId": "d442cfc3-66c1-4467-c33d-10220ad16f89"
      },
      "execution_count": null,
      "outputs": [
        {
          "output_type": "stream",
          "name": "stdout",
          "text": [
            "3\n",
            "0\n",
            "0.6\n"
          ]
        }
      ]
    },
    {
      "cell_type": "markdown",
      "source": [
        "조건문"
      ],
      "metadata": {
        "id": "w1eMn9S-AiQk"
      }
    },
    {
      "cell_type": "code",
      "source": [
        "a = 6\n",
        "b = 5\n",
        "\n",
        "if a>b:\n",
        "    print(a)"
      ],
      "metadata": {
        "colab": {
          "base_uri": "https://localhost:8080/"
        },
        "id": "p4kZdtt2AOQN",
        "outputId": "9c6ebdf3-2f7d-4575-beab-a00604058fd9"
      },
      "execution_count": null,
      "outputs": [
        {
          "output_type": "stream",
          "name": "stdout",
          "text": [
            "6\n"
          ]
        }
      ]
    },
    {
      "cell_type": "markdown",
      "source": [
        "자료형"
      ],
      "metadata": {
        "id": "9F60x2tqC6BU"
      }
    },
    {
      "cell_type": "code",
      "source": [
        "# 정수형, 실수형\n",
        "i1 = 3\n",
        "f1 = 3.5\n",
        "print(i1)\n",
        "print(f1)"
      ],
      "metadata": {
        "colab": {
          "base_uri": "https://localhost:8080/"
        },
        "id": "Gn3TrMLoCh3Q",
        "outputId": "03f94575-9b05-4725-e76d-d98a94dde0fc"
      },
      "execution_count": null,
      "outputs": [
        {
          "output_type": "stream",
          "name": "stdout",
          "text": [
            "3\n",
            "3.5\n"
          ]
        }
      ]
    },
    {
      "cell_type": "code",
      "source": [
        "#정수(int)\n",
        "print(int(True))\n",
        "print(int(False))\n",
        "print(int('100'))\n",
        "print(int(3.14))"
      ],
      "metadata": {
        "colab": {
          "base_uri": "https://localhost:8080/"
        },
        "id": "2kO-u5tkDDIX",
        "outputId": "6c865300-ca9a-4c9d-ff06-2686993fd1f9"
      },
      "execution_count": null,
      "outputs": [
        {
          "output_type": "stream",
          "name": "stdout",
          "text": [
            "1\n",
            "0\n",
            "100\n",
            "100.0\n",
            "3\n"
          ]
        }
      ]
    },
    {
      "cell_type": "code",
      "source": [
        "#실수(float)\n",
        "print(float(True))\n",
        "print(float(False))\n",
        "print(float('100'))\n",
        "print(float(3.14))"
      ],
      "metadata": {
        "colab": {
          "base_uri": "https://localhost:8080/"
        },
        "id": "uyrwbStZDy14",
        "outputId": "48ea3a61-27e5-4755-c1d6-203cfb785211"
      },
      "execution_count": null,
      "outputs": [
        {
          "output_type": "stream",
          "name": "stdout",
          "text": [
            "1.0\n",
            "0.0\n",
            "100.0\n",
            "3.14\n"
          ]
        }
      ]
    },
    {
      "cell_type": "code",
      "source": [
        "#사칙연산 : +, *, /, //, %, **(제곱)\n",
        "a = 10\n",
        "b = 2.3\n",
        "print(a+b)\n",
        "print(a-b)\n",
        "print(a/b)\n",
        "print(a//b)\n",
        "print(a%b)\n",
        "print(a**b)\n"
      ],
      "metadata": {
        "colab": {
          "base_uri": "https://localhost:8080/"
        },
        "id": "d4tidHJjEtXs",
        "outputId": "566ee6a0-63c5-491a-c47d-b21cf8b9e8b5"
      },
      "execution_count": null,
      "outputs": [
        {
          "output_type": "stream",
          "name": "stdout",
          "text": [
            "12.3\n",
            "7.7\n",
            "4.347826086956522\n",
            "4.0\n",
            "0.8000000000000007\n",
            "199.52623149688787\n"
          ]
        }
      ]
    },
    {
      "cell_type": "code",
      "source": [
        "# 문자열\n",
        "string = '문자열'\n",
        "a = \"100\"\n",
        "\n",
        "print(string)\n",
        "a"
      ],
      "metadata": {
        "colab": {
          "base_uri": "https://localhost:8080/",
          "height": 54
        },
        "id": "1q4IiLvSFtYp",
        "outputId": "b61f275a-0fb7-4b4d-b0cc-3b0090d0cd3c"
      },
      "execution_count": null,
      "outputs": [
        {
          "output_type": "stream",
          "name": "stdout",
          "text": [
            "문자열\n"
          ]
        },
        {
          "output_type": "execute_result",
          "data": {
            "text/plain": [
              "'100'"
            ],
            "application/vnd.google.colaboratory.intrinsic+json": {
              "type": "string"
            }
          },
          "metadata": {},
          "execution_count": 25
        }
      ]
    },
    {
      "cell_type": "code",
      "source": [
        "a =100\n",
        "b =50\n",
        "print(a+b)\n",
        "a = \"100\"\n",
        "b = \"50\"\n",
        "print(a+b)"
      ],
      "metadata": {
        "colab": {
          "base_uri": "https://localhost:8080/"
        },
        "id": "RKKk2ZxEGXQ_",
        "outputId": "8a830b53-05ea-422e-9c31-52cecd8d3521"
      },
      "execution_count": null,
      "outputs": [
        {
          "output_type": "stream",
          "name": "stdout",
          "text": [
            "150\n",
            "10050\n"
          ]
        }
      ]
    },
    {
      "cell_type": "code",
      "source": [
        "a =100\n",
        "b =50\n",
        "print(a+b)\n",
        "a = int(\"100\")\n",
        "b = int(\"50\")\n",
        "print(a+b)"
      ],
      "metadata": {
        "colab": {
          "base_uri": "https://localhost:8080/"
        },
        "id": "mWQ5DqVTG5Ft",
        "outputId": "cbb3a911-8810-45d7-ee4c-2836ef6bd509"
      },
      "execution_count": null,
      "outputs": [
        {
          "output_type": "stream",
          "name": "stdout",
          "text": [
            "150\n",
            "150\n"
          ]
        }
      ]
    },
    {
      "cell_type": "code",
      "source": [
        "#사용자 입력\n",
        "a = input(\"이름을 입력하세요.\\n\")\n",
        "print(a + \"안녕\")"
      ],
      "metadata": {
        "colab": {
          "base_uri": "https://localhost:8080/"
        },
        "id": "QOXbO4cnHMWf",
        "outputId": "51cefd74-66bb-4e28-d63e-58c6a40034dd"
      },
      "execution_count": null,
      "outputs": [
        {
          "output_type": "stream",
          "name": "stdout",
          "text": [
            "이름을 입력하세요.\n",
            "감자\n",
            "감자안녕\n"
          ]
        }
      ]
    },
    {
      "cell_type": "code",
      "source": [
        "# input() 함수는 입력받은 데이터를 string으로 처리한다.\n",
        "a = input()\n",
        "b = input()\n",
        "print(a + b)"
      ],
      "metadata": {
        "colab": {
          "base_uri": "https://localhost:8080/"
        },
        "id": "bSvBkGKfHzO1",
        "outputId": "9db387ba-e985-4436-ada5-d0d881be2231"
      },
      "execution_count": null,
      "outputs": [
        {
          "output_type": "stream",
          "name": "stdout",
          "text": [
            "5\n",
            "5\n",
            "55\n"
          ]
        }
      ]
    },
    {
      "cell_type": "code",
      "source": [
        "#input()으로 받은 데이터를 형변환\n",
        "a = int(input())\n",
        "b = int(input())\n",
        "print(a + b)"
      ],
      "metadata": {
        "colab": {
          "base_uri": "https://localhost:8080/"
        },
        "id": "iOMby9pOIM6b",
        "outputId": "009544bc-bfa2-4308-89ed-79c7ba88b8cb"
      },
      "execution_count": null,
      "outputs": [
        {
          "output_type": "stream",
          "name": "stdout",
          "text": [
            "4\n",
            "5\n",
            "9\n"
          ]
        }
      ]
    },
    {
      "cell_type": "code",
      "source": [
        "# 실수 + 실수 -> 실수\n",
        "#3과 3.3을 입력하고 숫자 연산을 수행하여 6.3을 출력하세요.\n",
        "\n",
        "a = float(input(\"3을 입력하세요\"))\n",
        "b = float(input(\"3.3을 입력하세요\"))\n",
        "c = a+b\n",
        "print(c)"
      ],
      "metadata": {
        "colab": {
          "base_uri": "https://localhost:8080/"
        },
        "id": "ridjM8JTJBXn",
        "outputId": "63350172-77c1-4f36-9df2-da221e112938"
      },
      "execution_count": null,
      "outputs": [
        {
          "output_type": "stream",
          "name": "stdout",
          "text": [
            "3을 입력하세요3\n",
            "3.3을 입력하세요3.3\n",
            "6.3\n"
          ]
        }
      ]
    },
    {
      "cell_type": "code",
      "source": [
        "#정수 + 실수 = 실수\n",
        "# 3과 3.3을 입력하고 숫자 연산을 수행하여 6.3을 출력하세요.\n",
        "\n",
        "a = int(input(\"3을 입력하세요\"))\n",
        "b = float(input(\"3.3을 입력하세요\"))\n",
        "c = a+b\n",
        "print(c)"
      ],
      "metadata": {
        "colab": {
          "base_uri": "https://localhost:8080/"
        },
        "id": "l8FjoV3hJ2t9",
        "outputId": "56042dd7-9d24-46af-c1f8-328be7da57d8"
      },
      "execution_count": null,
      "outputs": [
        {
          "output_type": "stream",
          "name": "stdout",
          "text": [
            "3을 입력하세요3\n",
            "3.3을 입력하세요3.3\n",
            "6.3\n"
          ]
        }
      ]
    },
    {
      "cell_type": "code",
      "source": [
        "# a = 52와 b = 52.273일때 a+b는 5252.273으로 출력되도록 a와 b를 문자열 자료형으로 변환하세요.\n",
        "a = 52\n",
        "b = 52.273\n",
        "a = str(a)\n",
        "b = str(b)\n",
        "print(a + b)"
      ],
      "metadata": {
        "colab": {
          "base_uri": "https://localhost:8080/"
        },
        "id": "MRuSORTTNXpJ",
        "outputId": "fdfc1478-5828-4fa3-843b-cfa83fb0b1a6"
      },
      "execution_count": null,
      "outputs": [
        {
          "output_type": "stream",
          "name": "stdout",
          "text": [
            "5252.273\n"
          ]
        }
      ]
    },
    {
      "cell_type": "code",
      "source": [
        "# 문자열 : \"\", '', \"\"\" \"\"\", ''' '''\n",
        "# p1 = 'python's value is great'\n",
        "p1 = \"python's value is great\"\n",
        "p2 = \"\"\"python's value is great\"\"\"\n",
        "print(p1)\n",
        "print(p2)"
      ],
      "metadata": {
        "colab": {
          "base_uri": "https://localhost:8080/"
        },
        "id": "bvqQnK3ROARz",
        "outputId": "bb362b5b-5e8a-499d-cf1c-81256c357401"
      },
      "execution_count": null,
      "outputs": [
        {
          "output_type": "stream",
          "name": "stdout",
          "text": [
            "python's value is great\n",
            "python's value is great\n"
          ]
        }
      ]
    },
    {
      "cell_type": "code",
      "source": [
        "# 백슬래시 (\\)는 문자열 안에서 작은따옴표 (')를 문자열의 끝을 의미하지 않는 일반 문자로 포함시키기 위해 사용\n",
        "# 이 기술을 이스케이프라고 함.\n",
        "p1 = 'python\\'s value is great'\n",
        "print(p1)"
      ],
      "metadata": {
        "colab": {
          "base_uri": "https://localhost:8080/"
        },
        "id": "Q8Kb_cL-Qb0g",
        "outputId": "28c252ca-10b0-41ee-d995-50a97ba17931"
      },
      "execution_count": null,
      "outputs": [
        {
          "output_type": "stream",
          "name": "stdout",
          "text": [
            "python's value is great\n"
          ]
        }
      ]
    },
    {
      "cell_type": "code",
      "source": [
        "# \\n 행 바꿈\n",
        "# y1 = \"Once you study data analysis You need Python\"\n",
        "# y1 = \"Once you study data analysis\\nYou need Python\"\n",
        "y1 = \"Once you study data analysis\\tYou need Python\"\n",
        "print(y1)"
      ],
      "metadata": {
        "colab": {
          "base_uri": "https://localhost:8080/"
        },
        "id": "vkFPuS5LRF7-",
        "outputId": "8b8d5ddc-7a9b-4ed2-c4a4-8aa8c6aef334"
      },
      "execution_count": null,
      "outputs": [
        {
          "output_type": "stream",
          "name": "stdout",
          "text": [
            "Once you study data analysis\tYou need Python\n"
          ]
        }
      ]
    },
    {
      "cell_type": "code",
      "source": [
        "y2 = '''\n",
        "Once you stydy data analysis\n",
        "You need Python\n",
        "'''\n",
        "\n",
        "y3 = \"\"\"\n",
        "Once you stydy data analysis\n",
        "You need Python\n",
        "\"\"\"\n",
        "\n",
        "print(y2)\n",
        "print(y3)"
      ],
      "metadata": {
        "colab": {
          "base_uri": "https://localhost:8080/"
        },
        "id": "4FYUu005SM4J",
        "outputId": "e6323d63-5c78-4397-dc63-d72f8da7df06"
      },
      "execution_count": null,
      "outputs": [
        {
          "output_type": "stream",
          "name": "stdout",
          "text": [
            "\n",
            "Once you stydy data analysis\n",
            "You need Python\n",
            "\n",
            "\n",
            "Once you stydy data analysis\n",
            "You need Python\n",
            "\n"
          ]
        }
      ]
    },
    {
      "cell_type": "code",
      "source": [
        "a1 = \"Python\"\n",
        "a2 = \" is easy to learn\"\n",
        "print('☆'*12)\n",
        "print(a1+a2)\n",
        "print('☆'*12)\n"
      ],
      "metadata": {
        "colab": {
          "base_uri": "https://localhost:8080/"
        },
        "id": "qelpc2oSSlYq",
        "outputId": "9c5b6fd2-ed0e-43ce-f13b-1be1548d8c2a"
      },
      "execution_count": null,
      "outputs": [
        {
          "output_type": "stream",
          "name": "stdout",
          "text": [
            "☆☆☆☆☆☆☆☆☆☆☆☆\n",
            "Python is easy to learn\n",
            "☆☆☆☆☆☆☆☆☆☆☆☆\n"
          ]
        }
      ]
    },
    {
      "cell_type": "code",
      "source": [
        "# Q1. 아래와 같이 출력할 수 있는 string을 만드세요.\n",
        "\n",
        "# 'What a wonderful world!'\n",
        "# he said loudly\n",
        "\n",
        "a = \"'What a wonderful world!'\\nhe said loudly\"\n",
        "\n",
        "print(a)"
      ],
      "metadata": {
        "colab": {
          "base_uri": "https://localhost:8080/"
        },
        "id": "3OmKT4CWT3JL",
        "outputId": "ea99c159-ebf4-402f-982c-c0cd340673de"
      },
      "execution_count": null,
      "outputs": [
        {
          "output_type": "stream",
          "name": "stdout",
          "text": [
            "'What a wonderful world!'\n",
            "he said loudly\n"
          ]
        }
      ]
    },
    {
      "cell_type": "code",
      "source": [
        "# Q2. 다른 타입의 숫자 2개를 입력받아 큰 수를 출력하세요.\n",
        "\n",
        "num1 = int(input(\"정수를 입력하세요.\"))\n",
        "num2 = float(input(\"실수를 입력하세요.\"))\n",
        "\n",
        "if num1 > num2:\n",
        "    print(num1)\n",
        "elif num2 > num1:\n",
        "    print(num2)\n",
        "elif num1 == num2:\n",
        "    print(\"두 숫자가 똑같습니다.\")\n",
        "else : print(\"큰 수가 없습니다.\")"
      ],
      "metadata": {
        "colab": {
          "base_uri": "https://localhost:8080/"
        },
        "id": "-HfkZCFxVBz9",
        "outputId": "926448aa-ea72-45f9-ce2e-50288b068e53"
      },
      "execution_count": null,
      "outputs": [
        {
          "output_type": "stream",
          "name": "stdout",
          "text": [
            "정수를 입력하세요.20\n",
            "실수를 입력하세요.20.0\n",
            "두 숫자가 똑같습니다.\n"
          ]
        }
      ]
    },
    {
      "cell_type": "code",
      "source": [
        "# 자료형 - List\n",
        "# 리스트는 [] 로 표시하며 []안의 요소를 콤마로 구분하여 순서있게 나열\n",
        "list1 = [1,2,3,4,5]\n",
        "list2 = ['a','b','c']\n",
        "list3 = [1,'a','abc',[1,2,3,4,5],['a','b','c']]\n",
        "\n",
        "print(list1)\n",
        "print(list2)\n",
        "print(list3)"
      ],
      "metadata": {
        "colab": {
          "base_uri": "https://localhost:8080/"
        },
        "id": "mXux2j-8W932",
        "outputId": "27bf74ef-71c8-4eb1-b2f2-6a3b968a9c82"
      },
      "execution_count": null,
      "outputs": [
        {
          "output_type": "stream",
          "name": "stdout",
          "text": [
            "[1, 2, 3, 4, 5]\n",
            "['a', 'b', 'c']\n",
            "[1, 'a', 'abc', [1, 2, 3, 4, 5], ['a', 'b', 'c']]\n"
          ]
        }
      ]
    },
    {
      "cell_type": "code",
      "source": [
        "# 인덱싱\n",
        "list1 = [1,2,3,4,5]\n",
        "list1[2]\n",
        "list1[0:2]\n",
        "list1[:4]"
      ],
      "metadata": {
        "colab": {
          "base_uri": "https://localhost:8080/"
        },
        "id": "j0puBVOUqMlZ",
        "outputId": "8951c5ae-28b1-4873-fe5e-c03f62682b68"
      },
      "execution_count": null,
      "outputs": [
        {
          "output_type": "execute_result",
          "data": {
            "text/plain": [
              "[1, 2, 3, 4]"
            ]
          },
          "metadata": {},
          "execution_count": 63
        }
      ]
    },
    {
      "cell_type": "code",
      "source": [
        "list1 = [1,'a','abc',[1,2,3,4,5],['a','b','c']]\n",
        "\n",
        "print(list1[3][2])\n",
        "print(list1[4][0])"
      ],
      "metadata": {
        "colab": {
          "base_uri": "https://localhost:8080/"
        },
        "id": "qiEroy5Gq7DP",
        "outputId": "a78ca729-e47e-4651-eb66-1ebd35d26f8c"
      },
      "execution_count": null,
      "outputs": [
        {
          "output_type": "stream",
          "name": "stdout",
          "text": [
            "3\n",
            "a\n"
          ]
        }
      ]
    },
    {
      "cell_type": "code",
      "source": [
        "# 리스트 수정, 삭제\n",
        "a = [0,1,2,3,4,5,6,7,8,9]\n",
        "b = ['a','b','c']\n",
        "a[0] = 1\n",
        "b[1] = 'a'\n",
        "print(a)\n",
        "print(b)\n",
        "\n",
        "del a[0]\n",
        "del b[1]\n",
        "print(a)\n",
        "print(b)"
      ],
      "metadata": {
        "colab": {
          "base_uri": "https://localhost:8080/"
        },
        "id": "DxHFN3kBr-O9",
        "outputId": "8a3187a1-d956-435b-9967-8d443067bf21"
      },
      "execution_count": null,
      "outputs": [
        {
          "output_type": "stream",
          "name": "stdout",
          "text": [
            "[1, 1, 2, 3, 4, 5, 6, 7, 8, 9]\n",
            "['a', 'a', 'c']\n",
            "[1, 2, 3, 4, 5, 6, 7, 8, 9]\n",
            "['a', 'c']\n"
          ]
        }
      ]
    },
    {
      "cell_type": "code",
      "source": [
        "# 끝에서 부터 인덱싱 : -1\n",
        "a = [0,1,2,3,4,5,6,7,8,9]\n",
        "b = ['a','b','c']\n",
        "print(a[-2])\n",
        "print(a[-4:-1])\n",
        "print(a[-4:])\n",
        "print(b[-2])"
      ],
      "metadata": {
        "colab": {
          "base_uri": "https://localhost:8080/"
        },
        "id": "Ts34bSW7tIs7",
        "outputId": "8237f4a5-3f03-4fad-8f65-666072448348"
      },
      "execution_count": null,
      "outputs": [
        {
          "output_type": "stream",
          "name": "stdout",
          "text": [
            "8\n",
            "[6, 7, 8]\n",
            "[6, 7, 8, 9]\n",
            "b\n"
          ]
        }
      ]
    },
    {
      "cell_type": "code",
      "source": [
        "# 리스트 확정\n",
        "h = [1,2,3]\n",
        "h.extend([4,5]) # 반복 가능한 객체의 모든 요소를 리스트에 추가\n",
        "print(h)\n",
        "h.append(6) # 단일 객체를 추가\n",
        "print(h)\n",
        "h.insert(0,5)\n",
        "print(h)"
      ],
      "metadata": {
        "colab": {
          "base_uri": "https://localhost:8080/"
        },
        "id": "MCB4q4sZtwTQ",
        "outputId": "238503c2-d961-447b-b704-7528bbc5e0e5"
      },
      "execution_count": null,
      "outputs": [
        {
          "output_type": "stream",
          "name": "stdout",
          "text": [
            "[1, 2, 3, 4, 5]\n",
            "[1, 2, 3, 4, 5, 6]\n",
            "[5, 1, 2, 3, 4, 5, 6]\n"
          ]
        }
      ]
    },
    {
      "cell_type": "markdown",
      "source": [
        "Q. list1에서 다음을 수행하세요\n",
        "- 33을 출력\n",
        "- 82를 리스트에 추가\n",
        "- 87의 인덱스 구하기\n",
        "- 인덱스 3에서 10까지의 값을 출력하고 list2에 저장한 후 내림차순 정렬하기\n",
        "- 39를 11로 변경\n",
        "- [69,45,58] 출력\n",
        "- 짝수 인덱스의 값으로 구성된 리스트 출력하기\n",
        "- 인덱스가 가장 큰수를 삭제하기\n",
        "- 인덱스 3, 5인 값으로 4칙 연산하기\n",
        "\n",
        "list1 = [58, 45, 69, 19,  4, 87, 29, 13, 39, 15, 54, [8, 33, 11], 27, 49, 63, 98, 22, 82]"
      ],
      "metadata": {
        "id": "Y81tczbLwtt1"
      }
    },
    {
      "cell_type": "code",
      "source": [
        "list1 = [58,45,69,19,4,87,29,13,39,15,54,[8,33,11],27,49,63,98,22,82]\n",
        "\n",
        "print(list1[11][1])\n",
        "\n",
        "list1.append(82)\n",
        "print(list1)\n",
        "\n",
        "# .index(x)는 x의 인덱스 번호를 알려준다\n",
        "print(list1.index(87))\n",
        "\n",
        "list2 = list1[3:11]\n",
        "list2.sort(reverse=True)\n",
        "print(list2)\n",
        "\n",
        "list1[8] = 11\n",
        "print(list1[8])\n",
        "\n",
        "print(list1[2::-1])\n",
        "print(list1[0::2])\n",
        "\n",
        "del list1[-1]\n",
        "print(list1)\n",
        "\n",
        "a = list1[3]\n",
        "b = list1[5]\n",
        "\n",
        "print(a+b)\n",
        "print(a-b)\n",
        "print(a*b)\n",
        "print(a/b)\n",
        "print(a//b)\n",
        "print(a%b)\n",
        "print(a**b)\n"
      ],
      "metadata": {
        "colab": {
          "base_uri": "https://localhost:8080/"
        },
        "id": "5YofnxMYvvIB",
        "outputId": "2462abf2-8ea7-4fe8-8aeb-e8e906c080a4"
      },
      "execution_count": null,
      "outputs": [
        {
          "output_type": "stream",
          "name": "stdout",
          "text": [
            "33\n",
            "[58, 45, 69, 19, 4, 87, 29, 13, 39, 15, 54, [8, 33, 11], 27, 49, 63, 98, 22, 82, 82]\n",
            "5\n",
            "[87, 54, 39, 29, 19, 15, 13, 4]\n",
            "11\n",
            "[69, 45, 58]\n",
            "[58, 69, 4, 29, 11, 54, 27, 63, 22, 82]\n",
            "[58, 45, 69, 19, 4, 87, 29, 13, 11, 15, 54, [8, 33, 11], 27, 49, 63, 98, 22, 82]\n",
            "106\n",
            "-68\n",
            "1653\n",
            "0.21839080459770116\n",
            "0\n",
            "19\n",
            "1784692024660069843400588950089820848205359612815447007430736376271289420707549395931423768497105136108949665339\n"
          ]
        }
      ]
    },
    {
      "cell_type": "code",
      "source": [
        "# x:: = 인덱스 x번째가 시작점 ::-2 = 역순으로 한칸씩 점프해서 출력해준다.\n",
        "list1 = [58,45,69,19,4,87,29,13,39,15,54,[8,33,11],27,49,63,98,22,82]\n",
        "print(list1)\n",
        "print(list1[7::-1])\n",
        "print(list1[7::2])\n",
        "print(list1[7::-2])"
      ],
      "metadata": {
        "colab": {
          "base_uri": "https://localhost:8080/"
        },
        "id": "plR8KAVa7b2m",
        "outputId": "24109ce3-57fd-4c28-ca9a-1265d7ece6db"
      },
      "execution_count": null,
      "outputs": [
        {
          "output_type": "stream",
          "name": "stdout",
          "text": [
            "[58, 45, 69, 19, 4, 87, 29, 13, 39, 15, 54, [8, 33, 11], 27, 49, 63, 98, 22, 82]\n",
            "[13, 29, 87, 4, 19, 69, 45, 58]\n",
            "[13, 15, [8, 33, 11], 49, 98, 82]\n",
            "[13, 87, 19, 45]\n"
          ]
        }
      ]
    },
    {
      "cell_type": "markdown",
      "source": [
        "#### sort 와 sorted 차이점\n",
        "\n",
        "1. 메서드 vs 함수:\n",
        "- sort(): 리스트 객체의 내장 메서드입니다. 즉, 리스트에서만 사용할 수 있습니다.\n",
        "- sorted(): 내장 함수로, 어떤 반복 가능한(iterable) 객체에도 사용될 수 있습니다. 예를 들면 리스트, 튜플, 딕셔너리, 문자열 등에 사용할 수 있습니다.\n",
        "\n",
        "2. 반환 값:\n",
        "- sort(): 리스트를 원 위치에서(in-place) 정렬하고 None을 반환합니다. 따라서 원래의 리스트 자체가 변경됩니다.\n",
        "- sorted(): 정렬된 새로운 리스트를 반환합니다. 원래의 객체는 변경되지 않습니다.\n",
        "\n",
        "3. 유용성:\n",
        "- sort(): 리스트에서만 작동하기 때문에 리스트만 정렬할 수 있습니다.\n",
        "- sorted(): 다양한 객체를 정렬할 수 있으며 결과는 항상 리스트로 반환됩니다."
      ],
      "metadata": {
        "id": "ESG0Yug49qUE"
      }
    },
    {
      "cell_type": "code",
      "source": [
        "# sort() 원본을 정렬함\n",
        "my_list = [3, 1, 2]\n",
        "my_list.sort()\n",
        "print(my_list)\n",
        "\n",
        "# sorted() 원본이 정렬이 안되고 유지\n",
        "my_tuple = (3, 1, 2)\n",
        "new_list = sorted(my_tuple)\n",
        "print(my_tuple)\n",
        "print(new_list)\n"
      ],
      "metadata": {
        "colab": {
          "base_uri": "https://localhost:8080/"
        },
        "id": "E-8Rt2VW9rsi",
        "outputId": "a02f6212-bbeb-49a8-da92-071633fc53f2"
      },
      "execution_count": null,
      "outputs": [
        {
          "output_type": "stream",
          "name": "stdout",
          "text": [
            "[1, 2, 3]\n",
            "[1, 2, 3]\n",
            "(3, 1, 2)\n"
          ]
        }
      ]
    },
    {
      "cell_type": "code",
      "source": [
        "list = [5, 6, 9, 7, 8]\n",
        "new_list = list.sort()\n",
        "print(list)\n",
        "print(new_list) # sort는 none을 반환한다"
      ],
      "metadata": {
        "colab": {
          "base_uri": "https://localhost:8080/"
        },
        "id": "vN4jDKf-EPPa",
        "outputId": "33eee666-0a11-4aba-9c24-810d86eabe8c"
      },
      "execution_count": null,
      "outputs": [
        {
          "output_type": "stream",
          "name": "stdout",
          "text": [
            "[5, 6, 7, 8, 9]\n",
            "None\n"
          ]
        }
      ]
    },
    {
      "cell_type": "code",
      "source": [
        "list = [5, 6, 9, 7, 8]\n",
        "new_list = sorted(list)\n",
        "print(list)\n",
        "print(new_list) # sorted는 값을 반환을 해준다."
      ],
      "metadata": {
        "colab": {
          "base_uri": "https://localhost:8080/"
        },
        "id": "hUBSNvBpEoxP",
        "outputId": "02a185f3-9bf8-4000-9951-cfcd5bb0a664"
      },
      "execution_count": null,
      "outputs": [
        {
          "output_type": "stream",
          "name": "stdout",
          "text": [
            "[5, 6, 9, 7, 8]\n",
            "[5, 6, 7, 8, 9]\n"
          ]
        }
      ]
    },
    {
      "cell_type": "code",
      "source": [
        "list1 = [58,45,69,19,4,87,29,13,39,15,54,[8,33,11],27,49,63,98,22,82]\n",
        "list2 = list1[3:11]\n",
        "l_sort = sorted(list2,reverse=True)\n",
        "print(l_sort)"
      ],
      "metadata": {
        "colab": {
          "base_uri": "https://localhost:8080/"
        },
        "id": "o_pi8-7uFxEx",
        "outputId": "0d2b1e1d-3232-4ea8-dbef-dc398757a856"
      },
      "execution_count": null,
      "outputs": [
        {
          "output_type": "stream",
          "name": "stdout",
          "text": [
            "[87, 54, 39, 29, 19, 15, 13, 4]\n"
          ]
        }
      ]
    },
    {
      "cell_type": "code",
      "source": [
        "list1 = [58,45,69,19,4,87,29,13,39,15,54,[8,33,11],27,49,63,98,22,82]\n",
        "list2 = list1[3:11]\n",
        "list2.sort(reverse=True)\n",
        "print(list2)"
      ],
      "metadata": {
        "colab": {
          "base_uri": "https://localhost:8080/"
        },
        "id": "r7eWl8rHGfGV",
        "outputId": "dffb2c8f-50f1-4826-9f76-f3a79a7354d2"
      },
      "execution_count": null,
      "outputs": [
        {
          "output_type": "stream",
          "name": "stdout",
          "text": [
            "[87, 54, 39, 29, 19, 15, 13, 4]\n"
          ]
        }
      ]
    },
    {
      "cell_type": "markdown",
      "source": [
        "Task1_0425. 주어진 숫자 리스트에서 최소값과 최대값을 찾아 출력하세요.\n",
        "\n",
        "numbers = [58, 45, 69, 19, 4, 87, 29, 13, 39, 15]"
      ],
      "metadata": {
        "id": "yhVMg5M6HFH9"
      }
    },
    {
      "cell_type": "code",
      "source": [
        "numbers = [58,45,69,19,4,87,29,13,39,15]\n",
        "l_sort = sorted(numbers,reverse=True)\n",
        "max1 = l_sort[0]\n",
        "min1 = l_sort[-1]\n",
        "print(\"최대값 : \",max1)\n",
        "print(\"최소값 : \",min1)"
      ],
      "metadata": {
        "colab": {
          "base_uri": "https://localhost:8080/"
        },
        "id": "og5a2PdLIsIn",
        "outputId": "34b53863-4b7d-4030-8936-a23868dffa35"
      },
      "execution_count": null,
      "outputs": [
        {
          "output_type": "stream",
          "name": "stdout",
          "text": [
            "최대값 :  87\n",
            "최소값 :  4\n"
          ]
        }
      ]
    },
    {
      "cell_type": "code",
      "source": [
        "numbers = [58,45,69,19,4,87,29,13,39,15]\n",
        "# 최소값과 최대값 찾기\n",
        "min_value = min(numbers)\n",
        "max_value = max(numbers)\n",
        "\n",
        "# 결과 출력\n",
        "print(f'최소값 : {min_value}, 최대값 : {max_value}')"
      ],
      "metadata": {
        "colab": {
          "base_uri": "https://localhost:8080/"
        },
        "id": "Kxgpx9WlwqYL",
        "outputId": "8d295839-1112-44c4-e7b6-3019517c8745"
      },
      "execution_count": null,
      "outputs": [
        {
          "output_type": "stream",
          "name": "stdout",
          "text": [
            "최소값 : 4, 최대값 : 87\n"
          ]
        }
      ]
    },
    {
      "cell_type": "code",
      "source": [
        "numbers = [58,45,69,19,4,87,29,13,39,15]\n",
        "\n",
        "# 최소값과 최대값을 첫 번쨰 요소로\n",
        "max = nubers[0]\n",
        "min = nubers[0]"
      ],
      "metadata": {
        "id": "dbkRXrRszpWw"
      },
      "execution_count": null,
      "outputs": []
    },
    {
      "cell_type": "markdown",
      "source": [
        "Task2_0425. 주어진 숫자 리스트의 모든 요소의 합계와 평균을 계산하고 출력하세요\n",
        "\n",
        "numbers = [58, 45, 69, 19, 4, 87, 29, 13, 39, 15]"
      ],
      "metadata": {
        "id": "Zq--txnSHGLw"
      }
    },
    {
      "cell_type": "code",
      "source": [
        "# 리스트 정의\n",
        "numbers = [58,45,69,19,4,87,29,13,39,15]\n",
        "\n",
        "# 합계 계산\n",
        "sum1 = sum(numbers)\n",
        "\n",
        "# 평균 계산\n",
        "ave = sum1/len(numbers)\n",
        "\n",
        "print('합계 : ',sum1)\n",
        "print('평균 : ',ave)"
      ],
      "metadata": {
        "colab": {
          "base_uri": "https://localhost:8080/"
        },
        "id": "bg864lqEKt6d",
        "outputId": "5bf9530e-95a5-4cf2-9e2e-8e53c0635192"
      },
      "execution_count": null,
      "outputs": [
        {
          "output_type": "stream",
          "name": "stdout",
          "text": [
            "합계 :  378\n",
            "평균 :  37.8\n"
          ]
        }
      ]
    },
    {
      "cell_type": "code",
      "source": [
        "# 파이썬에서 평균을 구하는 내장함수는 없음\n",
        "import numpy as np\n",
        "numbers = [58,45,69,19,4,87,29,13,39,15]\n",
        "\n",
        "print(f'합계 : {sum(numbers)} 평균 : {np.mean(numbers)}')"
      ],
      "metadata": {
        "colab": {
          "base_uri": "https://localhost:8080/"
        },
        "id": "thLXoYew0mHq",
        "outputId": "4f0d65e6-5f16-4fc9-aac2-cb16883376ba"
      },
      "execution_count": null,
      "outputs": [
        {
          "output_type": "stream",
          "name": "stdout",
          "text": [
            "합계 : 378 평균 : 37.8\n"
          ]
        }
      ]
    },
    {
      "cell_type": "code",
      "source": [],
      "metadata": {
        "id": "bR0wAig82TVg"
      },
      "execution_count": null,
      "outputs": []
    },
    {
      "cell_type": "markdown",
      "source": [
        "Task3_0425. 주어진 리스트에서 특정 요소가 등장하는 모든 인덱스를 리스트로 만들어 출력하세요.\n",
        "\n",
        "items = ['apple', 'banana', 'cherry', 'apple', 'cherry', 'apple']\n",
        "\n",
        "  -target='apple'"
      ],
      "metadata": {
        "id": "JkDVieIvHIae"
      }
    },
    {
      "cell_type": "code",
      "source": [
        "# 이건 잘못된 예시 .index는 리스트에서 중복된 요소에 앞에 있는 인덱스만 알려줌\n",
        "items = ['apple','banana','cherry','apple','cherry','apple']\n",
        "items2 = []\n",
        "for i in items:\n",
        "  if i == 'apple':\n",
        "    items2.append([items.index(i)])\n",
        "\n",
        "print(items2)\n"
      ],
      "metadata": {
        "colab": {
          "base_uri": "https://localhost:8080/"
        },
        "id": "w9TiQUTANMQr",
        "outputId": "ab6db044-6630-4c96-9731-48446144e866"
      },
      "execution_count": null,
      "outputs": [
        {
          "output_type": "stream",
          "name": "stdout",
          "text": [
            "[[0], [0], [0]]\n"
          ]
        }
      ]
    },
    {
      "cell_type": "code",
      "source": [
        "# 리스트 정의\n",
        "items = ['apple','banana','cherry','apple','cherry','apple']\n",
        "\n",
        "# 찾을 요소\n",
        "target = 'apple'\n",
        "\n",
        "# 인덱스 찾기\n",
        "# 변수명 = [index for 변수명1, 변수명2 in enumerate(리스트명) if value == 찾을요소]\n",
        "indexes = [index for index, value in enumerate(items) if value == target]\n",
        "indexes1 = [value for index, value in enumerate(items) if value == target]\n",
        "\n",
        "# 결과 출력\n",
        "print(f\"'{target}'의 모든 인덱스: {indexes}\")\n",
        "print(indexes1)"
      ],
      "metadata": {
        "colab": {
          "base_uri": "https://localhost:8080/"
        },
        "id": "p-yGHQih2oN2",
        "outputId": "92203a33-ccdf-49bf-e87c-777865b46a8e"
      },
      "execution_count": null,
      "outputs": [
        {
          "output_type": "stream",
          "name": "stdout",
          "text": [
            "'apple'의 모든 인덱스: [0, 3, 5]\n",
            "['apple', 'apple', 'apple']\n"
          ]
        }
      ]
    },
    {
      "cell_type": "markdown",
      "source": [
        "Task4_0425. 주어진 리스트에서 연속해서 반복되는 요소만 제거하고, 결과 리스트를 반환하세요. 단, 처음 등장하는 요소는 유지해야 합니다.\n",
        "\n",
        "예를 들어, ['a', 'a', 'b', 'c', 'c', 'c', 'd', 'e', 'e']가 입력되면, ['a', 'b', 'c', 'd', 'e']를 출력해야 합니다."
      ],
      "metadata": {
        "id": "_6VUgp1NHKyW"
      }
    },
    {
      "cell_type": "code",
      "source": [
        "li = ['a', 'a', 'b', 'b', 'c', 'c', 'd', 'd', 'e', 'e']\n",
        "result = [li[0]]\n",
        "for i in li[1:]:\n",
        "    if i != result[-1]:\n",
        "      result.append(i)\n",
        "print(result)"
      ],
      "metadata": {
        "colab": {
          "base_uri": "https://localhost:8080/"
        },
        "id": "v1DNWktv8y7J",
        "outputId": "74bf1ee8-98fe-4e8b-ef4c-0e9174a3449f"
      },
      "execution_count": null,
      "outputs": [
        {
          "output_type": "stream",
          "name": "stdout",
          "text": [
            "['a', 'b', 'c', 'd', 'e']\n"
          ]
        }
      ]
    },
    {
      "cell_type": "code",
      "source": [
        "# 함수 버전\n",
        "def remove_consecutive_duplicates(items):\n",
        "    if not items:\n",
        "      return[]\n",
        "    # 결과 리스트 초기화\n",
        "    result = [items[0]]\n",
        "    # 이전 요소와 비교하면서 중복 제거\n",
        "    for current in items[1:]:\n",
        "        if current != result[-1]:\n",
        "            result.append(current)\n",
        "    return result\n",
        "\n",
        "# 리스트 정의\n",
        "items = ['a', 'a', 'b', 'b', 'c', 'c', 'd', 'd', 'e', 'e']\n",
        "# 결과 출력\n",
        "print(remove_consecutive_duplicates(items))"
      ],
      "metadata": {
        "colab": {
          "base_uri": "https://localhost:8080/"
        },
        "id": "0uJF6EIH-5Lc",
        "outputId": "fb7bb5b8-4d0e-4503-f8b1-d737646e8a7e"
      },
      "execution_count": null,
      "outputs": [
        {
          "output_type": "stream",
          "name": "stdout",
          "text": [
            "['a', 'b', 'c', 'd', 'e']\n"
          ]
        }
      ]
    },
    {
      "cell_type": "markdown",
      "source": [
        "Task5_0425 주어진 정수 리스트와 회전 횟수 k에 대해 리스트를 오른쪽으로 k만큼 회전시킨 결과를 반환하세요. k가 리스트의 길이보다 클 수 있으며, 이 경우 k를 리스트 길이로 나눈 나머지만큼 실제 회전시키면 됩니다.\n",
        "\n",
        "예를 들어, [1, 2, 3, 4, 5]와 k=2가 주어지면, 결과는 [4, 5, 1, 2, 3]이 되어야 합니다."
      ],
      "metadata": {
        "id": "Y7vU05rUHM1i"
      }
    },
    {
      "cell_type": "code",
      "source": [
        "def rotate_list(nums, k):\n",
        "    if not nums:\n",
        "        return nums\n",
        "    # 회전 횟수를 리스트 길이로 나눈 나머지로 계산\n",
        "    k = k % len(nums)\n",
        "    # 리스트의 끝부분을 앞으로, 앞부분을 끝으로 옮김\n",
        "    rotated = nums[-k:] + nums[:-k]\n",
        "    return rotated\n",
        "\n",
        "# 리스트 정의\n",
        "nums = [1, 2, 3, 4, 5]\n",
        "k = 4\n",
        "# 결과 출력\n",
        "print(rotate_list(nums, k))"
      ],
      "metadata": {
        "colab": {
          "base_uri": "https://localhost:8080/"
        },
        "id": "FKfAukxkA5vs",
        "outputId": "4e7a446f-66d3-4a8c-d3ca-6e61d1832a1a"
      },
      "execution_count": null,
      "outputs": [
        {
          "output_type": "stream",
          "name": "stdout",
          "text": [
            "[2, 3, 4, 5, 1]\n"
          ]
        }
      ]
    },
    {
      "cell_type": "code",
      "source": [
        "def rotate_list(nums, k):\n",
        "    if not nums:\n",
        "        return nums\n",
        "    # 회전 횟수를 리스트 길이로 나눈 나머지로 계산\n",
        "    k = k % len(nums)\n",
        "    # 리스트의 끝부분을 앞으로, 앞부분을 끝으로 옮김\n",
        "    rotated = nums[k:] + nums[:k]\n",
        "    return rotated\n",
        "\n",
        "# 리스트 정의\n",
        "nums = [1, 2, 3, 4, 5]\n",
        "k = 2\n",
        "boom = [1, 2, 3, 4, 5, 6]\n",
        "# 결과 출력\n",
        "print(rotate_list(boom, k))"
      ],
      "metadata": {
        "colab": {
          "base_uri": "https://localhost:8080/"
        },
        "id": "5XR6GdkVEg-F",
        "outputId": "c3f6829c-88cf-4131-9608-8de346668a74"
      },
      "execution_count": null,
      "outputs": [
        {
          "output_type": "stream",
          "name": "stdout",
          "text": [
            "[3, 4, 5, 6, 1, 2]\n"
          ]
        }
      ]
    },
    {
      "cell_type": "markdown",
      "source": [
        "# 자료형 - Tuple\n",
        "\n",
        "  - 투플은 변경할 수 없는(immutable) 순서가 있는 컬렉션\n",
        "  - 프로그램에서 그 값이 항상 변하지 않아야되는 경우 사용"
      ],
      "metadata": {
        "id": "BhfRXMFFJ1bh"
      }
    },
    {
      "cell_type": "code",
      "source": [
        "tuple1 = (1, 2, 3, 4, 5)\n",
        "tuple2 = ('a', 'b', 'c')\n",
        "tuple3 = (1, 'a', 'abc', [1, 2, 3, 4, 5], ('a', 'b', 'c'))\n",
        "\n",
        "print(tuple1[:])\n",
        "print(tuple2[2])\n",
        "print(tuple3[3][2])"
      ],
      "metadata": {
        "colab": {
          "base_uri": "https://localhost:8080/"
        },
        "id": "TkImRIZCKAGD",
        "outputId": "0a0e0908-8810-4cea-d27b-f0a22918f453"
      },
      "execution_count": null,
      "outputs": [
        {
          "output_type": "stream",
          "name": "stdout",
          "text": [
            "(1, 2, 3, 4, 5)\n",
            "c\n",
            "3\n"
          ]
        }
      ]
    },
    {
      "cell_type": "code",
      "source": [
        "# 리스트는 안에 요소를 변경이 가능\n",
        "list = [1, 2, 3, 4, 5]\n",
        "list[0] = 0\n",
        "print(list)"
      ],
      "metadata": {
        "colab": {
          "base_uri": "https://localhost:8080/"
        },
        "id": "ZzZoSiBwK-dC",
        "outputId": "c3f55491-c2cd-4473-ad40-2273ccb3f25e"
      },
      "execution_count": null,
      "outputs": [
        {
          "output_type": "stream",
          "name": "stdout",
          "text": [
            "[0, 2, 3, 4, 5]\n"
          ]
        }
      ]
    },
    {
      "cell_type": "code",
      "source": [
        "# tuple은 요소가 변경이 안됨 오류뜸\n",
        "tuple = (1, 2, 3, 4, 5)\n",
        "tuple[0] = 0\n",
        "print(tuple)"
      ],
      "metadata": {
        "colab": {
          "base_uri": "https://localhost:8080/",
          "height": 184
        },
        "id": "LY-9gFWgLHch",
        "outputId": "8561fea7-73d2-49e0-818b-0fd541140113"
      },
      "execution_count": null,
      "outputs": [
        {
          "output_type": "error",
          "ename": "TypeError",
          "evalue": "'tuple' object does not support item assignment",
          "traceback": [
            "\u001b[0;31m---------------------------------------------------------------------------\u001b[0m",
            "\u001b[0;31mTypeError\u001b[0m                                 Traceback (most recent call last)",
            "\u001b[0;32m<ipython-input-26-62dc970b0518>\u001b[0m in \u001b[0;36m<cell line: 2>\u001b[0;34m()\u001b[0m\n\u001b[1;32m      1\u001b[0m \u001b[0mtuple\u001b[0m \u001b[0;34m=\u001b[0m \u001b[0;34m(\u001b[0m\u001b[0;36m1\u001b[0m\u001b[0;34m,\u001b[0m \u001b[0;36m2\u001b[0m\u001b[0;34m,\u001b[0m \u001b[0;36m3\u001b[0m\u001b[0;34m,\u001b[0m \u001b[0;36m4\u001b[0m\u001b[0;34m,\u001b[0m \u001b[0;36m5\u001b[0m\u001b[0;34m)\u001b[0m\u001b[0;34m\u001b[0m\u001b[0;34m\u001b[0m\u001b[0m\n\u001b[0;32m----> 2\u001b[0;31m \u001b[0mtuple\u001b[0m\u001b[0;34m[\u001b[0m\u001b[0;36m0\u001b[0m\u001b[0;34m]\u001b[0m \u001b[0;34m=\u001b[0m \u001b[0;36m0\u001b[0m\u001b[0;34m\u001b[0m\u001b[0;34m\u001b[0m\u001b[0m\n\u001b[0m\u001b[1;32m      3\u001b[0m \u001b[0mprint\u001b[0m\u001b[0;34m(\u001b[0m\u001b[0mtuple\u001b[0m\u001b[0;34m)\u001b[0m\u001b[0;34m\u001b[0m\u001b[0;34m\u001b[0m\u001b[0m\n",
            "\u001b[0;31mTypeError\u001b[0m: 'tuple' object does not support item assignment"
          ]
        }
      ]
    },
    {
      "cell_type": "code",
      "source": [
        "l1 = [1]\n",
        "print(l1)"
      ],
      "metadata": {
        "colab": {
          "base_uri": "https://localhost:8080/"
        },
        "id": "wl8eqbfuL3T-",
        "outputId": "ccfccfb4-21b8-4045-da17-92da96c57da7"
      },
      "execution_count": null,
      "outputs": [
        {
          "output_type": "stream",
          "name": "stdout",
          "text": [
            "[1]\n"
          ]
        }
      ]
    },
    {
      "cell_type": "code",
      "source": [
        "t1 = (1,) # 1개의 요소만 가질 때는 요소뒤에 콤마를 붙여야 함\n",
        "print(t1)\n",
        "\n",
        "# ,를 뒤에 안붙이면 생기는 결과\n",
        "t2 = (1)\n",
        "print(t2)\n",
        "type(t2)"
      ],
      "metadata": {
        "colab": {
          "base_uri": "https://localhost:8080/"
        },
        "id": "QO5m_XH1L8j2",
        "outputId": "4224afd2-6eca-4d5b-cdcb-9acbe7df6d64"
      },
      "execution_count": null,
      "outputs": [
        {
          "output_type": "stream",
          "name": "stdout",
          "text": [
            "(1,)\n",
            "1\n"
          ]
        },
        {
          "output_type": "execute_result",
          "data": {
            "text/plain": [
              "int"
            ]
          },
          "metadata": {},
          "execution_count": 28
        }
      ]
    },
    {
      "cell_type": "code",
      "source": [
        "# 소괄호를 안해도 가능\n",
        "t2 = 1,2,3\n",
        "print(t2)\n",
        "type(t2)"
      ],
      "metadata": {
        "colab": {
          "base_uri": "https://localhost:8080/"
        },
        "id": "JpJXKdYPMm9i",
        "outputId": "9812a27b-ad64-48ce-a2e1-3c86df05cbd8"
      },
      "execution_count": null,
      "outputs": [
        {
          "output_type": "stream",
          "name": "stdout",
          "text": [
            "(1, 2, 3)\n"
          ]
        },
        {
          "output_type": "execute_result",
          "data": {
            "text/plain": [
              "tuple"
            ]
          },
          "metadata": {},
          "execution_count": 29
        }
      ]
    },
    {
      "cell_type": "code",
      "source": [
        "t1 = (1,)\n",
        "t2 = (1)\n",
        "t3 = 1,2,3\n",
        "\n",
        "# t2 + t3 결과는 오류뜸 t2는 int\n",
        "t1 + t3"
      ],
      "metadata": {
        "colab": {
          "base_uri": "https://localhost:8080/"
        },
        "id": "49SbdYjdNxnZ",
        "outputId": "1fe77d0b-9b13-4482-c351-de08209a3311"
      },
      "execution_count": null,
      "outputs": [
        {
          "output_type": "execute_result",
          "data": {
            "text/plain": [
              "(1, 1, 2, 3)"
            ]
          },
          "metadata": {},
          "execution_count": 32
        }
      ]
    },
    {
      "cell_type": "code",
      "source": [
        "colors = ('red', 'green', 'blue')\n",
        "r, g, b = colors\n",
        "\n",
        "print(r)\n",
        "print(g)\n",
        "print(b)"
      ],
      "metadata": {
        "colab": {
          "base_uri": "https://localhost:8080/"
        },
        "id": "o6vxl3O7OkIS",
        "outputId": "c4e1f2a0-306b-48e6-914a-22aa69f31422"
      },
      "execution_count": null,
      "outputs": [
        {
          "output_type": "stream",
          "name": "stdout",
          "text": [
            "red\n",
            "green\n",
            "blue\n"
          ]
        }
      ]
    },
    {
      "cell_type": "markdown",
      "source": [
        "함수에서 여러 값을 반환할 때 튜플을 사용하는 것이 일반적입니다"
      ],
      "metadata": {
        "id": "lYuZjaahPPi_"
      }
    },
    {
      "cell_type": "markdown",
      "source": [
        "Q. 주어진 리스트의 총합과 평균을 동시에 반환하는 함수를 작성하세요."
      ],
      "metadata": {
        "id": "ZnAJlkvWPXyg"
      }
    },
    {
      "cell_type": "code",
      "source": [
        "numbers = [10, 20, 30, 40, 50]\n",
        "\n",
        "def calculate_sum_and_average(numbers):\n",
        "    total = sum(numbers)\n",
        "    average = sum(numbers) / len(numbers)\n",
        "    return (total, average)\n",
        "\n",
        "total, average = calculate_sum_and_average(numbers)\n",
        "print(f'총합 : {total}, 평균 : {average}')"
      ],
      "metadata": {
        "colab": {
          "base_uri": "https://localhost:8080/"
        },
        "id": "_GoYrbyCPOfe",
        "outputId": "9e0a12e0-95f2-4041-ed86-6a8566fd7d77"
      },
      "execution_count": null,
      "outputs": [
        {
          "output_type": "stream",
          "name": "stdout",
          "text": [
            "총합 : 150, 평균 : 30.0\n"
          ]
        }
      ]
    },
    {
      "cell_type": "markdown",
      "source": [
        "# 자료형 - 사전\n",
        "- 키와 값을 하나의 요소로 하는 순서가 없는 집합"
      ],
      "metadata": {
        "id": "7qgVHM9HRONT"
      }
    },
    {
      "cell_type": "code",
      "source": [
        "{a:1,b:2}"
      ],
      "metadata": {
        "id": "fntW0VNDRfOg"
      },
      "execution_count": null,
      "outputs": []
    },
    {
      "cell_type": "code",
      "source": [
        "d1 = {'a':1, 'b':2, 'c':3}\n",
        "print(d1['a'])\n",
        "\n",
        "print(d1.keys())    # 키만 출력\n",
        "print(d1.values())  # 값만 출력\n",
        "print(d1.items())   # 키와 값을 출력 (tuple형태로 나타남)\n",
        "print('=' * 32)\n",
        "\n",
        "# 추가 가능\n",
        "d1['d'] = 4\n",
        "print(d1)\n",
        "print('=' * 32)\n",
        "\n",
        "# 수정도 가능\n",
        "d1['b'] = 7\n",
        "print(d1)\n",
        "print('=' * 32)\n",
        "\n",
        "# 삭제도 가능\n",
        "del d1['d']\n",
        "print(d1)"
      ],
      "metadata": {
        "colab": {
          "base_uri": "https://localhost:8080/"
        },
        "id": "LO4f7919RnU5",
        "outputId": "2d42eb28-e084-4199-d757-291ecbbf71b3"
      },
      "execution_count": null,
      "outputs": [
        {
          "output_type": "stream",
          "name": "stdout",
          "text": [
            "1\n",
            "dict_keys(['a', 'b', 'c'])\n",
            "dict_values([1, 2, 3])\n",
            "dict_items([('a', 1), ('b', 2), ('c', 3)])\n",
            "================================\n",
            "{'a': 1, 'b': 2, 'c': 3, 'd': 4}\n",
            "================================\n",
            "{'a': 1, 'b': 7, 'c': 3, 'd': 4}\n",
            "================================\n",
            "{'a': 1, 'b': 7, 'c': 3}\n"
          ]
        }
      ]
    },
    {
      "cell_type": "markdown",
      "source": [
        "Q. 딕셔너리 d에서 'b'의 값을 확인하면서 그 값을 삭제하세요."
      ],
      "metadata": {
        "id": "QN2uFZa-Wcji"
      }
    },
    {
      "cell_type": "code",
      "source": [
        "# pop() 딕셔너리에서 삭제하려는 값을 반환한 후 삭제\n",
        "d = {'a': 1, 'b':7, 'c':3, 'd':4}\n",
        "value =d.pop('b')\n",
        "print('삭제 값 : ', value)\n",
        "print(d)"
      ],
      "metadata": {
        "colab": {
          "base_uri": "https://localhost:8080/"
        },
        "id": "XRFRhHl-YIgv",
        "outputId": "f0c1ed09-d0c3-4ef7-8048-e5dcecdad093"
      },
      "execution_count": null,
      "outputs": [
        {
          "output_type": "stream",
          "name": "stdout",
          "text": [
            "삭제 값 :  7\n",
            "{'a': 1, 'c': 3, 'd': 4}\n"
          ]
        }
      ]
    },
    {
      "cell_type": "markdown",
      "source": [
        "Q. 다음과 같이 학생의 이름과 점수를 투플로 묶은 리스트가 있습니다: [(\"Tom\",85),(\"Jane\",90),(\"Bob\",75)]\n",
        "이 리스트를 사용해 학생 이름을 키로, 점수를 값으로 하는 딕셔너리를 생성하고 출력하세요."
      ],
      "metadata": {
        "id": "h-30B0yXXHgk"
      }
    },
    {
      "cell_type": "code",
      "source": [
        "students = [(\"Tom\",85),(\"Jane\",90),(\"Bob\",75)]\n",
        "student_dict = dict(students)\n",
        "print(student_dict)"
      ],
      "metadata": {
        "colab": {
          "base_uri": "https://localhost:8080/"
        },
        "id": "FjY6mRImgd2R",
        "outputId": "679c201f-ccb0-43c7-f9a0-44fc86b586d3"
      },
      "execution_count": null,
      "outputs": [
        {
          "output_type": "stream",
          "name": "stdout",
          "text": [
            "{'Tom': 85, 'Jane': 90, 'Bob': 75}\n"
          ]
        }
      ]
    },
    {
      "cell_type": "markdown",
      "source": [
        "Q. 투플의 불변성 때문에 튜플은 딕셔너리의 키로 사용될 수 있습니다. 주어진 위치 좌표 리스트에서 각 위치가 몇 번 나타나는지 계산하는 딕셔너리를 만드세요."
      ],
      "metadata": {
        "id": "KJ7Kc1r5Xmtr"
      }
    },
    {
      "cell_type": "code",
      "source": [
        "# 위치 좌표의 리스트\n",
        "positions = [(1,1), (2,2), (1,1), (3,3), (2,2)]\n",
        "\n",
        "# 각 위치의 출현 횟수를 저장할 딕셔너리\n",
        "position_count = {}\n",
        "\n",
        "for pos in positions:\n",
        "    if pos in position_count:\n",
        "        position_count[pos] += 1\n",
        "    else :\n",
        "        position_count[pos] = 1\n",
        "\n",
        "print(position_count)"
      ],
      "metadata": {
        "id": "LBlCN9k5X0wt",
        "colab": {
          "base_uri": "https://localhost:8080/"
        },
        "outputId": "e74fc604-b4a0-4b18-98b1-55c18e0837c0"
      },
      "execution_count": null,
      "outputs": [
        {
          "output_type": "stream",
          "name": "stdout",
          "text": [
            "{(1, 1): 2, (2, 2): 2, (3, 3): 1}\n"
          ]
        }
      ]
    },
    {
      "cell_type": "markdown",
      "source": [
        "# 자료형-집합, set\n",
        "- 중복을 허용하지 않으며 순서가 없다(인덱스가 없다)"
      ],
      "metadata": {
        "id": "LBZN-twuy0KP"
      }
    },
    {
      "cell_type": "code",
      "source": [
        "s1 = set([1,2,5,4,3])\n",
        "s2 = set('Hello')\n",
        "print(s1)\n",
        "print(s2)\n",
        "\n",
        "l1 = list(s1)\n",
        "print(l1)\n",
        "print(l1[1])\n",
        "\n",
        "l2 = list(s2)\n",
        "print(l2)\n",
        "print(l2[2])"
      ],
      "metadata": {
        "colab": {
          "base_uri": "https://localhost:8080/"
        },
        "id": "guBwJpUezg60",
        "outputId": "aa8a4cda-d509-430a-8068-37f495a04f4e"
      },
      "execution_count": null,
      "outputs": [
        {
          "output_type": "stream",
          "name": "stdout",
          "text": [
            "{1, 2, 3, 4, 5}\n",
            "{'H', 'o', 'l', 'e'}\n",
            "[1, 2, 3, 4, 5]\n",
            "2\n",
            "['H', 'o', 'l', 'e']\n",
            "l\n"
          ]
        }
      ]
    },
    {
      "cell_type": "markdown",
      "source": [
        "Q. 주어진 리스트에서 중복 요소를 제거하고 결과를 출력하세요.\n",
        "\n",
        "nums = [1,2,3,4,4,4,5]"
      ],
      "metadata": {
        "id": "hb9X2j6W1jM5"
      }
    },
    {
      "cell_type": "code",
      "source": [
        "nums = [1, 2, 3, 4, 4, 4, 5]\n",
        "unique_num = set(nums)\n",
        "print(unique_num)"
      ],
      "metadata": {
        "id": "QPxqu58b0M3C",
        "colab": {
          "base_uri": "https://localhost:8080/"
        },
        "outputId": "dffe0d6a-5aed-4873-bbf9-a9264db1016a"
      },
      "execution_count": null,
      "outputs": [
        {
          "output_type": "stream",
          "name": "stdout",
          "text": [
            "{1, 2, 3, 4, 5}\n"
          ]
        }
      ]
    },
    {
      "cell_type": "markdown",
      "source": [
        "Q. s1, s2의 합집합과 교집합을 각각 리스트로 출력하세요."
      ],
      "metadata": {
        "id": "I0ExJ06K3Njb"
      }
    },
    {
      "cell_type": "code",
      "source": [
        "s1 = set([1, 2, 3, 4, 5, 6])\n",
        "s2 = set([4, 5, 6, 7, 8, 9])"
      ],
      "metadata": {
        "id": "M1DDEZ3E46LT"
      },
      "execution_count": null,
      "outputs": []
    },
    {
      "cell_type": "code",
      "source": [
        "# |, &는 list에서 사용이 불가능함\n",
        "s1 = set([1, 2, 3, 4, 5, 6])\n",
        "s2 = set([4, 5, 6, 7, 8, 9])\n",
        "print(list(s1 | s2))  # 합집합\n",
        "print(list(s1 & s2))  # 교집합\n"
      ],
      "metadata": {
        "colab": {
          "base_uri": "https://localhost:8080/"
        },
        "id": "cJEZylhA26H8",
        "outputId": "ee56d811-8f0d-4eca-caa1-f3191ca5eafb"
      },
      "execution_count": null,
      "outputs": [
        {
          "output_type": "stream",
          "name": "stdout",
          "text": [
            "[1, 2, 3, 4, 5, 6, 7, 8, 9]\n",
            "[4, 5, 6]\n"
          ]
        }
      ]
    },
    {
      "cell_type": "markdown",
      "source": [
        "Q. 첫번째 집합에서 두 번쨰 집합의 요소를 제외한 차집합을 구하고 출력하세요."
      ],
      "metadata": {
        "id": "Y24xDx5O5XuQ"
      }
    },
    {
      "cell_type": "code",
      "source": [
        "set1 = {1, 2, 3, 4, 5}\n",
        "set2 = {4, 5, 6, 7}\n",
        "\n",
        "# print(set1 - set2)\n",
        "set1.difference(set2)"
      ],
      "metadata": {
        "colab": {
          "base_uri": "https://localhost:8080/"
        },
        "id": "fZEL-K2m5hWa",
        "outputId": "98b36f12-a0e4-4814-e47a-14d97d8b7121"
      },
      "execution_count": null,
      "outputs": [
        {
          "output_type": "execute_result",
          "data": {
            "text/plain": [
              "{1, 2, 3}"
            ]
          },
          "metadata": {},
          "execution_count": 7
        }
      ]
    },
    {
      "cell_type": "markdown",
      "source": [
        "Task1_0426. 주어진 리스트에서 중복된 요소를 제외하고 고유한 요소의 개수를 세는 프로그램을 작성하세요.\n",
        "\n",
        "data = [1, 2, 2, 3, 4, 4, 4, 5]"
      ],
      "metadata": {
        "id": "oOfK19uP522U"
      }
    },
    {
      "cell_type": "code",
      "source": [
        "data = [1, 2, 2, 3, 4, 4, 4, 5]\n",
        "\n",
        "def li(data):\n",
        "    if not data:\n",
        "      return []\n",
        "    result = [data[0]]\n",
        "\n",
        "    for current in data[1:]:\n",
        "        if current != result[-1]:\n",
        "            result.append(current)\n",
        "    return result\n",
        "\n",
        "print(len(li(data)))"
      ],
      "metadata": {
        "colab": {
          "base_uri": "https://localhost:8080/",
          "height": 0
        },
        "id": "PCBc20IH6WjF",
        "outputId": "3601a5eb-8555-4024-8a63-388209f85a75"
      },
      "execution_count": 3,
      "outputs": [
        {
          "output_type": "stream",
          "name": "stdout",
          "text": [
            "5\n"
          ]
        }
      ]
    },
    {
      "cell_type": "code",
      "source": [
        "data = [1,2,2,3,4,4,4,5]\n",
        "unique_data = set(data)\n",
        "print(len(unique_data))"
      ],
      "metadata": {
        "colab": {
          "base_uri": "https://localhost:8080/",
          "height": 0
        },
        "id": "6jNd7-XsOUPg",
        "outputId": "33e5ee53-404c-4aa5-c177-de9dc6a7d3ad"
      },
      "execution_count": 2,
      "outputs": [
        {
          "output_type": "stream",
          "name": "stdout",
          "text": [
            "5\n"
          ]
        }
      ]
    },
    {
      "cell_type": "markdown",
      "source": [
        "Task2_0426. 두 개의 리스트에서 공통으로 나타나는 요소들을 찾아 리스트로 반환하는 프로그램을 작성하세요.\n",
        "\n",
        "예시 입력: list1 = [1, 2, 3, 4, 5], list2 = [4, 5, 6, 7, 8]\n",
        "\n",
        "예시 출력: [4, 5]"
      ],
      "metadata": {
        "id": "yKYa5rW06zce"
      }
    },
    {
      "cell_type": "code",
      "source": [
        "def inter(x, y):\n",
        "    x = set(x)\n",
        "    y = set(y)\n",
        "    result = list(x & y)\n",
        "    return result\n",
        "\n",
        "x = [1,3,4,5,6,7]\n",
        "y = [4,5,6,7]\n",
        "\n",
        "print(inter(x, y))\n"
      ],
      "metadata": {
        "colab": {
          "base_uri": "https://localhost:8080/"
        },
        "id": "uwdhs-Vq60T_",
        "outputId": "c7bd8712-be4c-4b31-d34d-8900aa982c9d"
      },
      "execution_count": null,
      "outputs": [
        {
          "output_type": "stream",
          "name": "stdout",
          "text": [
            "[4, 5, 6, 7]\n"
          ]
        }
      ]
    },
    {
      "cell_type": "code",
      "source": [
        "list1 = [1,2,3,4,5]; list2 = [4,5,6,7]\n",
        "set1 =set(list1)\n",
        "set2 =set(list2)\n",
        "print(list(set1 &set2))"
      ],
      "metadata": {
        "colab": {
          "base_uri": "https://localhost:8080/",
          "height": 0
        },
        "id": "mW4D4u46PJ-x",
        "outputId": "7386be9d-9bef-4dc2-dcc0-a1d208314106"
      },
      "execution_count": 4,
      "outputs": [
        {
          "output_type": "stream",
          "name": "stdout",
          "text": [
            "[4, 5]\n"
          ]
        }
      ]
    },
    {
      "cell_type": "markdown",
      "source": [
        "# 자료형 - 논리(bool) True와 False\n",
        "- 파이썬에서 참과 거짓을 나타내는 상수. True는 1, False는 0의 값을 가짐\n",
        "- 조건을 판단해서 그 조건이 참이면 True, 거짓이면 False를 return"
      ],
      "metadata": {
        "id": "MYaEvGEv7ArQ"
      }
    },
    {
      "cell_type": "code",
      "source": [
        "# 자료형 - 논리(bool)\n",
        "print(bool(0))\n",
        "print(bool(''))\n",
        "print(bool([]))\n",
        "print(bool(1))\n",
        "print(bool(100))\n"
      ],
      "metadata": {
        "colab": {
          "base_uri": "https://localhost:8080/"
        },
        "id": "B0XkBK7w7UQN",
        "outputId": "9c222333-fe08-41bd-c888-a917835fb7d7"
      },
      "execution_count": null,
      "outputs": [
        {
          "output_type": "stream",
          "name": "stdout",
          "text": [
            "False\n",
            "False\n",
            "False\n",
            "True\n",
            "True\n"
          ]
        }
      ]
    },
    {
      "cell_type": "markdown",
      "source": [
        "# 아스키 코드\n",
        "ASCI 값에서 'a'는 97이고 'p'는 112 입니다. 'a'는 'p'보다 작으므로 str1<str2는 True를 반환"
      ],
      "metadata": {
        "id": "31CE2yLY9uvh"
      }
    },
    {
      "cell_type": "code",
      "source": [
        "# 관계 연산자\n",
        "x = 1; y = 2\n",
        "str1 = 'abc'; str2 = 'python'\n",
        "print(x == y)\n",
        "print(x != y)\n",
        "print(str1 == str2)\n",
        "print(str2 == 'python')\n",
        "print(str1 < str2)"
      ],
      "metadata": {
        "colab": {
          "base_uri": "https://localhost:8080/"
        },
        "id": "YSQUuA028KTe",
        "outputId": "e8e738c4-c237-42c0-d89c-bd612de124fe"
      },
      "execution_count": null,
      "outputs": [
        {
          "output_type": "stream",
          "name": "stdout",
          "text": [
            "False\n",
            "True\n",
            "False\n",
            "True\n",
            "True\n"
          ]
        }
      ]
    },
    {
      "cell_type": "code",
      "source": [
        "# 논리 연산자\n",
        "bool1 = True; bool2 = False; bool3 = True; bool4 = False\n",
        "print(bool1 and bool2)\n",
        "print(bool1 or bool2)\n",
        "print(not bool3)\n",
        "print(not bool4)"
      ],
      "metadata": {
        "colab": {
          "base_uri": "https://localhost:8080/"
        },
        "id": "VALcjFenAwHX",
        "outputId": "777dd6a4-718c-4e76-e331-61ce1e3268d8"
      },
      "execution_count": null,
      "outputs": [
        {
          "output_type": "stream",
          "name": "stdout",
          "text": [
            "False\n",
            "True\n",
            "False\n",
            "True\n"
          ]
        }
      ]
    },
    {
      "cell_type": "markdown",
      "source": [
        "Task3_0426. 주어진 숫자 리스트에서 특정 값보다 큰 요소가 하나라도 존재하는지 검사하고, 그 결과를 불 값으로 반환하는 함수를 작성하세요.\n",
        "\n",
        "- numbers = [1, 2, 3, 10, 20]\n",
        "- threshold = 15"
      ],
      "metadata": {
        "id": "UtK128IDBGpr"
      }
    },
    {
      "cell_type": "code",
      "source": [
        "numbers = [1, 2, 3, 10, 20]\n",
        "threshold = 15\n",
        "\n",
        "def booo(x, y):\n",
        "  if not x or y:\n",
        "      return []\n",
        "  tr1 = True\n",
        "\n",
        "\n",
        "print(booo(numbers, threshold))"
      ],
      "metadata": {
        "colab": {
          "base_uri": "https://localhost:8080/",
          "height": 111
        },
        "id": "yFF6zD4rNb-p",
        "outputId": "b33180d5-2b81-4849-d685-58f207ccaf32"
      },
      "execution_count": null,
      "outputs": [
        {
          "output_type": "error",
          "ename": "IndentationError",
          "evalue": "unexpected indent (<ipython-input-46-aad598ffc30b>, line 6)",
          "traceback": [
            "\u001b[0;36m  File \u001b[0;32m\"<ipython-input-46-aad598ffc30b>\"\u001b[0;36m, line \u001b[0;32m6\u001b[0m\n\u001b[0;31m    for num in x[1:]:\u001b[0m\n\u001b[0m    ^\u001b[0m\n\u001b[0;31mIndentationError\u001b[0m\u001b[0;31m:\u001b[0m unexpected indent\n"
          ]
        }
      ]
    },
    {
      "cell_type": "code",
      "source": [
        "numbers = [1,2,3,10,20]\n",
        "if any(num > 15 for num in numbers):\n",
        "    print('True')\n",
        "else :\n",
        "      print('False')"
      ],
      "metadata": {
        "colab": {
          "base_uri": "https://localhost:8080/",
          "height": 0
        },
        "id": "iLKvCiSlPsO4",
        "outputId": "e0072fff-b8ea-4c5a-8d2f-3952c4ac2e46"
      },
      "execution_count": 6,
      "outputs": [
        {
          "output_type": "stream",
          "name": "stdout",
          "text": [
            "True\n"
          ]
        }
      ]
    },
    {
      "cell_type": "code",
      "source": [
        "#함수버전\n",
        "def check_greater_than_threshold(numbers, threshold):\n",
        "    for num in numbers:\n",
        "        if num > threshold:\n",
        "            return True\n",
        "        # else에 return false를 쓰면 반복문이 다 못돎\n",
        "    return False\n",
        "\n",
        "numbers = [1,2,3,10,20]\n",
        "threshold = 15\n",
        "result = check_greater_than_threshold(numbers, threshold)\n",
        "print(result)"
      ],
      "metadata": {
        "colab": {
          "base_uri": "https://localhost:8080/",
          "height": 0
        },
        "id": "CEdvjTJKQ7At",
        "outputId": "34c1738b-d1a4-4a81-b862-29dfbe1cb4cc"
      },
      "execution_count": 7,
      "outputs": [
        {
          "output_type": "stream",
          "name": "stdout",
          "text": [
            "True\n"
          ]
        }
      ]
    },
    {
      "cell_type": "markdown",
      "source": [
        "Task4_0426. 주어진 문자열이 특정 문자열을 포함하는지 확인하고 결과를 불 값으로 반환하는 함수를 작성하세요.\n",
        "\n",
        "- text = \"hello world\"\n",
        "- substring = \"world\""
      ],
      "metadata": {
        "id": "T2djw1DDBpJC"
      }
    },
    {
      "cell_type": "code",
      "source": [
        "def contains_substring(text, substring):\n",
        "    if substring in text:\n",
        "        return True\n",
        "    else :\n",
        "        return False\n",
        "\n",
        "text = \"hello world\"\n",
        "substring = \"world\"\n",
        "result = contains_substring(text, substring)\n",
        "print(result)"
      ],
      "metadata": {
        "id": "wUKrL9E6Ncbw",
        "colab": {
          "base_uri": "https://localhost:8080/",
          "height": 0
        },
        "outputId": "a8e1a138-1bd7-444f-d278-a051b1fd65e9"
      },
      "execution_count": 8,
      "outputs": [
        {
          "output_type": "stream",
          "name": "stdout",
          "text": [
            "True\n"
          ]
        }
      ]
    },
    {
      "cell_type": "code",
      "source": [
        "def contains_substring(text, substring):\n",
        "    if substring in text:\n",
        "        print(True)\n",
        "    else :\n",
        "        print(False)\n",
        "\n",
        "text = \"hello world\"\n",
        "substring = \"world\"\n",
        "result = contains_substring(text, substring)\n",
        "print(result)"
      ],
      "metadata": {
        "colab": {
          "base_uri": "https://localhost:8080/",
          "height": 0
        },
        "id": "sM7pICiIVG5v",
        "outputId": "fb0f0776-f488-4e8c-e406-daa87c8cd29b"
      },
      "execution_count": 9,
      "outputs": [
        {
          "output_type": "stream",
          "name": "stdout",
          "text": [
            "True\n",
            "None\n"
          ]
        }
      ]
    },
    {
      "cell_type": "markdown",
      "source": [
        "사용자 함수의 형태\n",
        "- 입력값, 출력값 모두 있는 경우\n",
        "- 입력값만 있는 경우\n",
        "- 출력값만 있는 경우\n",
        "- 입출력값이 없는 경우"
      ],
      "metadata": {
        "id": "fJgEkihiUoee"
      }
    },
    {
      "cell_type": "markdown",
      "source": [
        "Task5_0426. 주어진 연도가 윤년인지 판별하는 함수를 작성하세요. 윤년은 다음의 조건을 만족해야 합니다:\n",
        "- 4로 나누어 떨어진다.\n",
        "- 100으로 나누어 떨어지지 않거나, 400으로 나누어 떨어지면 윤년이다.\n",
        "\n",
        "year = 2020\n",
        "\n",
        "True"
      ],
      "metadata": {
        "id": "es7bFzY9BqqU"
      }
    },
    {
      "cell_type": "code",
      "source": [
        "def is_leap_year(year):\n",
        "    if year % 4 == 0 and (year % 100 != 0 or year % 400 == 0):\n",
        "        return True\n",
        "    else :\n",
        "        return False\n",
        "\n",
        "year = 2020\n",
        "result = is_leap_year(year)\n",
        "print(result)"
      ],
      "metadata": {
        "id": "3l4MFgsGNdFR",
        "colab": {
          "base_uri": "https://localhost:8080/",
          "height": 0
        },
        "outputId": "cd04f48d-68bb-4580-8970-d8b7f89155bb"
      },
      "execution_count": 10,
      "outputs": [
        {
          "output_type": "stream",
          "name": "stdout",
          "text": [
            "True\n"
          ]
        }
      ]
    },
    {
      "cell_type": "code",
      "source": [
        "def is_leap_year(year):\n",
        "    if (not year % 4) and ((year % 100) or (not year % 400)):\n",
        "      return True\n",
        "    else :\n",
        "      return False\n",
        "\n",
        "year = 2020\n",
        "result = is_leap_year(year)\n",
        "print(result)"
      ],
      "metadata": {
        "colab": {
          "base_uri": "https://localhost:8080/",
          "height": 0
        },
        "id": "IIQ0oiJCaKcN",
        "outputId": "82570ace-442a-444e-defe-a0e470cb279f"
      },
      "execution_count": 11,
      "outputs": [
        {
          "output_type": "stream",
          "name": "stdout",
          "text": [
            "True\n"
          ]
        }
      ]
    },
    {
      "cell_type": "markdown",
      "source": [
        "#### 파이썬에서 들여쓰기\n",
        "- 파이썬에는 실행 코드 부분을 묶어주는 {} 괄호가 없다.\n",
        "- 대신 들여쓰기(indentation)로 {}를 대신한다.\n",
        "- 제어문이나 함수이름, 클래스 이름 뒤에 콜론(':')으로 제어문, 함수이름, 클래스 이름의 끝을 표시하며 ':' 다음에 실행 코드를 작성"
      ],
      "metadata": {
        "id": "4GO6-jBNCqf0"
      }
    },
    {
      "cell_type": "code",
      "source": [
        "li = ['a', 'b', 'c']\n",
        "if 'a' in li:\n",
        "    print('a가 li에 있습니다.')\n",
        "else:\n",
        "    print('a가 li에 없습니다.')"
      ],
      "metadata": {
        "colab": {
          "base_uri": "https://localhost:8080/"
        },
        "id": "7lPoJGL0Cu4l",
        "outputId": "7a1dd18e-6983-4338-ad02-57c2516586e0"
      },
      "execution_count": null,
      "outputs": [
        {
          "output_type": "stream",
          "name": "stdout",
          "text": [
            "a가 li에 있습니다.\n"
          ]
        }
      ]
    },
    {
      "cell_type": "markdown",
      "source": [
        "# 사용자 함수"
      ],
      "metadata": {
        "id": "67NK4uJGFd0Q"
      }
    },
    {
      "cell_type": "code",
      "source": [
        "numbers = [1, 2, 3]\n",
        "sum(nubers) # 파이썬 내장함수"
      ],
      "metadata": {
        "id": "cGBpFOK2EwyM"
      },
      "execution_count": null,
      "outputs": []
    },
    {
      "cell_type": "code",
      "source": [
        "# 사용자 함수\n",
        "def add(a,b,c):\n",
        "    return a + b + c\n",
        "\n",
        "add(1,2,3)"
      ],
      "metadata": {
        "colab": {
          "base_uri": "https://localhost:8080/"
        },
        "id": "1MkVvaBoFvaS",
        "outputId": "80424499-6959-4f72-f98e-e97bf98a8416"
      },
      "execution_count": null,
      "outputs": [
        {
          "output_type": "execute_result",
          "data": {
            "text/plain": [
              "6"
            ]
          },
          "metadata": {},
          "execution_count": 12
        }
      ]
    },
    {
      "cell_type": "code",
      "source": [
        "def mul(a,b,c):\n",
        "    return a * b* c\n",
        "\n",
        "mul(2,2,3)"
      ],
      "metadata": {
        "colab": {
          "base_uri": "https://localhost:8080/"
        },
        "id": "L19qDbSdGn8Z",
        "outputId": "c0239019-30f0-4fb3-b687-2396f4b6730f"
      },
      "execution_count": null,
      "outputs": [
        {
          "output_type": "execute_result",
          "data": {
            "text/plain": [
              "12"
            ]
          },
          "metadata": {},
          "execution_count": 15
        }
      ]
    },
    {
      "cell_type": "markdown",
      "source": [
        "Q. 뺄셈, 나눗셈을 수행하는 사용자 함수를 작성하세요."
      ],
      "metadata": {
        "id": "Ito8PC3uHMAE"
      }
    },
    {
      "cell_type": "code",
      "source": [
        "def sub(a,b,c):\n",
        "    return a - b - c\n",
        "\n",
        "print(sub(1,2,3))\n",
        "\n",
        "def div(a,b,c):\n",
        "    if a == 0 or b ==0 or c == 0:\n",
        "        return print('Error발생')\n",
        "    else :\n",
        "        return a / b / c\n",
        "print(round(div(1,2,3)),2) # 반올림 round : 소수점 자릿수"
      ],
      "metadata": {
        "colab": {
          "base_uri": "https://localhost:8080/"
        },
        "id": "auV-z2u7HKpv",
        "outputId": "441d7ebe-baf8-4fb5-985f-ef1e7896d238"
      },
      "execution_count": null,
      "outputs": [
        {
          "output_type": "stream",
          "name": "stdout",
          "text": [
            "-4\n",
            "0 2\n"
          ]
        }
      ]
    },
    {
      "cell_type": "markdown",
      "source": [
        "# 클래스"
      ],
      "metadata": {
        "id": "VHIXHOLNGNFJ"
      }
    },
    {
      "cell_type": "code",
      "source": [
        "class AddMul:\n",
        "    def add(self,n1,n2):\n",
        "        return n1 + n2\n",
        "    def mul(self,n1,n2):\n",
        "        return n1 * n2\n",
        "\n",
        "obj1 = AddMul()\n",
        "print(obj1.add(1,1))\n",
        "obj2 = AddMul()\n",
        "print(obj2.mul(1,1))"
      ],
      "metadata": {
        "colab": {
          "base_uri": "https://localhost:8080/"
        },
        "id": "88_IOicuKQi7",
        "outputId": "ca15f6d9-144c-461f-f67d-b6a30f172424"
      },
      "execution_count": null,
      "outputs": [
        {
          "output_type": "stream",
          "name": "stdout",
          "text": [
            "2\n",
            "1\n"
          ]
        }
      ]
    },
    {
      "cell_type": "markdown",
      "source": [
        "Task6_0426. Calculator 클래스를 작성하고 4칙연산을 수행하는 객체 4개를 작성하여 결과를 출력하세요."
      ],
      "metadata": {
        "id": "EXqm1aV2LXUz"
      }
    },
    {
      "cell_type": "code",
      "source": [
        "class Calculator:\n",
        "    def add(self,n1,n2):\n",
        "      return n1 + n2\n",
        "    def sub(self,n1,n2):\n",
        "      return n1 - n2\n",
        "    def mul(self,n1,n2):\n",
        "      return n1 * n2\n",
        "    def div(self,n1,n2):\n",
        "      if n2 == 0:\n",
        "          return print(\"Error : Division by zero\")\n",
        "      else :\n",
        "          return n1 / n2\n",
        "\n",
        "abj1 = Calculator()\n",
        "print(abj1.add(1,1))"
      ],
      "metadata": {
        "id": "YDc_IPG2LYmn",
        "colab": {
          "base_uri": "https://localhost:8080/",
          "height": 0
        },
        "outputId": "7dfc8eac-4cd0-42b0-9463-e2b19ee00bac"
      },
      "execution_count": 12,
      "outputs": [
        {
          "output_type": "stream",
          "name": "stdout",
          "text": [
            "2\n"
          ]
        }
      ]
    },
    {
      "cell_type": "markdown",
      "source": [
        "Task7_0426. 다음 과제를 수행하세요.\n",
        "- 사용자로 부터 텍스트를 입력 받는다.\n",
        "- 문자을 단어 단위로 분리 : split()\n",
        "- 단어의 빈도수를 저장할 딕셔너리를 생성\n",
        "- 각 단어의 빈도 수를 계산(for 문 / if else문):word=word.lower()\n",
        "- 결과 출력\n",
        "\n",
        "[ 예시 ]\n",
        "\n",
        "문장을 입력하세요: I love apple. I love orange. Apple is tasty\n",
        "\n",
        "{'i': 2, 'love': 2, 'apple.': 1, 'orange.': 1, 'apple': 1, 'is': 1, 'tasty': 1}"
      ],
      "metadata": {
        "id": "sTu3UHQ7L7vq"
      }
    },
    {
      "cell_type": "code",
      "source": [
        "text = input(\"문장을 입력하세요 : \")\n",
        "words = text.split()\n",
        "word_frequency = {}\n",
        "for word in words:\n",
        "    if word in word_frequency:\n",
        "        word_frequency[word] += 1\n",
        "    else:\n",
        "        word_frequency[word] = 1\n",
        "\n",
        "print(word_frequency)"
      ],
      "metadata": {
        "id": "d60avpYyL8jI",
        "colab": {
          "base_uri": "https://localhost:8080/",
          "height": 0
        },
        "outputId": "febfd757-df81-4405-a432-5fd47341285d"
      },
      "execution_count": 17,
      "outputs": [
        {
          "output_type": "stream",
          "name": "stdout",
          "text": [
            "문장을 입력하세요 : I love apple. I love orange. apple is tasty\n",
            "{'I': 2, 'love': 2, 'apple.': 1, 'orange.': 1, 'apple': 1, 'is': 1, 'tasty': 1}\n"
          ]
        }
      ]
    },
    {
      "cell_type": "code",
      "source": [
        "# 사용자로부터 문장을 입력 받습니다.\n",
        "text = input(\"문장을 입력하세요 : \")\n",
        "\n",
        "# 문장을 단어 단위로 분리합니다.\n",
        "words = text.split()\n",
        "\n",
        "# 단어의 빈도수를 저장할 딕셔너리를 생성합니다.\n",
        "word_frequency = {}\n",
        "\n",
        "# 각 단어의 빈도수를 계산합니다.\n",
        "for word in words:\n",
        "\n",
        "    # 대소문자를 구분하지 않기 위해 단어를 소문자로 변환합니다.\n",
        "    word = word.lower() # upper() 대문자로 변경\n",
        "\n",
        "    # 딕셔너리에 단어가 이미 존재한다면 빈도수를 1 증가시키고,\n",
        "    # 존재하지 않는다면 새로운 항목으로 추가합니다.\n",
        "    if word in word_frequency:\n",
        "        word_frequency[word] += 1\n",
        "    else:\n",
        "        word_frequency[word] = 1\n",
        "\n",
        "# 결과를 출력합니다.\n",
        "print(word_frequency)"
      ],
      "metadata": {
        "colab": {
          "base_uri": "https://localhost:8080/",
          "height": 0
        },
        "id": "U6gbn7CXffhD",
        "outputId": "310c027c-437c-4a9f-f5f5-69c140773acd"
      },
      "execution_count": 16,
      "outputs": [
        {
          "output_type": "stream",
          "name": "stdout",
          "text": [
            "문장을 입력하세요 : I love apple. I love orange. apple is tasty\n",
            "{'i': 2, 'love': 2, 'apple.': 1, 'orange.': 1, 'apple': 1, 'is': 1, 'tasty': 1}\n"
          ]
        }
      ]
    },
    {
      "cell_type": "code",
      "source": [
        "# split() 함수\n",
        "text = '나는 오늘 기분이 좋아요'\n",
        "words = text.split()\n",
        "words"
      ],
      "metadata": {
        "colab": {
          "base_uri": "https://localhost:8080/",
          "height": 0
        },
        "id": "7okvblEphWkI",
        "outputId": "6b7fbba8-094f-4fed-d4ab-5d58d9f2f3ac"
      },
      "execution_count": 18,
      "outputs": [
        {
          "output_type": "execute_result",
          "data": {
            "text/plain": [
              "['나는', '오늘', '기분이', '좋아요']"
            ]
          },
          "metadata": {},
          "execution_count": 18
        }
      ]
    },
    {
      "cell_type": "code",
      "source": [
        "text = 'apple, banana, orange'\n",
        "words = text.split(',')\n",
        "words"
      ],
      "metadata": {
        "colab": {
          "base_uri": "https://localhost:8080/",
          "height": 0
        },
        "id": "h3aQWujyhjRd",
        "outputId": "9319231e-0e2c-426d-b1ba-baed235bd3e8"
      },
      "execution_count": 19,
      "outputs": [
        {
          "output_type": "execute_result",
          "data": {
            "text/plain": [
              "['apple', ' banana', ' orange']"
            ]
          },
          "metadata": {},
          "execution_count": 19
        }
      ]
    },
    {
      "cell_type": "code",
      "source": [
        "time_string = '12:30:55'\n",
        "time_list = time_string.split(':')\n",
        "time_list"
      ],
      "metadata": {
        "colab": {
          "base_uri": "https://localhost:8080/",
          "height": 0
        },
        "id": "VOBg8fgVhyj7",
        "outputId": "b8938781-6fc6-4ce3-daf1-5420e605294f"
      },
      "execution_count": 20,
      "outputs": [
        {
          "output_type": "execute_result",
          "data": {
            "text/plain": [
              "['12', '30', '55']"
            ]
          },
          "metadata": {},
          "execution_count": 20
        }
      ]
    },
    {
      "cell_type": "code",
      "source": [
        "# Q. multi_line_text를 아래 리스트로 분리해 보세요.\n",
        "multi_line_text = 'Hello\\nWorld\\nPython\\nProgramming'\n",
        "print(multi_line_text)\n",
        "\n",
        "multi_line_list = multi_line_text.split('\\n')\n",
        "print(multi_line_list)"
      ],
      "metadata": {
        "colab": {
          "base_uri": "https://localhost:8080/",
          "height": 0
        },
        "id": "UUgzGgA9iWuL",
        "outputId": "7ed85ebd-3485-4509-c4c2-6c48e8a78edd"
      },
      "execution_count": 24,
      "outputs": [
        {
          "output_type": "stream",
          "name": "stdout",
          "text": [
            "Hello\n",
            "World\n",
            "Python\n",
            "Programming\n",
            "['Hello', 'World', 'Python', 'Programming']\n"
          ]
        }
      ]
    },
    {
      "cell_type": "code",
      "source": [
        "# 복합 대입연산자\n",
        "num = 10\n",
        "num += 10 # num = num + 10\n",
        "num"
      ],
      "metadata": {
        "colab": {
          "base_uri": "https://localhost:8080/",
          "height": 0
        },
        "id": "CWXieXHgltFz",
        "outputId": "6dd69879-6410-4d5d-a587-9dcd9ceb156a"
      },
      "execution_count": 25,
      "outputs": [
        {
          "output_type": "execute_result",
          "data": {
            "text/plain": [
              "20"
            ]
          },
          "metadata": {},
          "execution_count": 25
        }
      ]
    },
    {
      "cell_type": "code",
      "source": [
        "# Q, 복합 대입연산자를 이용해서 4칙연산을 수행하세요\n",
        "a = 10\n",
        "\n",
        "a += 5 # a + 5 = a\n",
        "print(a)\n",
        "a-=3\n",
        "print(a)\n",
        "a*=2\n",
        "print(a)\n",
        "a /=4\n",
        "print(a)\n"
      ],
      "metadata": {
        "colab": {
          "base_uri": "https://localhost:8080/",
          "height": 0
        },
        "id": "Gg0dlKmzl2jN",
        "outputId": "97b9ce58-d80e-47f4-9376-896da42f03f6"
      },
      "execution_count": 32,
      "outputs": [
        {
          "output_type": "stream",
          "name": "stdout",
          "text": [
            "15\n",
            "12\n",
            "24\n",
            "6.0\n"
          ]
        }
      ]
    },
    {
      "cell_type": "code",
      "source": [
        "# 소문자, 대문자 변환\n",
        "word = 'Dog'\n",
        "w1 = word.lower()\n",
        "print(w1)\n",
        "w2 = w1.upper()\n",
        "print(w2)"
      ],
      "metadata": {
        "colab": {
          "base_uri": "https://localhost:8080/",
          "height": 0
        },
        "id": "njRXAhxXnqQ7",
        "outputId": "d31ba8f5-be77-4735-c909-3ba6432da5dc"
      },
      "execution_count": 33,
      "outputs": [
        {
          "output_type": "stream",
          "name": "stdout",
          "text": [
            "dog\n",
            "DOG\n"
          ]
        }
      ]
    },
    {
      "cell_type": "markdown",
      "source": [
        "# 이스케이프 문자\n",
        "- 키보드로 입력하기 어려운 기호 등을 나타낸다\n",
        "- \\로 시작, \\n 줄바꾸기, \\t 탭,"
      ],
      "metadata": {
        "id": "KVY9vB0coBdD"
      }
    },
    {
      "cell_type": "code",
      "source": [
        "print('나는 파이썬을 사랑합니다.\\n파이썬은 자바보다 훨씬 쉽습니다.')\n",
        "print('나는 파이썬을 사랑합니다.\\t솔직히 자바나 파이썬이나 나중에 비슷합니다.')"
      ],
      "metadata": {
        "colab": {
          "base_uri": "https://localhost:8080/",
          "height": 0
        },
        "id": "4e-PQ-qkpfcE",
        "outputId": "3477c626-2f38-4108-87d6-d14de71a9065"
      },
      "execution_count": 34,
      "outputs": [
        {
          "output_type": "stream",
          "name": "stdout",
          "text": [
            "나는 파이썬을 사랑합니다.\n",
            "파이썬은 자바보다 훨씬 쉽습니다.\n",
            "나는 파이썬을 사랑합니다.\t솔직히 자바나 파이썬이나 나중에 비슷합니다.\n"
          ]
        }
      ]
    },
    {
      "cell_type": "code",
      "source": [
        "print('Hello\\tWorld!')      # 탭 문자를 사용하여 'Hello'와 'World!' 사이에 탭 간격을 줍니다.\n",
        "print('Hello\\nWorld!')      # 줄 바꿈 문자를 사용하여 'Hello'와 'World!'를 다른 줄에 출력합니다.\n",
        "print('She said, \\'Hi!\\'')  # 큰따옴표를 문자열 내부에 포함시킵니다.\n",
        "print('It\\'s raining.')     # 작은따옴표를 문자열 내부에 포함시킵니다.\n",
        "print('Backslesh: \\\\')      # 백슬래시를 출력합니다."
      ],
      "metadata": {
        "colab": {
          "base_uri": "https://localhost:8080/",
          "height": 0
        },
        "id": "wLIoElVOpypm",
        "outputId": "67b7ae34-2be3-44f8-d957-c345fc86af69"
      },
      "execution_count": 35,
      "outputs": [
        {
          "output_type": "stream",
          "name": "stdout",
          "text": [
            "Hello\tWorld!\n",
            "Hello\n",
            "World!\n",
            "She said, 'Hi!'\n",
            "It's raining.\n",
            "Backslesh: \\\n"
          ]
        }
      ]
    },
    {
      "cell_type": "markdown",
      "source": [
        "#### 문자열 포멧\n",
        "- % operator 사용 : % 연산자를 사용하려면 %(VAR_NAME)TYPE 형식으로 적어주며 VAR_NAME 은 바인딩할 변수명을 TYPE 은 변수의 유형을 적어준다.\n",
        "- str.format : str.format() 은 파이썬 표현식 값을 바인딩할 부분을 중괄호 {} 로 표시하고 .format() 뒤에 바인딩할 값을 기술해 준다.\n",
        "- f-string : 문자열에 f 나 F 접두사를 붙이고 표현식을 {expr} 형식으로 작성하면 출력 문자열이 파이썬 표현식의 값으로 바뀐다."
      ],
      "metadata": {
        "id": "M93QUI_6q2oV"
      }
    },
    {
      "cell_type": "code",
      "source": [
        "print('%(num)d, %(float)f, %(string)s, ' % {'num': 3, 'float': 3, 'string': 'hello'})"
      ],
      "metadata": {
        "colab": {
          "base_uri": "https://localhost:8080/",
          "height": 0
        },
        "id": "nQUeKZYHsX6N",
        "outputId": "b6fd288a-78d5-4b1e-d7be-5d4e4add600b"
      },
      "execution_count": 36,
      "outputs": [
        {
          "output_type": "stream",
          "name": "stdout",
          "text": [
            "3, 3.000000, hello, \n"
          ]
        }
      ]
    },
    {
      "cell_type": "code",
      "source": [
        "txt1 = '자바' ; txt2 = '파이썬'\n",
        "num1 = 5; num2 = 10\n",
        "print('나는  %s보다 %s에 더 익숙합니다.' %(txt1, txt2))\n",
        "print('%s은 %s보다 %d배 더 쉽습니다.' %(txt2, txt1, num1))\n",
        "print('%d + %d = %d' %(num1, num2, num1+num2))\n",
        "print('작년 세계 경제 성장률은 전년에 비해 %d%% 포인트 증가했다.' %num1)"
      ],
      "metadata": {
        "colab": {
          "base_uri": "https://localhost:8080/",
          "height": 0
        },
        "id": "sTKqbYXhsxzh",
        "outputId": "9fcc2583-9cce-4f83-93cb-c17e635c85c3"
      },
      "execution_count": 37,
      "outputs": [
        {
          "output_type": "stream",
          "name": "stdout",
          "text": [
            "나는  자바보다 파이썬에 더 익숙합니다.\n",
            "파이썬은 자바보다 5배 더 쉽습니다.\n",
            "5 + 10 = 15\n",
            "작년 세계 경제 성장률은 전년에 비해 5% 포인트 증가했다.\n"
          ]
        }
      ]
    },
    {
      "cell_type": "code",
      "source": [
        "# str,format\n",
        "print('We are the {} who say \"{}!\"'.format('knights', 'Ni'))"
      ],
      "metadata": {
        "colab": {
          "base_uri": "https://localhost:8080/",
          "height": 0
        },
        "id": "pAGQzIlotlSb",
        "outputId": "6bb38faf-aa88-41dc-ce49-23941dafd7d8"
      },
      "execution_count": 38,
      "outputs": [
        {
          "output_type": "stream",
          "name": "stdout",
          "text": [
            "We are the knights who say \"Ni!\"\n"
          ]
        }
      ]
    },
    {
      "cell_type": "code",
      "source": [
        "# f-string\n",
        "name = '홍길동'\n",
        "age = 30\n",
        "print(f'나의 이름은 {name}입니다. 나이는 {age}입니다.')"
      ],
      "metadata": {
        "colab": {
          "base_uri": "https://localhost:8080/",
          "height": 0
        },
        "id": "ZwVvEDbouBhP",
        "outputId": "ac1f0624-2684-4928-b664-f608357a7c88"
      },
      "execution_count": 40,
      "outputs": [
        {
          "output_type": "stream",
          "name": "stdout",
          "text": [
            "나의 이름은 홍길동입니다. 나이는 30입니다.\n"
          ]
        }
      ]
    },
    {
      "cell_type": "code",
      "source": [
        "table = {'Tom': 1234, 'Jack': 4518, 'Eddie': 9638}\n",
        "for name, phone in table.items():\n",
        "    print(f'{name:5} ==> {phone:5d}') # 최소 5개 문자 너비"
      ],
      "metadata": {
        "colab": {
          "base_uri": "https://localhost:8080/",
          "height": 0
        },
        "id": "r6CuTnNiu6Ac",
        "outputId": "9bffe075-6cc2-45a1-9a21-a986656102f1"
      },
      "execution_count": 41,
      "outputs": [
        {
          "output_type": "stream",
          "name": "stdout",
          "text": [
            "Tom   ==>  1234\n",
            "Jack  ==>  4518\n",
            "Eddie ==>  9638\n"
          ]
        }
      ]
    },
    {
      "cell_type": "code",
      "source": [
        "# 소수점 4자리까지만 표현\n",
        "y = 3.42134234\n",
        "f'{y:0.5f}'"
      ],
      "metadata": {
        "colab": {
          "base_uri": "https://localhost:8080/",
          "height": 35
        },
        "id": "8wjwnaVSv8eN",
        "outputId": "4c1198be-1443-48bf-d268-bb4723280c04"
      },
      "execution_count": 42,
      "outputs": [
        {
          "output_type": "execute_result",
          "data": {
            "text/plain": [
              "'3.42134'"
            ],
            "application/vnd.google.colaboratory.intrinsic+json": {
              "type": "string"
            }
          },
          "metadata": {},
          "execution_count": 42
        }
      ]
    },
    {
      "cell_type": "code",
      "source": [
        "# 소수점 4자리까지 표현하고 총 자리수를 10으로 맞춤\n",
        "y = 3.42134234\n",
        "f'{y:10.4f}'"
      ],
      "metadata": {
        "colab": {
          "base_uri": "https://localhost:8080/",
          "height": 35
        },
        "id": "VDgqiRtMwix1",
        "outputId": "c0ec836b-0646-4cf6-ff54-7f99a642374e"
      },
      "execution_count": 43,
      "outputs": [
        {
          "output_type": "execute_result",
          "data": {
            "text/plain": [
              "'    3.4213'"
            ],
            "application/vnd.google.colaboratory.intrinsic+json": {
              "type": "string"
            }
          },
          "metadata": {},
          "execution_count": 43
        }
      ]
    },
    {
      "cell_type": "code",
      "source": [
        "# Q. num1=12345, num2 = 12.345679 을 아래와 같이 출력하세요.\n",
        "num1 = 12345; num2 = 12.345679\n",
        "print(f'{num1}\\n{num1:10d}\\n{num2}\\n{num2:16.3f}')"
      ],
      "metadata": {
        "colab": {
          "base_uri": "https://localhost:8080/",
          "height": 0
        },
        "id": "CYpXWHiOys6Z",
        "outputId": "fb4eaaca-ddde-4396-d55e-c126a6196014"
      },
      "execution_count": 51,
      "outputs": [
        {
          "output_type": "stream",
          "name": "stdout",
          "text": [
            "12345\n",
            "     12345\n",
            "12.345679\n",
            "           12.346\n"
          ]
        }
      ]
    },
    {
      "cell_type": "markdown",
      "source": [
        "#### 2진수, 8진수, 16진수의 데이터 표현 방법\n",
        "\n",
        "- 우리가 프로그래밍을 하면서 변수에 어떤 값을 저장할 때 10진수는 일상적 표현을 그대로 대입한다.\n",
        "- 예를들어 15를 저장하고 싶다면 int a= 15; 와 같이 15라는 숫자를 그대로 대입하면 된다.\n",
        "- 하지만 2진수, 8진수, 16진수는 표현법이 따로 정해져있다.<br><br>  \n",
        "\n",
        "- 2진수는 대입하고자 하는 값 앞에 0b를 붙인다. (숫자0과 영문자b)\n",
        "- 8진수는 대입하고자 하는 값 앞에 0o 을 붙인다. (숫자0 영문자o)\n",
        "- 16진수는 대입하고자 하는 값 앞에 0x 를 붙인다. (숫자0과 영문자x)\n",
        "\n",
        "아래의 예시를 보자.\n",
        "변수 a,b,c,d 는 모두 10진수 122 이라는 값을 저장하는 코드이다.\n",
        "\n",
        "122는\n",
        "- 2진수로 1111010\n",
        "- 8진수로 172\n",
        "- 16진수로 7A 이다."
      ],
      "metadata": {
        "id": "u4PDiUY008LJ"
      }
    },
    {
      "cell_type": "code",
      "source": [
        "a = 0o172 # 8진수 0o로 시작\n",
        "b = 0x7a # 16진수 0x로 시작\n",
        "c = 0b1111010 # 2진수 0b로 시작\n",
        "print(a)\n",
        "print(b)\n",
        "print(c)"
      ],
      "metadata": {
        "colab": {
          "base_uri": "https://localhost:8080/",
          "height": 0
        },
        "id": "tFWrTzeE1a9g",
        "outputId": "edb73c5a-0266-4192-a1de-1c6cb08da3d8"
      },
      "execution_count": 52,
      "outputs": [
        {
          "output_type": "stream",
          "name": "stdout",
          "text": [
            "122\n",
            "122\n",
            "122\n"
          ]
        }
      ]
    },
    {
      "cell_type": "code",
      "source": [
        "# Q. 10을 10진수. 2진수, 8진수, 16진수로 출력하세요.\n",
        "a = 10\n",
        "b = 0b10\n",
        "c = 0o10\n",
        "d = 0x10\n",
        "\n",
        "print(f'{a}, {b}, {c}, {d}')\n"
      ],
      "metadata": {
        "colab": {
          "base_uri": "https://localhost:8080/",
          "height": 0
        },
        "id": "2TXUh_ON1-bc",
        "outputId": "e6bedff9-18d0-4708-96cb-203879239346"
      },
      "execution_count": 53,
      "outputs": [
        {
          "output_type": "stream",
          "name": "stdout",
          "text": [
            "10, 2, 8, 16\n"
          ]
        }
      ]
    },
    {
      "cell_type": "code",
      "source": [
        "# 파이썬 자료형 - 숫자형(정수, 실수, 8진수, 16진수)\n",
        "# 16진수 10 a, 11 b, 12 c, 13 d, 14 e, 15 f\n",
        "\n",
        "e = 0o177     # 8진수 0o로 시작\n",
        "f = 0xABC     # 16진수 0x로 시작\n",
        "g = 0b101010  # 2진수 0b로 시작\n",
        "\n",
        "print(e)\n",
        "print(f)\n",
        "print(g)"
      ],
      "metadata": {
        "colab": {
          "base_uri": "https://localhost:8080/",
          "height": 0
        },
        "id": "cfUWSulg3K25",
        "outputId": "a8ebec8d-9ad8-4403-8e47-4ebde7c98cb2"
      },
      "execution_count": 54,
      "outputs": [
        {
          "output_type": "stream",
          "name": "stdout",
          "text": [
            "127\n",
            "2748\n",
            "42\n"
          ]
        }
      ]
    },
    {
      "cell_type": "code",
      "source": [
        "# 2진수를 10진수로 표현\n",
        "g1 = 0b1000\n",
        "g2 = 0b100\n",
        "g3 = 0b10\n",
        "print(g1)\n",
        "print(g2)\n",
        "print(g3)"
      ],
      "metadata": {
        "colab": {
          "base_uri": "https://localhost:8080/",
          "height": 0
        },
        "id": "oF3gI5q64R_R",
        "outputId": "d52176af-a993-40c3-d9dc-65d9ff57da33"
      },
      "execution_count": 55,
      "outputs": [
        {
          "output_type": "stream",
          "name": "stdout",
          "text": [
            "8\n",
            "4\n",
            "2\n"
          ]
        }
      ]
    },
    {
      "cell_type": "code",
      "source": [
        "# 16진수를 10진수로 표현\n",
        "f1 = 0xA\n",
        "f2 = 0xB\n",
        "f3 = 0xAB\n",
        "print(f1)\n",
        "print(f2)\n",
        "print(f3)\n",
        "print(16*10+1*11)"
      ],
      "metadata": {
        "colab": {
          "base_uri": "https://localhost:8080/",
          "height": 0
        },
        "id": "Qtj7m8-B4pDr",
        "outputId": "da18fcb9-4401-4533-efab-da5448109878"
      },
      "execution_count": 56,
      "outputs": [
        {
          "output_type": "stream",
          "name": "stdout",
          "text": [
            "10\n",
            "11\n",
            "171\n",
            "171\n"
          ]
        }
      ]
    },
    {
      "cell_type": "code",
      "source": [
        "# Q. 0xABC를 계산하세요.\n",
        "print(0xABC)\n",
        "print(16*16*10+16*11+12)"
      ],
      "metadata": {
        "colab": {
          "base_uri": "https://localhost:8080/",
          "height": 0
        },
        "id": "f4VyBQx651ds",
        "outputId": "70aad301-15b9-4eb2-d3d5-386ba8e1ecaa"
      },
      "execution_count": 58,
      "outputs": [
        {
          "output_type": "stream",
          "name": "stdout",
          "text": [
            "2748\n",
            "2748\n"
          ]
        }
      ]
    },
    {
      "cell_type": "markdown",
      "source": [
        "Task1_0429. input_str을 아래와 같이 단어로 분리하여 출력하세요.\n",
        "\n",
        "input_str = 'Hello, world! How are you todeay? I am fine.\n",
        "Thank you!\"\n",
        "\n",
        "['Hello', 'world', 'How', 'are', 'you', 'today','I', 'am', 'fine', 'Thank',\n",
        "'you',\"]"
      ],
      "metadata": {
        "id": "5F-kdSilBGIq"
      }
    },
    {
      "cell_type": "code",
      "source": [
        "input_str = \"Hello, world! How are you todeay? I am fine. Thank you!\"\n",
        "\n",
        "i1 = input_str.replace(',','!')\n",
        "print(i1)"
      ],
      "metadata": {
        "id": "poFyt9ooBHGZ"
      },
      "execution_count": null,
      "outputs": []
    },
    {
      "cell_type": "markdown",
      "source": [
        "Task2_0429. 십진수 122를 2진수, 8진수, 16진수로 변경하여 출력하세요."
      ],
      "metadata": {
        "id": "HNuxDS6f6coD"
      }
    },
    {
      "cell_type": "code",
      "source": [
        "a = 0b122\n",
        "b = 0o122\n",
        "c = 0x122\n",
        "print(a)\n",
        "print(b)\n",
        "print(c)"
      ],
      "metadata": {
        "colab": {
          "base_uri": "https://localhost:8080/",
          "height": 111
        },
        "id": "BcQ4OSo66ry2",
        "outputId": "c51cdcd9-1d24-4476-d3c0-55c318bebbfa"
      },
      "execution_count": 59,
      "outputs": [
        {
          "output_type": "error",
          "ename": "SyntaxError",
          "evalue": "invalid digit '2' in binary literal (<ipython-input-59-6c9644fc1057>, line 1)",
          "traceback": [
            "\u001b[0;36m  File \u001b[0;32m\"<ipython-input-59-6c9644fc1057>\"\u001b[0;36m, line \u001b[0;32m1\u001b[0m\n\u001b[0;31m    a = 0b122\u001b[0m\n\u001b[0m           ^\u001b[0m\n\u001b[0;31mSyntaxError\u001b[0m\u001b[0;31m:\u001b[0m invalid digit '2' in binary literal\n"
          ]
        }
      ]
    },
    {
      "cell_type": "markdown",
      "source": [
        "Task3_0429. 두 수의 곱셈 결과를 계산하고, 그 결과에 10을 더하세요."
      ],
      "metadata": {
        "id": "WQE4y-eq7s3I"
      }
    },
    {
      "cell_type": "code",
      "source": [
        "x = int(input('첫번째 수 : '))\n",
        "y = int(input('두번째 수 : '))\n",
        "\n",
        "def mul(x, y):\n",
        "    result = x * y\n",
        "    result += 10\n",
        "    return result\n",
        "\n",
        "print(mul(x, y))"
      ],
      "metadata": {
        "colab": {
          "base_uri": "https://localhost:8080/",
          "height": 0
        },
        "id": "X5aJRTj07sB2",
        "outputId": "8e1b7212-e4fd-4ea8-b25e-4a64d3d8e1b8"
      },
      "execution_count": 63,
      "outputs": [
        {
          "output_type": "stream",
          "name": "stdout",
          "text": [
            "첫번째 수 : 10\n",
            "두번째 수 : 20\n",
            "210\n"
          ]
        }
      ]
    },
    {
      "cell_type": "markdown",
      "source": [
        "Task4_0429. 주어진 리스트에서 두 번째 요소를 삭제하고, 마지막에 새로운 요소 'Python'을 추가하세요.\n",
        "\n",
        "리스트: ['Java', 'C', 'JavaScript']"
      ],
      "metadata": {
        "id": "SPPAcqWP7upj"
      }
    },
    {
      "cell_type": "code",
      "source": [
        "li = ['Java', 'C', 'JavaScript']\n",
        "del li[1]\n",
        "li.append('Python')\n",
        "print(li)\n"
      ],
      "metadata": {
        "colab": {
          "base_uri": "https://localhost:8080/",
          "height": 0
        },
        "id": "OstkhJJV7vVE",
        "outputId": "46ebd3ea-f416-419a-ed30-8b5fb3b207d3"
      },
      "execution_count": 68,
      "outputs": [
        {
          "output_type": "stream",
          "name": "stdout",
          "text": [
            "['Java', 'JavaScript', 'Python']\n"
          ]
        }
      ]
    },
    {
      "cell_type": "markdown",
      "source": [
        "Task5_0429. 주어진 문자열에서 처음 세 글자와 마지막 세 글자를 연결하여 새로운 문자열을 만드세요.\n",
        "\n",
        "문자열: 'Incredible'"
      ],
      "metadata": {
        "id": "e7CufPqS7v6D"
      }
    },
    {
      "cell_type": "code",
      "source": [
        "st = 'Incredible'\n",
        "stt = st[:3] + st[-3:]\n",
        "print(stt)"
      ],
      "metadata": {
        "colab": {
          "base_uri": "https://localhost:8080/",
          "height": 0
        },
        "id": "wcQzj2Ep7x5r",
        "outputId": "4eb6c02b-549b-4272-c199-44b09a1c2164"
      },
      "execution_count": 73,
      "outputs": [
        {
          "output_type": "stream",
          "name": "stdout",
          "text": [
            "Incble\n"
          ]
        }
      ]
    },
    {
      "cell_type": "markdown",
      "source": [
        "Task6_0429. 사용자의 이름과 이메일을 딕셔너리로 저장하고, 이름을 입력받아 해당하는 이메일을 출력하세요.\n",
        "\n",
        "사용자 정보: 이름 - 'Alice', 이메일 - 'alice@example.com'"
      ],
      "metadata": {
        "id": "-cll3LC57yTO"
      }
    },
    {
      "cell_type": "code",
      "source": [
        "user_name = input('이름을 입력하시오 : ')\n",
        "user_email = input('이메일을 입력하시오 : ')\n",
        "\n",
        "users = {}\n",
        "\n",
        "def user_li(user_name, user_email):\n",
        "  users[user_name] = user_email\n",
        "\n",
        "def un_li(users, un):\n",
        "    for i in users:\n",
        "        if i == un:\n",
        "          print(users[i])\n",
        "        else :\n",
        "          print('존재하지 않는 정보 입니다.')\n",
        "\n",
        "user_li(user_name, user_email)\n",
        "\n",
        "print(users)\n",
        "\n",
        "un = input('이름 : ')\n",
        "\n",
        "un_li(users, un)"
      ],
      "metadata": {
        "colab": {
          "base_uri": "https://localhost:8080/",
          "height": 0
        },
        "id": "X2HS77Gm70_P",
        "outputId": "85a9e3fe-3ede-4e9d-c0de-3a6f4127aa00"
      },
      "execution_count": 82,
      "outputs": [
        {
          "output_type": "stream",
          "name": "stdout",
          "text": [
            "이름을 입력하시오 : Alice\n",
            "이메일을 입력하시오 : alice@example.com\n",
            "{'Alice': 'alice@example.com'}\n",
            "이름 : sojiseung\n",
            "존재하지 않는 정보 입니다.\n"
          ]
        }
      ]
    },
    {
      "cell_type": "markdown",
      "source": [
        "Task7_0429. 주어진 두 튜플에서 공통 요소만을 찾아 집합으로 만드세요.\n",
        "\n",
        "튜플: (1, 2, 3, 4, 5)와 (4, 5, 6, 7, 8)"
      ],
      "metadata": {
        "id": "bOn1lCqG71bN"
      }
    },
    {
      "cell_type": "code",
      "source": [
        "a = (1,2,3,4,5)\n",
        "b = (4,5,6,7,8)\n",
        "\n",
        "a1 = set(a)\n",
        "b1 = set(b)\n",
        "\n",
        "print(list(a1 & b1))"
      ],
      "metadata": {
        "colab": {
          "base_uri": "https://localhost:8080/",
          "height": 0
        },
        "id": "pt2USWZS73mu",
        "outputId": "d0dd6f70-c936-4728-ab47-147a1f30b580"
      },
      "execution_count": 83,
      "outputs": [
        {
          "output_type": "stream",
          "name": "stdout",
          "text": [
            "[4, 5]\n"
          ]
        }
      ]
    },
    {
      "cell_type": "markdown",
      "source": [
        "Task8_Challenge_0429. 다음 요구 사항을 충족하는 프로그램을 작성하세요:\n",
        "\n",
        "- 사용자로부터 이름, 나이, 좋아하는 색상을 입력받습니다.\n",
        "- 입력받은 정보를 딕셔너리로 저장하고, 모든 사용자 정보를 리스트에 저장합니다.\n",
        "- 이름이 'John'인 사용자의 정보만 출력하세요.\n",
        "- 전체 사용자의 평균 나이를 계산하고 출력하세요."
      ],
      "metadata": {
        "id": "EesUZsfH7304"
      }
    },
    {
      "cell_type": "markdown",
      "source": [
        "1. 사용자 데이터:\n",
        "- 이름: John\n",
        "- 나이: 28\n",
        "- 좋아하는 색상: Blue\n",
        "2. 사용자 데이터:\n",
        "- 이름: Alice\n",
        "- 나이: 24\n",
        "- 좋아하는 색상: Red\n",
        "3. 사용자 데이터:\n",
        "- 이름: Maria\n",
        "- 나이: 32\n",
        "- 좋아하는 색상: Green"
      ],
      "metadata": {
        "id": "l58350YS8eoC"
      }
    },
    {
      "cell_type": "code",
      "source": [],
      "metadata": {
        "id": "zsJFe8Sy76d4"
      },
      "execution_count": null,
      "outputs": []
    }
  ]
}