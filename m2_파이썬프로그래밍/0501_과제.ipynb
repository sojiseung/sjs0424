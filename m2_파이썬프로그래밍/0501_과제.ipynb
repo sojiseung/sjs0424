{
  "nbformat": 4,
  "nbformat_minor": 0,
  "metadata": {
    "colab": {
      "provenance": [],
      "authorship_tag": "ABX9TyO0aTbIxC4Nlb5fUv4rBA3l",
      "include_colab_link": true
    },
    "kernelspec": {
      "name": "python3",
      "display_name": "Python 3"
    },
    "language_info": {
      "name": "python"
    }
  },
  "cells": [
    {
      "cell_type": "markdown",
      "metadata": {
        "id": "view-in-github",
        "colab_type": "text"
      },
      "source": [
        "<a href=\"https://colab.research.google.com/github/sojiseung/sjs0424/blob/main/m2_%ED%8C%8C%EC%9D%B4%EC%8D%AC%ED%94%84%EB%A1%9C%EA%B7%B8%EB%9E%98%EB%B0%8D/0501_%EA%B3%BC%EC%A0%9C.ipynb\" target=\"_parent\"><img src=\"https://colab.research.google.com/assets/colab-badge.svg\" alt=\"Open In Colab\"/></a>"
      ]
    },
    {
      "cell_type": "markdown",
      "source": [
        "제어문(control statement)은 프로그램의 흐름을 제어하는데 사용\n",
        "\n",
        "#### 조건문 (Conditional Statements):\n",
        "- if: 특정 조건이 참(True)일 때 코드 블록을 실행\n",
        "    - 조건은 비교 연산자(==, !=, <, >, <=, >=)와 논리 연산자(and, or, not)를 사용하여 표현할 수 있다\n",
        "- elif: 이전의 if 또는 elif 조건이 거짓(False)일 때 다른 조건을 검사\n",
        "    - elif는 'else if'의 축약형으로, 이전 if 또는 elif 문의 조건이 거짓(False)일 때 다른 조건을 검사\n",
        "    - 여러 elif 문을 사용하여 다양한 조건을 검사할 수 있다\n",
        "- else:\n",
        "    - 이전의 if 또는 elif 문의 조건이 모두 거짓일 때 실행할 코드 블록을 지정"
      ],
      "metadata": {
        "id": "-fveon_Y8QZD"
      }
    },
    {
      "cell_type": "code",
      "execution_count": null,
      "metadata": {
        "colab": {
          "base_uri": "https://localhost:8080/"
        },
        "id": "kELOXKWn8Eja",
        "outputId": "ad715d8e-381f-46ba-97a1-1904cad55132"
      },
      "outputs": [
        {
          "output_type": "stream",
          "name": "stdout",
          "text": [
            "x는 5보다 큽니다.\n"
          ]
        }
      ],
      "source": [
        "x = 10\n",
        "if x > 5:\n",
        "    print('x는 5보다 큽니다.')\n",
        "elif x == 5:\n",
        "    print('x는 5입니다.')\n",
        "else:\n",
        "    print('x는 5보다 작습니다.')"
      ]
    },
    {
      "cell_type": "code",
      "source": [
        "x = 10\n",
        "if x >= 5:\n",
        "    print('x는 5보다 크거나 같습니다.')\n",
        "else :\n",
        "    print('x는 5보다 작습니다.')"
      ],
      "metadata": {
        "colab": {
          "base_uri": "https://localhost:8080/"
        },
        "id": "70B70AX_RjXn",
        "outputId": "8a2afdb2-2515-4353-d415-d0cf52d0f17c"
      },
      "execution_count": null,
      "outputs": [
        {
          "output_type": "stream",
          "name": "stdout",
          "text": [
            "x는 5보다 크거나 같습니다.\n"
          ]
        }
      ]
    },
    {
      "cell_type": "code",
      "source": [
        "# 각 조건이 서로 독립적일때 if문을 연속해서 사용\n",
        "x = 10\n",
        "y = 5\n",
        "\n",
        "if x > 5:\n",
        "    print('x는 5보다 큽니다.')\n",
        "\n",
        "if y < 10:\n",
        "    print('y는 10보다 작습니다.')\n",
        "\n",
        "if x > y:\n",
        "    print('x는 y보다 큽니다.')"
      ],
      "metadata": {
        "colab": {
          "base_uri": "https://localhost:8080/"
        },
        "id": "E6PDc3jNR8ht",
        "outputId": "5fa341d3-f84f-4699-865d-43a18f2b9577"
      },
      "execution_count": null,
      "outputs": [
        {
          "output_type": "stream",
          "name": "stdout",
          "text": [
            "x는 5보다 큽니다.\n",
            "y는 10보다 작습니다.\n",
            "x는 y보다 큽니다.\n"
          ]
        }
      ]
    },
    {
      "cell_type": "code",
      "source": [
        "x = 10\n",
        "y =5\n",
        "if x > 5:\n",
        "  if y >= 3:\n",
        "      print('x는 5보다 크고 y는 3보다 크거나 같습니다.')\n",
        "  else :\n",
        "      print('x는 5보다 크고 y는 3보다 작습니다.')\n",
        "else :\n",
        "  print('x는 5보다 작거나 같습니다.')"
      ],
      "metadata": {
        "colab": {
          "base_uri": "https://localhost:8080/"
        },
        "id": "wUoYi6skS8zh",
        "outputId": "8c5cc12c-cf7e-4c38-ad4e-02b4135b10c6"
      },
      "execution_count": null,
      "outputs": [
        {
          "output_type": "stream",
          "name": "stdout",
          "text": [
            "x는 5보다 크고 y는 3보다 크거나 같습니다.\n"
          ]
        }
      ]
    },
    {
      "cell_type": "code",
      "source": [
        "# 이중 조건문을 사용하여 코드를 작성하세요.(조건 내용은 자유. 단, if문 if ~else 중첩하여 사용)\n",
        "score = int(input('점수를 입력하세요 : '))\n",
        "\n",
        "if score >= 90:\n",
        "  if score >= 95:\n",
        "      print('A+')\n",
        "  else:\n",
        "      print('A')\n",
        "elif score >= 80:\n",
        "    if score >= 85:\n",
        "      print('B+')\n",
        "    else :\n",
        "      print('B')\n",
        "elif score >= 70:\n",
        "    if score >= 75:\n",
        "      print('C+')\n",
        "    else :\n",
        "      print('C')\n",
        "elif score >= 70:\n",
        "    if score >= 75:\n",
        "      print('D+')\n",
        "    else :\n",
        "      print('D')\n",
        "else :\n",
        "    print('F')"
      ],
      "metadata": {
        "id": "hkkLwVzYUNpr"
      },
      "execution_count": null,
      "outputs": []
    },
    {
      "cell_type": "code",
      "source": [
        "# 70점 이상만 채점\n",
        "\n",
        "score = int(input('점수를 입력하세요 : '))\n",
        "if score < 70:\n",
        "  print(\"성적 미달 채점 X\")\n",
        "else :\n",
        "  if score >= 90:\n",
        "    if score >= 95:\n",
        "        print('A+')\n",
        "    else:\n",
        "        print('A')\n",
        "  elif score >= 80:\n",
        "      if score >= 85:\n",
        "        print('B+')\n",
        "      else :\n",
        "        print('B')\n",
        "  else :\n",
        "      print('C')"
      ],
      "metadata": {
        "colab": {
          "base_uri": "https://localhost:8080/"
        },
        "id": "EMzUAOhtXWIv",
        "outputId": "97a40ebe-84aa-4859-a694-91046630fd21"
      },
      "execution_count": null,
      "outputs": [
        {
          "output_type": "stream",
          "name": "stdout",
          "text": [
            "점수를 입력하세요 : 75\n",
            "C\n"
          ]
        }
      ]
    },
    {
      "cell_type": "code",
      "source": [
        "# Q. listdata = ['a', 'b', 'c']\n",
        "listdata = ['a', 'b', 'c']\n",
        "for i in listdata:\n",
        "    if i in listdata:\n",
        "      print(f'{i}가 listdata에 있습니다.')\n"
      ],
      "metadata": {
        "colab": {
          "base_uri": "https://localhost:8080/"
        },
        "id": "LYkvZDuYYQfz",
        "outputId": "6185ad08-860b-4fe1-859b-490ddecda32e"
      },
      "execution_count": null,
      "outputs": [
        {
          "output_type": "stream",
          "name": "stdout",
          "text": [
            "a가 listdata에 있습니다.\n",
            "b가 listdata에 있습니다.\n",
            "c가 listdata에 있습니다.\n"
          ]
        }
      ]
    },
    {
      "cell_type": "code",
      "source": [
        "# Q. 주머니에 돈이 10000원 이상 있으면 택시를 타고, 돈이 없으면 걸어 간다를 만족하는 조건문을 작성하세요.\n",
        "money = int(input('주머니에 있는 돈이 얼마인지 써주세요 :'))\n",
        "\n",
        "if money >= 10000:\n",
        "    print('택시에 탑승해 주세요.')\n",
        "else :\n",
        "    print('그냥 걸어가세요.')"
      ],
      "metadata": {
        "colab": {
          "base_uri": "https://localhost:8080/"
        },
        "id": "oMERLhxaZ-BC",
        "outputId": "d3cde6be-29e5-4762-9b4b-44e43504f87e"
      },
      "execution_count": null,
      "outputs": [
        {
          "output_type": "stream",
          "name": "stdout",
          "text": [
            "주머니에 있는 돈이 얼마인지 써주세요 :200\n",
            "그냥 걸어가세요.\n"
          ]
        }
      ]
    },
    {
      "cell_type": "code",
      "source": [
        "# Q. 조건부 표현식을 한줄의 조건문으로 작성하세요.\n",
        "score = 70\n",
        "if score >= 60:\n",
        "    message = 'success'\n",
        "else:\n",
        "    message = 'failure'\n",
        "\n",
        "print(message)"
      ],
      "metadata": {
        "colab": {
          "base_uri": "https://localhost:8080/"
        },
        "id": "w5TadFqTe9Op",
        "outputId": "71b05d17-ac11-4175-a624-0b6c96816aaa"
      },
      "execution_count": null,
      "outputs": [
        {
          "output_type": "stream",
          "name": "stdout",
          "text": [
            "success\n"
          ]
        }
      ]
    },
    {
      "cell_type": "code",
      "source": [
        "score = 70\n",
        "['success' if score >= 60 else 'failure']"
      ],
      "metadata": {
        "colab": {
          "base_uri": "https://localhost:8080/"
        },
        "id": "fd0MSMTKfjQL",
        "outputId": "87807dae-531d-44ec-ba22-6b14117a9e8e"
      },
      "execution_count": null,
      "outputs": [
        {
          "output_type": "execute_result",
          "data": {
            "text/plain": [
              "['success']"
            ]
          },
          "metadata": {},
          "execution_count": 18
        }
      ]
    },
    {
      "cell_type": "code",
      "source": [
        "# Q. '수입(income)과 지출(spend)을 비교해서 수입이 많으면 저축 증가, 반대이면 빚이 증가' 프로그램 작성\n",
        "income = int(input('수입을 써주세요 : '))\n",
        "spend = int(input('지출을 써주세요 :'))\n",
        "\n",
        "if income >= spend:\n",
        "    if income > spend:\n",
        "        print('저축 증가')\n",
        "    else :\n",
        "        print('아무것도 없음')\n",
        "else :\n",
        "    print('빚이 증가')"
      ],
      "metadata": {
        "colab": {
          "base_uri": "https://localhost:8080/"
        },
        "id": "qMRNokg4gJts",
        "outputId": "a7404802-3839-45a6-93cd-90c0a4371d5c"
      },
      "execution_count": null,
      "outputs": [
        {
          "output_type": "stream",
          "name": "stdout",
          "text": [
            "수입을 써주세요 : 1200\n",
            "지출을 써주세요 :1000\n",
            "저축 증가\n"
          ]
        }
      ]
    },
    {
      "cell_type": "markdown",
      "source": [
        "#### 반복문 (Loop Statements):\n",
        "- for: 시퀀스(리스트, 튜플, 문자열 등)의 아이템을 순회하면서 코드 블록을 실행\n",
        "- while: 특정 조건이 참인 동안 코드 블록을 반복하여 실행"
      ],
      "metadata": {
        "id": "7SH2ui2NhtD6"
      }
    },
    {
      "cell_type": "code",
      "source": [
        "# for 루프는 시퀀스(리스트, 튜플, 문자열 등)나 반복 가능한 객체(iterable)의 요소를 순화\n",
        "\n",
        "for i in range(5):\n",
        "    print(i, end=' ')\n",
        "print('\\n')\n",
        "count = 0\n",
        "while count < 5:\n",
        "    print(count, end=' ')\n",
        "    count += 1"
      ],
      "metadata": {
        "colab": {
          "base_uri": "https://localhost:8080/"
        },
        "id": "-0zlEZ_LiBXH",
        "outputId": "bc280878-2ee3-4577-ae16-5a331b12424e"
      },
      "execution_count": null,
      "outputs": [
        {
          "output_type": "stream",
          "name": "stdout",
          "text": [
            "0 1 2 3 4 \n",
            "\n",
            "0 1 2 3 4 "
          ]
        }
      ]
    },
    {
      "cell_type": "code",
      "source": [
        "# 리스트를 순회하는 예\n",
        "for i in [1, 2, 3, 4, 5]:\n",
        "    print(i,end=' ')\n",
        "print('\\n')\n",
        "\n",
        "# 문자열을 순회하는 예\n",
        "for char in 'hello':\n",
        "   print(char,end=' ')\n"
      ],
      "metadata": {
        "colab": {
          "base_uri": "https://localhost:8080/"
        },
        "id": "Yz7nCCEVk-po",
        "outputId": "e553ba2a-968c-4d55-add2-c70caed016e4"
      },
      "execution_count": null,
      "outputs": [
        {
          "output_type": "stream",
          "name": "stdout",
          "text": [
            "1 2 3 4 5 \n",
            "\n",
            "h e l l o "
          ]
        }
      ]
    },
    {
      "cell_type": "code",
      "source": [
        "# while 루프는 주어진 조건이 참(True)인 동안 코드 블록을 반복\n",
        "# 조건이 거짓(False)이 되면 루프가 종료\n",
        "count = 0\n",
        "sum = 0\n",
        "while count < 5:\n",
        "    sum += count\n",
        "    print(sum,end=' ')\n",
        "    count += 1"
      ],
      "metadata": {
        "colab": {
          "base_uri": "https://localhost:8080/"
        },
        "id": "X9PvS-NylksE",
        "outputId": "eb3694a6-a74f-4cd9-c823-30ebf0709d6c"
      },
      "execution_count": null,
      "outputs": [
        {
          "output_type": "stream",
          "name": "stdout",
          "text": [
            "0 1 3 6 10 "
          ]
        }
      ]
    },
    {
      "cell_type": "code",
      "source": [
        "# Q. d에서 반복문을 사용하여 97 98 99 을 출력하세요.\n",
        "d = {'a':97, 'b':98, 'c':99}\n",
        "\n",
        "for i in d:\n",
        "    print(d[i], end=' ')"
      ],
      "metadata": {
        "colab": {
          "base_uri": "https://localhost:8080/"
        },
        "id": "09WEzvWpmuGR",
        "outputId": "9ac41ec2-27ff-4899-c4e3-13e9c6b78f25"
      },
      "execution_count": null,
      "outputs": [
        {
          "output_type": "stream",
          "name": "stdout",
          "text": [
            "97 98 99 "
          ]
        }
      ]
    },
    {
      "cell_type": "markdown",
      "source": [
        "dict_values 클래스의 이해:\n",
        "- 클래스 정의: 파이썬에서 클래스는 객체를 생성하는 데 사용되는 템플릿. dict_values는 딕셔너리의 값을 보여주는 뷰 객체를 생성하는 특별한 내장 클래스.\n",
        "- 뷰 객체: dict_values 객체는 딕셔너리의 값에 대한 동적인 뷰를 제공. \"뷰(view)\"란 원본 딕셔너리 객체의 값이 변하면 그 변화가 dict_values 객체에도 반영되는, 원본 데이터의 실시간 반영본을 의미. 이는 딕셔너리의 값들이 수정, 추가, 삭제될 때 dict_values 객체가 자동으로 업데이트된다는 의미.\n",
        "- 객체 인스턴스: dict_values 객체는 dict_values 클래스의 인스턴스. 이 클래스는 파이썬의 다른 모든 클래스처럼 특정 데이터 구조와 메서드를 가진다. 예를 들어, dict_values 객체는 순회 가능하며 (iterable), 딕셔너리의 모든 값을 순차적으로 접근할 수 있는 메서드를 제공."
      ],
      "metadata": {
        "id": "27CTwGrOxoCf"
      }
    },
    {
      "cell_type": "code",
      "source": [
        "d['b'] = 100\n",
        "print(d)\n",
        "print(d.values())"
      ],
      "metadata": {
        "colab": {
          "base_uri": "https://localhost:8080/"
        },
        "id": "JAs5A124ycar",
        "outputId": "7d837700-ca20-48a0-9a33-9e99755c3c04"
      },
      "execution_count": null,
      "outputs": [
        {
          "output_type": "stream",
          "name": "stdout",
          "text": [
            "{'a': 97, 'b': 100, 'c': 99}\n",
            "dict_values([97, 100, 99])\n"
          ]
        }
      ]
    },
    {
      "cell_type": "markdown",
      "source": [
        "#### 제어문 관련 키워드:\n",
        "- break: 현재의 반복문을 중단하고, 반복문 바깥의 코드를 실행\n",
        "- continue: 반복문의 나머지 부분을 건너뛰고, 다음 반복을 시작"
      ],
      "metadata": {
        "id": "1dtVRiCty1Md"
      }
    },
    {
      "cell_type": "code",
      "source": [
        "for i in range(5):\n",
        "    if i == 3:\n",
        "        break\n",
        "    print(i,end=' ')\n",
        "print('\\n')\n",
        "\n",
        "for i in range(5):\n",
        "    if i == 3:\n",
        "        continue\n",
        "    print(i,end=' ')"
      ],
      "metadata": {
        "colab": {
          "base_uri": "https://localhost:8080/"
        },
        "id": "SNt6RiSAy2iz",
        "outputId": "dba1cd7c-98a7-439a-eb88-93d6fac8bd1d"
      },
      "execution_count": null,
      "outputs": [
        {
          "output_type": "stream",
          "name": "stdout",
          "text": [
            "0 1 2 \n",
            "\n",
            "0 1 2 4 "
          ]
        }
      ]
    },
    {
      "cell_type": "code",
      "source": [
        "for i in range(10):\n",
        "    if i == 5:\n",
        "        break # i가 5일 때 루프를 종료합니다.\n",
        "    print(i,end = ' ')\n",
        "print('\\n')\n",
        "\n",
        "for i in range(10):\n",
        "    if i % 2 == 0:\n",
        "        continue  # i가 짝수일 떄 나머지 부분을 건너뛰고 다음 반복을 시작합니다.\n",
        "    print(i, end = ' ')"
      ],
      "metadata": {
        "colab": {
          "base_uri": "https://localhost:8080/"
        },
        "id": "KGTZpUPq0WPw",
        "outputId": "d707fe8d-fa27-4909-b597-5042893410f2"
      },
      "execution_count": null,
      "outputs": [
        {
          "output_type": "stream",
          "name": "stdout",
          "text": [
            "0 1 2 3 4 \n",
            "\n",
            "1 3 5 7 9 "
          ]
        }
      ]
    },
    {
      "cell_type": "code",
      "source": [
        "# for 또는 while 루프에 else 절을 사용하면, 루프가 정상적으로 완료된 후에 실행할\n",
        "for i in range(5):\n",
        "    print(i, end = ' ')\n",
        "else :\n",
        "    print('루프가 완료되었습니다.','\\n')\n",
        "\n",
        "count = 0\n",
        "while count < 5:\n",
        "    print(count, end =' ')\n",
        "    count += 1\n",
        "else:\n",
        "    print('루프가 완료되었습니다.')"
      ],
      "metadata": {
        "colab": {
          "base_uri": "https://localhost:8080/"
        },
        "id": "8fo3Z2qg1w-w",
        "outputId": "46e68e5c-5b59-4364-9cb7-787f3ed01c32"
      },
      "execution_count": null,
      "outputs": [
        {
          "output_type": "stream",
          "name": "stdout",
          "text": [
            "0 1 2 3 4 루프가 완료되었습니다. \n",
            "\n",
            "0 1 2 3 4 루프가 완료되었습니다.\n"
          ]
        }
      ]
    },
    {
      "cell_type": "code",
      "source": [
        "# break 문을 사용하여 루프를 중단하면 else 절은 실행되지 않음\n",
        "for i in range(5):\n",
        "    if i == 3:\n",
        "        print('루프를 중단합니다.')\n",
        "        break\n",
        "else :\n",
        "  print('루프가 정상적으로 완료되었습니다.')\n",
        "\n",
        "# 출력:\n",
        "# 3에서 루프를 중단합니다."
      ],
      "metadata": {
        "colab": {
          "base_uri": "https://localhost:8080/"
        },
        "id": "Es-swT8-3Am2",
        "outputId": "45a40e29-068e-44bb-f2fe-ceb61eee6d7d"
      },
      "execution_count": null,
      "outputs": [
        {
          "output_type": "stream",
          "name": "stdout",
          "text": [
            "루프를 중단합니다.\n"
          ]
        }
      ]
    },
    {
      "cell_type": "markdown",
      "source": [
        "# 조건과 반복을 결합"
      ],
      "metadata": {
        "id": "V-Z5A7FU3reE"
      }
    },
    {
      "cell_type": "code",
      "source": [
        "# 홀수만 출력\n",
        "for i in range(10):\n",
        "    if i % 2 != 0:\n",
        "        print(i,end = ' ')"
      ],
      "metadata": {
        "colab": {
          "base_uri": "https://localhost:8080/"
        },
        "id": "HWC3Kbgg36eA",
        "outputId": "4fe145c6-deae-4f3e-9c1b-93d7a843f48a"
      },
      "execution_count": null,
      "outputs": [
        {
          "output_type": "stream",
          "name": "stdout",
          "text": [
            "1 3 5 7 9 "
          ]
        }
      ]
    },
    {
      "cell_type": "code",
      "source": [
        "# Q. 1~10 범위의 정수에서 1부터 5까지만 출력하세요.\n",
        "for i in range(10):\n",
        "    if i == 0:\n",
        "        continue\n",
        "    elif i < 6:\n",
        "        print(i,end = ' ')\n",
        "    else :\n",
        "        break"
      ],
      "metadata": {
        "colab": {
          "base_uri": "https://localhost:8080/"
        },
        "id": "e7ZTh-7K4SJg",
        "outputId": "ca9bb9d4-6910-4b89-b329-9ca2b583751b"
      },
      "execution_count": null,
      "outputs": [
        {
          "output_type": "stream",
          "name": "stdout",
          "text": [
            "1 2 3 4 5 "
          ]
        }
      ]
    },
    {
      "cell_type": "code",
      "source": [
        "for i in range (1, 11):\n",
        "    if i > 5:\n",
        "        break\n",
        "    print(i,end = ' ')"
      ],
      "metadata": {
        "colab": {
          "base_uri": "https://localhost:8080/"
        },
        "id": "C1L9-B7M5Pw0",
        "outputId": "97b8521a-9ab2-49c3-a7e4-920a123ce32d"
      },
      "execution_count": null,
      "outputs": [
        {
          "output_type": "stream",
          "name": "stdout",
          "text": [
            "1 2 3 4 5 "
          ]
        }
      ]
    },
    {
      "cell_type": "code",
      "source": [
        "# Q, numbers 리스트에서 15,20,25를 출력하세요.(for문과 if 조건 사용 필수)\n",
        "numbers = [5, 15, 6, 20, 7, 25]\n",
        "\n",
        "for i in numbers:\n",
        "    if i == 15 or i == 20 or i == 25:\n",
        "        print(i, end= ' ')"
      ],
      "metadata": {
        "colab": {
          "base_uri": "https://localhost:8080/"
        },
        "id": "uVDZ4T2j5gA7",
        "outputId": "ec322bd8-99fa-42a9-ad7d-e2956ba921c3"
      },
      "execution_count": null,
      "outputs": [
        {
          "output_type": "stream",
          "name": "stdout",
          "text": [
            "15 20 25 "
          ]
        }
      ]
    },
    {
      "cell_type": "code",
      "source": [
        "numbers = [5, 15, 6, 20, 7, 25]\n",
        "\n",
        "for i in numbers:\n",
        "    #if i > 5 and i%5 == 0:\n",
        "    if i >= 15:\n",
        "        print(i, end = ' ')"
      ],
      "metadata": {
        "colab": {
          "base_uri": "https://localhost:8080/"
        },
        "id": "bDt1p0I69yqX",
        "outputId": "49a4f9bf-ca8d-4725-8fff-f451ac03d415"
      },
      "execution_count": null,
      "outputs": [
        {
          "output_type": "stream",
          "name": "stdout",
          "text": [
            "15 20 25 "
          ]
        }
      ]
    },
    {
      "cell_type": "code",
      "source": [
        "# 특정 조건을 만족할 때까지 반복\n",
        "count = 0\n",
        "while 1:  # 무한 루프\n",
        "    count += 1\n",
        "    if count > 5:\n",
        "        break # count가 5보다 클 때 루프를 종료합니다.\n",
        "    print(count, end = \" \")\n",
        "    print('루프가 종료됨')"
      ],
      "metadata": {
        "colab": {
          "base_uri": "https://localhost:8080/"
        },
        "id": "Yv0akJyx-O6X",
        "outputId": "624f51ec-2b9f-4ea6-e837-4c72ef22d4e9"
      },
      "execution_count": null,
      "outputs": [
        {
          "output_type": "stream",
          "name": "stdout",
          "text": [
            "1 2 3 4 5 "
          ]
        }
      ]
    },
    {
      "cell_type": "code",
      "source": [
        "# Q. 리스트에서 특정값을 찾으면 '값을 찾았습니다.'를 출력하고 못찾으면 '값을 찾지 못했습니다.'를 출력하세요.\n",
        "numbers = [1, 2, 3, 4, 5]\n",
        "target = 3\n",
        "\n",
        "for i in numbers:\n",
        "    if i == target:\n",
        "        print(f'{target}을(를) 찾았습니다.')\n",
        "        break\n",
        "else :\n",
        "    print(f'{target}을(를) 못찾았습니다.')\n",
        "\n",
        "# print(f'{target}을(를) 찾지 못했습니다.')"
      ],
      "metadata": {
        "colab": {
          "base_uri": "https://localhost:8080/"
        },
        "id": "rDmnDfo4-6Su",
        "outputId": "d8e958a7-7447-4887-bfb7-3b7f43af8688"
      },
      "execution_count": null,
      "outputs": [
        {
          "output_type": "stream",
          "name": "stdout",
          "text": [
            "3을(를) 찾았습니다.\n"
          ]
        }
      ]
    },
    {
      "cell_type": "code",
      "source": [
        "# Q. 1 ~ 20 사이의 정수에서 10보다 작은 홀수만 출력\n",
        "for i in range(1, 21):\n",
        "    if i < 10 and i % 2 != 0:\n",
        "        print(i, end = ' ')"
      ],
      "metadata": {
        "colab": {
          "base_uri": "https://localhost:8080/"
        },
        "id": "sdjoYkVjCqxS",
        "outputId": "73d44b4e-2ec2-41be-ce49-980ac4789e57"
      },
      "execution_count": null,
      "outputs": [
        {
          "output_type": "stream",
          "name": "stdout",
          "text": [
            "1 3 5 7 9 "
          ]
        }
      ]
    },
    {
      "cell_type": "code",
      "source": [
        "for i in range(1,21):\n",
        "    if i < 10:\n",
        "      if i % 2 != 0:\n",
        "          print(i,end = ' ')\n",
        "    else:\n",
        "        break"
      ],
      "metadata": {
        "colab": {
          "base_uri": "https://localhost:8080/"
        },
        "id": "WIK7MayEEHHJ",
        "outputId": "5b66c1e1-772b-4e12-9349-ed3bd8365538"
      },
      "execution_count": null,
      "outputs": [
        {
          "output_type": "stream",
          "name": "stdout",
          "text": [
            "1 3 5 7 9 "
          ]
        }
      ]
    },
    {
      "cell_type": "code",
      "source": [
        "#while ~ continue ~ break\n",
        "# 20보다 작은 정수에서 1 3 5 7 9 만을 출력\n",
        "a = 0\n",
        "while a < 20:\n",
        "  a += 1\n",
        "  if a % 2 == 0:\n",
        "      continue\n",
        "  if a >= 10:\n",
        "      break\n",
        "  print(a,end = ' ')"
      ],
      "metadata": {
        "colab": {
          "base_uri": "https://localhost:8080/"
        },
        "id": "CqpYmahfEZN0",
        "outputId": "a856840a-70dc-4d56-ffe9-149c288b9916"
      },
      "execution_count": null,
      "outputs": [
        {
          "output_type": "stream",
          "name": "stdout",
          "text": [
            "1 3 5 7 9 "
          ]
        }
      ]
    },
    {
      "cell_type": "code",
      "source": [
        "# Q. 정수 1부터 n까지 더할 때 그 합이 1000보다 커지게 되는 n과 합을 구하세요.(while ~ braek)\n",
        "x = 0\n",
        "sum = 0\n",
        "while 1:\n",
        "    x = x + 1\n",
        "    sum += x\n",
        "    if sum > 1000:\n",
        "      print(x)\n",
        "      print(sum)\n",
        "      break"
      ],
      "metadata": {
        "colab": {
          "base_uri": "https://localhost:8080/"
        },
        "id": "3UK-hVuZFkIM",
        "outputId": "6bdbc083-5d8f-4b33-8efc-12c1243d04ce"
      },
      "execution_count": null,
      "outputs": [
        {
          "output_type": "stream",
          "name": "stdout",
          "text": [
            "45\n",
            "1035\n"
          ]
        }
      ]
    },
    {
      "cell_type": "code",
      "source": [
        "x = 0\n",
        "sum = 0\n",
        "while sum < 1000:\n",
        "    x += 1\n",
        "    sum += x\n",
        "print(x)\n",
        "print(sum)"
      ],
      "metadata": {
        "colab": {
          "base_uri": "https://localhost:8080/"
        },
        "id": "4Kcn35BdbnSh",
        "outputId": "d2c1feaf-cd08-4c21-d5c4-ed50c6e41c00"
      },
      "execution_count": null,
      "outputs": [
        {
          "output_type": "stream",
          "name": "stdout",
          "text": [
            "45\n",
            "1035\n"
          ]
        }
      ]
    },
    {
      "cell_type": "code",
      "source": [
        "# Q. while문을 사용해 1부터 1000까지의 정수 중 3의 배수의 합을 구해 보세요.\n",
        "x = 0\n",
        "count = 0\n",
        "while 1:\n",
        "  count += 1\n",
        "  if count < 1001:\n",
        "    if count % 3 == 0:\n",
        "      x += count\n",
        "  if count > 1000:\n",
        "    break\n",
        "\n",
        "print(x)"
      ],
      "metadata": {
        "colab": {
          "base_uri": "https://localhost:8080/"
        },
        "id": "UPAbPftgFtnA",
        "outputId": "83eb22a9-2936-48ac-98d2-21ee92ceea54"
      },
      "execution_count": null,
      "outputs": [
        {
          "output_type": "stream",
          "name": "stdout",
          "text": [
            "166833\n"
          ]
        }
      ]
    },
    {
      "cell_type": "code",
      "source": [
        "count = 1\n",
        "x = 0\n",
        "while count <= 1000:\n",
        "  if count % 3 == 0:\n",
        "    x += count\n",
        "  count += 1\n",
        "print(x)"
      ],
      "metadata": {
        "colab": {
          "base_uri": "https://localhost:8080/"
        },
        "id": "syEOa0HEdcMs",
        "outputId": "185ccee3-5b22-4249-986a-f547952f4003"
      },
      "execution_count": null,
      "outputs": [
        {
          "output_type": "stream",
          "name": "stdout",
          "text": [
            "166833\n"
          ]
        }
      ]
    },
    {
      "cell_type": "code",
      "source": [
        "n = 3\n",
        "sum = 0\n",
        "while n <= 1000:\n",
        "    sum += n\n",
        "    n += 3\n",
        "print(sum)"
      ],
      "metadata": {
        "colab": {
          "base_uri": "https://localhost:8080/"
        },
        "id": "fzrG_Mm1fMhl",
        "outputId": "1600d983-b8e9-4e8a-c57a-211146c3f003"
      },
      "execution_count": null,
      "outputs": [
        {
          "output_type": "stream",
          "name": "stdout",
          "text": [
            "166833\n"
          ]
        }
      ]
    },
    {
      "cell_type": "code",
      "source": [
        "# Q. 정수를 입력하면 홀수 짝수를 판별하는 프로그램 작성\n",
        "num = int(input('정수를 입력하세요.'))\n",
        "\n",
        "if num == 0:\n",
        "    print('0 입니다.')\n",
        "elif num % 2 == 0:\n",
        "    print('짝수 입니다.')\n",
        "else:\n",
        "    print('홀수 입니다.')"
      ],
      "metadata": {
        "colab": {
          "base_uri": "https://localhost:8080/"
        },
        "id": "yNiOcuScF4IW",
        "outputId": "2653cae8-5a1c-4d95-f249-6100244a5801"
      },
      "execution_count": null,
      "outputs": [
        {
          "output_type": "stream",
          "name": "stdout",
          "text": [
            "정수를 입력하세요.0\n",
            "0 입니다.\n"
          ]
        }
      ]
    },
    {
      "cell_type": "code",
      "source": [
        "while True:\n",
        "  try:\n",
        "    num = int(input('정수를 입력하세요.'))\n",
        "\n",
        "    if num%2 == 1:\n",
        "        print(f'입력한 숫자 {num}는 홀수 입니다.')\n",
        "    else :\n",
        "        print(f'입력한 숫자 {num}는 짝수 입니다.')\n",
        "    break # 정수 입력 시 while 루프를 빠져나감\n",
        "  except ValueError:\n",
        "      print('잘못 입력 하셨어요 다시 입력 해주세요.')"
      ],
      "metadata": {
        "colab": {
          "base_uri": "https://localhost:8080/"
        },
        "id": "Dw91IJPYfud8",
        "outputId": "37e371c9-07c9-4d41-d42a-a9a2f045ae06"
      },
      "execution_count": null,
      "outputs": [
        {
          "output_type": "stream",
          "name": "stdout",
          "text": [
            "정수를 입력하세요.20\n",
            "입력한 숫자 20는 짝수 입니다.\n"
          ]
        }
      ]
    },
    {
      "cell_type": "code",
      "source": [
        "# Q. 입력받은 문자열의 각 문자를 그 다음 문자로 변경하여 출력하세요.(ABC -> BCA)\n",
        "data = input('문자열을 입력해주세요.')\n",
        "for i in range(len(data)):\n",
        "    if i == 0:\n",
        "      continue\n",
        "    print(data[i],end = '')\n",
        "else :\n",
        "    print(data[0])"
      ],
      "metadata": {
        "colab": {
          "base_uri": "https://localhost:8080/"
        },
        "id": "_-BzOOb6jDTA",
        "outputId": "33c6f5f6-ed0e-46ef-8d2a-d0819ef21a36"
      },
      "execution_count": null,
      "outputs": [
        {
          "output_type": "stream",
          "name": "stdout",
          "text": [
            "문자열을 입력해주세요.kingkong\n",
            "ingkongk\n"
          ]
        }
      ]
    },
    {
      "cell_type": "markdown",
      "source": [
        "zip() 함수\n",
        "- 여러 개의 이터러블(리스트, 튜플 등)을 인자로 받아, 동일한 인덱스에 있는 요소들을 하나의 튜플로 묶어서 이터레이터를 반환\n",
        "- 데이터를 병렬로 처리할 때 유용"
      ],
      "metadata": {
        "id": "y1tsSdOunH4Q"
      }
    },
    {
      "cell_type": "code",
      "source": [
        "list1 = [1, 2, 3, 4]\n",
        "list2 = ['a', 'b', 'c', 'd']\n",
        "zipped = zip(list1, list2)\n",
        "print(list(zipped))"
      ],
      "metadata": {
        "colab": {
          "base_uri": "https://localhost:8080/"
        },
        "id": "dBjiED19nJA4",
        "outputId": "d87b8fbc-37c0-412a-ac59-425f5553399e"
      },
      "execution_count": null,
      "outputs": [
        {
          "output_type": "stream",
          "name": "stdout",
          "text": [
            "[(1, 'a'), (2, 'b'), (3, 'c'), (4, 'd')]\n"
          ]
        }
      ]
    },
    {
      "cell_type": "code",
      "source": [
        "# Q. 두 개의 리스트(이름과 성)를 사용하여 각 사람의 전체 이름을 생성하세요.\n",
        "f_names = ['John', 'jane', 'Corey', 'Travis']\n",
        "l_names = ['Doe', 'Smith', 'Turner', 'Villiams']\n",
        "\n",
        "name = [first + ' ' + last for first, last in zip(f_names, l_names)]\n",
        "print(name)"
      ],
      "metadata": {
        "colab": {
          "base_uri": "https://localhost:8080/"
        },
        "id": "7WjDacd9n2kl",
        "outputId": "af6c336c-8592-45f0-a353-6b3cddc8b1b0"
      },
      "execution_count": null,
      "outputs": [
        {
          "output_type": "stream",
          "name": "stdout",
          "text": [
            "['John Doe', 'jane Smith', 'Corey Turner', 'Travis Villiams']\n"
          ]
        }
      ]
    },
    {
      "cell_type": "code",
      "source": [
        "# Q. 학생들의 수학과 영어 점수를 각각의 리스트로 받아 평균 점수를 계산하세요.\n",
        "math_scores = [88, 92, 79, 93, 85]\n",
        "english_scores = [90, 91, 85, 88, 86]\n",
        "\n",
        "ave = [(math + english) / 2 for math, english in zip(math_scores, english_scores)]\n",
        "print(ave)"
      ],
      "metadata": {
        "colab": {
          "base_uri": "https://localhost:8080/"
        },
        "id": "TmM-dysqoe-5",
        "outputId": "98ce5ccb-f70d-4c63-f435-be0de1e61f7e"
      },
      "execution_count": null,
      "outputs": [
        {
          "output_type": "stream",
          "name": "stdout",
          "text": [
            "[89.0, 91.5, 82.0, 90.5, 85.5]\n"
          ]
        }
      ]
    },
    {
      "cell_type": "code",
      "source": [
        "# Q. 상품 이름과 가격이 각각 다른 리스트에 저장되어 있을 때 상품명과 가격을 튜플로 묶어 출력하세요.\n",
        "products = ['apple', 'banana', 'cherry']\n",
        "prices = [1.2, 0.5, 2.5]\n",
        "\n",
        "for product, price in zip(products, prices):\n",
        "    print(f'product : {product}, price : {price}')"
      ],
      "metadata": {
        "colab": {
          "base_uri": "https://localhost:8080/"
        },
        "id": "vFSiLTSGqNsH",
        "outputId": "6d10222c-7af4-4ea9-a62c-36560fb0f06e"
      },
      "execution_count": null,
      "outputs": [
        {
          "output_type": "stream",
          "name": "stdout",
          "text": [
            "product : apple, price : 1.2\n",
            "product : banana, price : 0.5\n",
            "product : cherry, price : 2.5\n"
          ]
        }
      ]
    },
    {
      "cell_type": "markdown",
      "source": [
        "#### 파이썬의 random 모듈\n",
        "난수를 생성하기 위한 다양한 함수를 제공\n",
        "- 기본 난수 생성:\n",
        "  - random.random(): 0과 1 사이의 무작위 부동소수점 숫자를 반환.\n",
        "- 범위 지정 난수 생성:\n",
        "  - random.randint(a, b): a와 b 사이의 무작위 정수를 반환(b 포함).\n",
        "  - random.randrange(start, stop[, step]): 지정된 범위에서 무작위 정수를 반환. step을 설정하여 수의 간격을 조정할 수 있다.\n",
        "- 시퀀스용 함수:\n",
        "  - random.choice(sequence): 주어진 시퀀스(리스트, 튜플 등)에서 무작위로 아이템을 선택하여 반환.\n",
        "  - random.shuffle(x[, random]): 리스트의 항목들을 무작위로 섞는다. random은 섞기를 위한 함수를 커스텀할 때 사용.\n",
        "  - random.sample(population, k): 주어진 시퀀스에서 무작위로 k개의 항목을 뽑아 새 리스트로 반환.\n",
        "- 분포 기반 난수 생성:\n",
        "  - random.uniform(a, b): a와 b 사이의 무작위 부동소수점 숫자를 균등 분포로 반환.\n",
        "  - random.gauss(mu, sigma): 평균 mu와 표준편차 sigma를 가지는 정규 분포에서 난수를 반환."
      ],
      "metadata": {
        "id": "UzFixJT8rvRV"
      }
    },
    {
      "cell_type": "code",
      "source": [
        "import random\n",
        "\n",
        "# 0과 1 사이의 난수 생성\n",
        "print(random.random())\n",
        "\n",
        "# 1에서 10 사이의 정수 반환(10 포함)\n",
        "print(random.randint(1, 10))\n",
        "\n",
        "# 리스트에서 무작위로 하나의 원소 선택\n",
        "items = [1, 2, 3, 4, 5]\n",
        "print(random.choice(items))\n",
        "\n",
        "# 리스트의 원소를 무작위로 섞기\n",
        "random.shuffle(items)\n",
        "print(items)\n",
        "\n",
        "# 정규 분포 난수 생성\n",
        "mean = 0\n",
        "std_dev = 1\n",
        "print(random.gauss(mean, std_dev))"
      ],
      "metadata": {
        "colab": {
          "base_uri": "https://localhost:8080/"
        },
        "id": "44mQ5_pZrxOO",
        "outputId": "3e265768-40c2-43c3-e26d-992bf8909be9"
      },
      "execution_count": null,
      "outputs": [
        {
          "output_type": "stream",
          "name": "stdout",
          "text": [
            "0.828461097480668\n",
            "5\n",
            "4\n",
            "[3, 1, 4, 5, 2]\n",
            "-0.2578711619683319\n"
          ]
        }
      ]
    },
    {
      "cell_type": "code",
      "source": [
        "import random\n",
        "male = ['철수', '갑돌', '로미오', '이몽룡', '온돌']\n",
        "random.shuffle(male)\n",
        "male"
      ],
      "metadata": {
        "colab": {
          "base_uri": "https://localhost:8080/"
        },
        "id": "aunRvSk6vbxG",
        "outputId": "fe6b4aff-b7bc-4e43-f1b9-94af5709e77f"
      },
      "execution_count": null,
      "outputs": [
        {
          "output_type": "execute_result",
          "data": {
            "text/plain": [
              "['갑돌', '온돌', '이몽룡', '로미오', '철수']"
            ]
          },
          "metadata": {},
          "execution_count": 73
        }
      ]
    },
    {
      "cell_type": "code",
      "source": [
        "from random import shuffle\n",
        "male = ['철수', '갑돌', '로미오', '이몽룡', '온돌']\n",
        "shuffle(male)\n",
        "male"
      ],
      "metadata": {
        "colab": {
          "base_uri": "https://localhost:8080/"
        },
        "id": "KiwwfI9gwZyV",
        "outputId": "677ea828-b525-4826-850e-6d18b4110992"
      },
      "execution_count": null,
      "outputs": [
        {
          "output_type": "execute_result",
          "data": {
            "text/plain": [
              "['철수', '갑돌', '로미오', '온돌', '이몽룡']"
            ]
          },
          "metadata": {},
          "execution_count": 72
        }
      ]
    },
    {
      "cell_type": "markdown",
      "source": [
        "Task1_0430. 남녀 파트너 정해주기 프로그램(zip)\n",
        "\n",
        "같은 수의 남녀 모임에서 파트너를 랜덤하게 정해주는 프로그램을 만들어 보세요\n",
        "\n",
        "male = ['철수','갑돌','로미오','이몽룡','온돌']\n",
        "\n",
        "female = ['미미','갑순','줄리엣','성춘향','평강']"
      ],
      "metadata": {
        "id": "zcCN6I7ey6Yo"
      }
    },
    {
      "cell_type": "code",
      "source": [
        "from random import shuffle\n",
        "male = ['철수', '갑돌', '로미오', '이몽룡', '온돌']\n",
        "female = ['미미', '갑순', '줄리엣', '성춘형', '평강']\n",
        "\n",
        "shuffle(male)\n",
        "shuffle(female)\n",
        "\n",
        "team = zip(male, female)\n",
        "print(list(team))"
      ],
      "metadata": {
        "colab": {
          "base_uri": "https://localhost:8080/"
        },
        "id": "9D4s57SmzYp6",
        "outputId": "97ab38e4-6334-4d41-c023-1cfc084a73b1"
      },
      "execution_count": null,
      "outputs": [
        {
          "output_type": "stream",
          "name": "stdout",
          "text": [
            "[('온돌', '미미'), ('로미오', '성춘형'), ('갑돌', '줄리엣'), ('이몽룡', '갑순'), ('철수', '평강')]\n"
          ]
        }
      ]
    },
    {
      "cell_type": "markdown",
      "source": [
        "Task2_0430. 대문자, 소문자, 숫자를 포함하는 8자리 랜덤 비밀번호를 생성하는 프로그램을 작성하세요."
      ],
      "metadata": {
        "id": "S2l3ISO5y8Xr"
      }
    },
    {
      "cell_type": "code",
      "source": [
        "import random\n",
        "def random_password(len):\n",
        "    char = \"abcdefghijklmnopqrstuvwxyzABCDEFGHIJKLMNOPQRSTUVWXYZ0123456789\"\n",
        "    password = ''.join(random.choice(char) for _ in range(len))\n",
        "    return password\n",
        "\n",
        "len = 8\n",
        "ran_pass = random_password(len)\n",
        "print(ran_pass)"
      ],
      "metadata": {
        "colab": {
          "base_uri": "https://localhost:8080/"
        },
        "id": "PVca3RxEzZTE",
        "outputId": "81d3fe41-265f-4274-e52c-e32284ba9786"
      },
      "execution_count": null,
      "outputs": [
        {
          "output_type": "stream",
          "name": "stdout",
          "text": [
            "w42GE24a\n"
          ]
        }
      ]
    },
    {
      "cell_type": "markdown",
      "source": [
        "Task3_0430. 발표자 수를 랜덤하게 출력하는 프로그램을 작성하세요.(발표자 수 입력)\n",
        "\n",
        "kita = ['김성현','황강민','윤호준','류윤선','이상협','박지환','최환욱','서보선','김한결','김도현','김하준',\n",
        "        '김도원','신현진','소지승','이범석','이현석','이명신','박윤경','이도헌','김홍준']"
      ],
      "metadata": {
        "id": "Fww38GF_y-am"
      }
    },
    {
      "cell_type": "code",
      "source": [
        "import random\n",
        "\n",
        "def speaker(len):\n",
        "  kita = ['김성현','황강민','윤호준','류윤선','이상협','박지환','최환욱','서보선','김한결','김도현','김하준', '김도원','신현진','소지승','이범석','이현석','이명신','박윤경','이도헌','김홍준']\n",
        "  spe = ','.join(random.choice(kita) for _ in range(len))\n",
        "  return spe\n",
        "\n",
        "len = int(input('발표자 수 입력 : '))\n",
        "spe = speaker(len)\n",
        "print(f'발표자 : {spe}')"
      ],
      "metadata": {
        "colab": {
          "base_uri": "https://localhost:8080/"
        },
        "id": "YbN82elFzZ3E",
        "outputId": "efa63ac5-6247-48d2-ae51-eddc3a68c778"
      },
      "execution_count": null,
      "outputs": [
        {
          "output_type": "stream",
          "name": "stdout",
          "text": [
            "발표자 수 입력 : 4\n",
            "발표자 : 김성현,류윤선,이범석,윤호준\n"
          ]
        }
      ]
    },
    {
      "cell_type": "markdown",
      "source": [
        "Task4_0430. 사용자로부터 숫자를 입력받아 해당 숫자의 구구단을 출력하는 프로그램을 작성하세요."
      ],
      "metadata": {
        "id": "sMklbZDyy_Zn"
      }
    },
    {
      "cell_type": "code",
      "source": [
        "def multiplication_table(x):\n",
        "    count = 0\n",
        "    while count < 9:\n",
        "        count += 1\n",
        "        print(x, '*', count, '=', x*count)\n",
        "    else :\n",
        "        print('★'* 6)\n",
        "\n",
        "x = int(input('구구단 숫자 입력 : '))\n",
        "multiplication_table(x)"
      ],
      "metadata": {
        "colab": {
          "base_uri": "https://localhost:8080/"
        },
        "id": "lzdY9_tNzahE",
        "outputId": "385b22c8-2109-4fc8-b8da-c5d356eb3c0a"
      },
      "execution_count": null,
      "outputs": [
        {
          "output_type": "stream",
          "name": "stdout",
          "text": [
            "구구단 숫자 입력 : 9\n",
            "9 * 1 = 9\n",
            "9 * 2 = 18\n",
            "9 * 3 = 27\n",
            "9 * 4 = 36\n",
            "9 * 5 = 45\n",
            "9 * 6 = 54\n",
            "9 * 7 = 63\n",
            "9 * 8 = 72\n",
            "9 * 9 = 81\n",
            "★★★★★★\n"
          ]
        }
      ]
    },
    {
      "cell_type": "markdown",
      "source": [
        "Task5_0430. 사용자로부터 숫자를 입력받아 해당 숫자의 팩토리얼을 계산하세요."
      ],
      "metadata": {
        "id": "AGCon3G1zDTo"
      }
    },
    {
      "cell_type": "code",
      "source": [],
      "metadata": {
        "id": "CicjrvjXzbEg"
      },
      "execution_count": null,
      "outputs": []
    },
    {
      "cell_type": "markdown",
      "source": [
        "Task6_0430. 0부터 20까지의 숫자 중에서 짝수와 홀수를 분리하여 두 개의 리스트에 저장하세요."
      ],
      "metadata": {
        "id": "tkx7KuP-zF9D"
      }
    },
    {
      "cell_type": "code",
      "source": [
        "list1 = []\n",
        "list2 = []\n",
        "\n",
        "for i in range(21):\n",
        "    if i == 0:\n",
        "      continue\n",
        "    elif i % 2 == 0:\n",
        "      list1.append(i)\n",
        "    else :\n",
        "      list2.append(i)\n",
        "else :\n",
        "    print(f'짝수 : {list1}')\n",
        "    print(f'홀수 : {list2}')\n"
      ],
      "metadata": {
        "colab": {
          "base_uri": "https://localhost:8080/"
        },
        "id": "37KSdgjZzbwI",
        "outputId": "10eff058-86e2-497b-bbd3-dc18842ce36d"
      },
      "execution_count": null,
      "outputs": [
        {
          "output_type": "stream",
          "name": "stdout",
          "text": [
            "짝수 : [2, 4, 6, 8, 10, 12, 14, 16, 18, 20]\n",
            "홀수 : [1, 3, 5, 7, 9, 11, 13, 15, 17, 19]\n"
          ]
        }
      ]
    },
    {
      "cell_type": "markdown",
      "source": [
        "Task7_0430. 주어진 리스트에서 최대값을 찾아 출력하세요."
      ],
      "metadata": {
        "id": "GZVC5jjezLCJ"
      }
    },
    {
      "cell_type": "code",
      "source": [
        "numbers = [34, 78, 2, 45, 99, 23]\n",
        "max = numbers[0]\n",
        "\n",
        "for i in numbers:\n",
        "    if max < i:\n",
        "      max = i\n",
        "    else :\n",
        "      continue\n",
        "print(max)"
      ],
      "metadata": {
        "colab": {
          "base_uri": "https://localhost:8080/"
        },
        "id": "BFiwrjjszcR9",
        "outputId": "4fb130e8-1c67-4c63-a4e7-06750c75d8a1"
      },
      "execution_count": null,
      "outputs": [
        {
          "output_type": "stream",
          "name": "stdout",
          "text": [
            "99\n"
          ]
        }
      ]
    },
    {
      "cell_type": "markdown",
      "source": [
        "Task8_0430.  1부터 10 사이의 임의의 숫자를 맞추는 게임을 만드세요. 사용자가 숫자를 맞출 때까지 입력을 계속 받으며, 정답을 맞추면 게임을 종료하세요. 단, 입력 숫자가 정답보다 큰지 작은지 힌트를 주는 방식으로 코드 작성"
      ],
      "metadata": {
        "id": "NKoqCKsOzODN"
      }
    },
    {
      "cell_type": "code",
      "source": [
        "# random.randint(x, y)\n",
        "import random\n",
        "\n",
        "random_num = random.randint(1, 10)\n",
        "while 1:\n",
        "    num = int(input('숫자를 입력하세요.'))\n",
        "    if random_num == num:\n",
        "      print(f'{random_num}이 정답 입니다.')\n",
        "      break\n",
        "    elif random_num > num:\n",
        "         print('up')\n",
        "    else :\n",
        "         print('down')"
      ],
      "metadata": {
        "id": "nnP2I0TEzcv3",
        "colab": {
          "base_uri": "https://localhost:8080/"
        },
        "outputId": "d6acd32b-7974-47b0-d60f-3c1a045060d7"
      },
      "execution_count": 8,
      "outputs": [
        {
          "output_type": "stream",
          "name": "stdout",
          "text": [
            "숫자를 입력하세요.4\n",
            "up\n",
            "숫자를 입력하세요.6\n",
            "up\n",
            "숫자를 입력하세요.7\n",
            "up\n",
            "숫자를 입력하세요.9\n",
            "down\n",
            "숫자를 입력하세요.8\n",
            "8이 정답 입니다.\n"
          ]
        }
      ]
    },
    {
      "cell_type": "markdown",
      "source": [
        "Task9_0430. 태어난 연도를 입력받아 띠를 출력하는 프로그램을 작성하세요."
      ],
      "metadata": {
        "id": "lSvgzV1kzRgx"
      }
    },
    {
      "cell_type": "code",
      "source": [],
      "metadata": {
        "id": "nkFG31CszdOr"
      },
      "execution_count": null,
      "outputs": []
    },
    {
      "cell_type": "markdown",
      "source": [
        "Task10_0430. 아래 사항을 반영하여 커피 자판기 프로그램을 작성하세요.\n",
        "- 시나리오 : 자판기 커피 재고 5잔, 커피 1잔 가격 300원, 재고 범위내에서 300원 이상 돈을 넣으면 거스름돈과 커피를 주고 그렇지 않으면 반환하며 재고가 소진되면 안내멘트 출력\n",
        "- 각 Case별 멘트 출력은 상황에 맞게 창작\n",
        "- while, if ~ elif ~ else 제어문을 사용하여 작성"
      ],
      "metadata": {
        "id": "9miZMMtRzTXJ"
      }
    },
    {
      "cell_type": "code",
      "source": [],
      "metadata": {
        "id": "S1S-I4P7zdr6"
      },
      "execution_count": null,
      "outputs": []
    }
  ]
}